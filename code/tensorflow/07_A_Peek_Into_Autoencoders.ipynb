{
 "cells": [
  {
   "cell_type": "markdown",
   "metadata": {},
   "source": [
    "## 7.2 Autoencoder"
   ]
  },
  {
   "cell_type": "code",
   "execution_count": null,
   "metadata": {
    "collapsed": false
   },
   "outputs": [],
   "source": [
    "import numpy as np\n",
    "import tensorflow as tf\n",
    "from sklearn import datasets\n",
    "\n",
    "class Autoencoder:\n",
    "    def __init__(self, input_dim, hidden_dim, epoch=250, learning_rate=0.001):\n",
    "        self.epoch = epoch\n",
    "        self.learning_rate = learning_rate\n",
    "        \n",
    "        x = tf.placeholder(dtype=tf.float32, shape=[None, input_dim])\n",
    "        \n",
    "        with tf.name_scope('encode'):\n",
    "            weights = tf.Variable(tf.random_normal([input_dim, hidden_dim], dtype=tf.float32), name='weights')\n",
    "            biases = tf.Variable(tf.zeros([hidden_dim]), name='biases')\n",
    "            encoded = tf.nn.tanh(tf.matmul(x, weights) + biases)\n",
    "        with tf.name_scope('decode'):\n",
    "            weights = tf.Variable(tf.random_normal([hidden_dim, input_dim], dtype=tf.float32), name='weights')\n",
    "            biases = tf.Variable(tf.zeros([input_dim]), name='biases')\n",
    "            decoded = tf.matmul(encoded, weights) + biases\n",
    "            \n",
    "        self.x = x\n",
    "        self.encoded = encoded\n",
    "        self.decoded = decoded\n",
    "        self.loss = tf.sqrt(tf.reduce_mean(tf.square(tf.subtract(self.x, self.decoded))))\n",
    "        \n",
    "        self.train_op = tf.train.RMSPropOptimizer(self.learning_rate).minimize(self.loss)\n",
    "        self.saver = tf.train.Saver()\n",
    "        \n",
    "    def train(self, data):\n",
    "        num_samples = len(data)\n",
    "        with tf.Session() as sess:\n",
    "            sess.run(tf.global_variables_initializer())\n",
    "            for i in range(self.epoch):\n",
    "                for j in range(num_samples):\n",
    "                    l, _ = sess.run([self.loss, self.train_op], feed_dict={self.x:[data[j]]})\n",
    "                if i % 10 == 0:\n",
    "                    print('epoch {0}: loss = {1}'.format(i, l))\n",
    "                    self.saver.save(sess, './model.ckpt')\n",
    "            self.saver.save(sess, './model.ckpt')\n",
    "    def test(self, data):\n",
    "        with tf.Session() as sess:\n",
    "            self.saver.restore(sess, \"./model.ckpt\")\n",
    "            hidden, reconstructed = sess.run([self.encoded, self.decoded], feed_dict={self.x:data})\n",
    "            print('input',data)\n",
    "            print('compressed', hidden)\n",
    "            print('reconstructed', reconstructed)\n",
    "            return reconstructed\n",
    "        \n",
    "hidden_dim = 1\n",
    "data = datasets.load_iris().data\n",
    "input_dim = len(data[0])\n",
    "ae = Autoencoder(input_dim, hidden_dim)\n",
    "ae.train(data)\n",
    "ae.test([[8, 4, 6, 2]])"
   ]
  },
  {
   "cell_type": "markdown",
   "metadata": {},
   "source": [
    "## 7.3 Batch training"
   ]
  },
  {
   "cell_type": "markdown",
   "metadata": {},
   "source": [
    "* 시간에 대한 압력이 없다면, 네트워크를 하나씩 훈련하는 것이 가장 안전한 방법이다.\n",
    "* 하지만 네트워크가 원하는 시간보다 오래 걸린다면, 입력으로 한번에 여러 데이터를 넣고 훈련하는 것이 좋은 해결책이며 이를 batch training이라고 부른다.\n",
    "* 일반적으로 batch size가 증가되면 알고리즘의 속도는 빨라지지만, 성공적인 수렴은 거의 보장되지 않는다.\n",
    "* 양날의 칼과도 같기 때문에 적절한 사용이 필요하다.\n"
   ]
  },
  {
   "cell_type": "code",
   "execution_count": 14,
   "metadata": {
    "collapsed": false
   },
   "outputs": [],
   "source": [
    "import numpy as np\n",
    "import tensorflow as tf\n",
    "from sklearn import datasets\n",
    "\n",
    "class Autoencoder:\n",
    "    def __init__(self, input_dim, hidden_dim, epoch=250, batch_size=10, learning_rate=0.001):\n",
    "        self.epoch = epoch\n",
    "        self.learning_rate = learning_rate\n",
    "        self.batch_size = batch_size\n",
    "        \n",
    "        x = tf.placeholder(dtype=tf.float32, shape=[None, input_dim])\n",
    "        \n",
    "        with tf.name_scope('encode'):\n",
    "            weights = tf.Variable(tf.random_normal([input_dim, hidden_dim], dtype=tf.float32), name='weights')\n",
    "            biases = tf.Variable(tf.zeros([hidden_dim]), name='biases')\n",
    "            encoded = tf.nn.tanh(tf.matmul(x, weights) + biases)\n",
    "        with tf.name_scope('decode'):\n",
    "            weights = tf.Variable(tf.random_normal([hidden_dim, input_dim], dtype=tf.float32), name='weights')\n",
    "            biases = tf.Variable(tf.zeros([input_dim]), name='biases')\n",
    "            decoded = tf.matmul(encoded, weights) + biases\n",
    "            \n",
    "        self.x = x\n",
    "        self.encoded = encoded\n",
    "        self.decoded = decoded\n",
    "        self.loss = tf.sqrt(tf.reduce_mean(tf.square(tf.subtract(self.x, self.decoded))))\n",
    "        \n",
    "        self.train_op = tf.train.RMSPropOptimizer(self.learning_rate).minimize(self.loss)\n",
    "        self.saver = tf.train.Saver()\n",
    "\n",
    "    def get_batch(self,X, size):\n",
    "        a = np.random.choice(len(X), size, replace=False)\n",
    "        return X[a]\n",
    "\n",
    "    def train(self, data):\n",
    "        with tf.Session() as sess:\n",
    "            sess.run(tf.global_variables_initializer())\n",
    "            for i in range(self.epoch):\n",
    "                for j in range(np.shape(data)[0] // self.batch_size):\n",
    "                    batch_data = self.get_batch(data, self.batch_size)\n",
    "                    l, _ = sess.run([self.loss, self.train_op], feed_dict={self.x:batch_data})\n",
    "                if i % 10 == 0:\n",
    "                    print('epoch {0}: loss = {1}'.format(i, l))\n",
    "                    self.saver.save(sess, './model.ckpt')\n",
    "            self.saver.save(sess, './model.ckpt')\n",
    "    def test(self, data):\n",
    "        with tf.Session() as sess:\n",
    "            self.saver.restore(sess, \"./model.ckpt\")\n",
    "            hidden, reconstructed = sess.run([self.encoded, self.decoded], feed_dict={self.x:data})\n",
    "            print('input',data)\n",
    "            print('compressed', hidden)\n",
    "            print('reconstructed', reconstructed)\n",
    "            return reconstructed"
   ]
  },
  {
   "cell_type": "code",
   "execution_count": null,
   "metadata": {
    "collapsed": true
   },
   "outputs": [],
   "source": [
    "hidden_dim = 1\n",
    "data = datasets.load_iris().data\n",
    "input_dim = len(data[0])\n",
    "print(np.shape(data))\n",
    "print(np.shape(data)[0] // 10)\n",
    "ae = Autoencoder(input_dim, hidden_dim)\n",
    "ae.train(data)\n",
    "ae.test([[8, 4, 6, 2]])"
   ]
  },
  {
   "cell_type": "code",
   "execution_count": 24,
   "metadata": {
    "collapsed": false
   },
   "outputs": [],
   "source": [
    "import pickle\n",
    "import numpy as np\n",
    "import matplotlib.pyplot as plt\n",
    "%matplotlib inline\n",
    "\n",
    "def unpickle(file):\n",
    "    fo = open(file, 'rb')\n",
    "    dict = pickle.load(fo)\n",
    "    fo.close()\n",
    "    return dict\n",
    "\n",
    "def grayscale(a):\n",
    "    return a.reshape(a.shape[0], 3, 32, 32).mean(1).reshape(a.shape[0], -1)\n",
    "\n",
    "def data_show(data, data_len):\n",
    "    plt.rcParams['figure.figsize'] = (2, 2)\n",
    "    for i in range(data_len):\n",
    "        img = np.reshape(data[i,:], (32, 32))\n",
    "        plt.subplot(1, data_len, i+1)\n",
    "        plt.imshow(img, cmap='gray')\n",
    "        \n",
    "names = unpickle('./cifar-10-batches-py/batches.meta')['label_names']\n",
    "\n",
    "data, labels = [], []\n",
    "for i in range(1, 6):\n",
    "    filename = './cifar-10-batches-py/data_batch_' + str(i)\n",
    "    batch_data = unpickle(filename)\n",
    "    if len(data) > 0:\n",
    "        data = np.vstack((data, batch_data['data']))\n",
    "        labels = np.hstack((labels, batch_data['labels']))\n",
    "    else:\n",
    "        data = batch_data['data']\n",
    "        labels = batch_data['labels']"
   ]
  },
  {
   "cell_type": "code",
   "execution_count": 25,
   "metadata": {
    "collapsed": false
   },
   "outputs": [
    {
     "name": "stdout",
     "output_type": "stream",
     "text": [
      "epoch 0: loss = 103.323234558\n",
      "epoch 10: loss = 55.1757621765\n",
      "epoch 20: loss = 52.0701446533\n",
      "epoch 30: loss = 47.649017334\n",
      "epoch 40: loss = 51.8785972595\n",
      "epoch 50: loss = 45.6655502319\n",
      "epoch 60: loss = 49.934425354\n",
      "epoch 70: loss = 44.3475494385\n",
      "epoch 80: loss = 44.2085418701\n",
      "epoch 90: loss = 45.0628814697\n",
      "epoch 100: loss = 48.9632987976\n",
      "epoch 110: loss = 52.0625457764\n",
      "epoch 120: loss = 58.7059288025\n",
      "epoch 130: loss = 41.6833114624\n",
      "epoch 140: loss = 46.6377182007\n",
      "epoch 150: loss = 49.4438781738\n",
      "epoch 160: loss = 51.671875\n",
      "epoch 170: loss = 47.7374763489\n",
      "epoch 180: loss = 45.4989852905\n",
      "epoch 190: loss = 53.5972251892\n",
      "epoch 200: loss = 49.1871070862\n",
      "epoch 210: loss = 54.024646759\n",
      "epoch 220: loss = 51.8799819946\n",
      "epoch 230: loss = 46.0912590027\n",
      "epoch 240: loss = 42.0753364563\n",
      "epoch 250: loss = 46.9543113708\n",
      "epoch 260: loss = 49.1059188843\n",
      "epoch 270: loss = 43.8588409424\n",
      "epoch 280: loss = 42.5759353638\n",
      "epoch 290: loss = 49.4515571594\n",
      "epoch 300: loss = 51.7918319702\n",
      "epoch 310: loss = 47.3680000305\n",
      "epoch 320: loss = 48.0678291321\n",
      "epoch 330: loss = 45.4522132874\n",
      "epoch 340: loss = 51.4630889893\n",
      "epoch 350: loss = 48.9916725159\n",
      "epoch 360: loss = 49.4797782898\n",
      "epoch 370: loss = 46.4416427612\n",
      "epoch 380: loss = 47.6248550415\n",
      "epoch 390: loss = 48.0804443359\n",
      "epoch 400: loss = 48.2921485901\n",
      "epoch 410: loss = 43.9552764893\n",
      "epoch 420: loss = 44.124420166\n",
      "epoch 430: loss = 49.6205177307\n",
      "epoch 440: loss = 44.1094093323\n",
      "epoch 450: loss = 51.2586746216\n",
      "epoch 460: loss = 41.7611312866\n",
      "epoch 470: loss = 47.1297912598\n",
      "epoch 480: loss = 44.974773407\n",
      "epoch 490: loss = 53.7661552429\n",
      "epoch 500: loss = 43.9122047424\n",
      "epoch 510: loss = 49.8184967041\n",
      "epoch 520: loss = 51.198474884\n",
      "epoch 530: loss = 41.5679702759\n",
      "epoch 540: loss = 53.6088256836\n",
      "epoch 550: loss = 45.2492675781\n",
      "epoch 560: loss = 47.8507041931\n",
      "epoch 570: loss = 45.6064300537\n",
      "epoch 580: loss = 45.420375824\n",
      "epoch 590: loss = 47.0584602356\n",
      "epoch 600: loss = 42.5683059692\n",
      "epoch 610: loss = 45.9234390259\n",
      "epoch 620: loss = 45.3273849487\n",
      "epoch 630: loss = 46.0926551819\n",
      "epoch 640: loss = 51.7990455627\n",
      "epoch 650: loss = 51.0052452087\n",
      "epoch 660: loss = 53.5802307129\n",
      "epoch 670: loss = 49.8026123047\n",
      "epoch 680: loss = 45.5817718506\n",
      "epoch 690: loss = 47.5734977722\n",
      "epoch 700: loss = 45.0893440247\n",
      "epoch 710: loss = 57.1895866394\n",
      "epoch 720: loss = 46.239616394\n",
      "epoch 730: loss = 51.2371559143\n",
      "epoch 740: loss = 48.9325447083\n",
      "epoch 750: loss = 45.3050422668\n",
      "epoch 760: loss = 51.6869888306\n",
      "epoch 770: loss = 42.5785865784\n",
      "epoch 780: loss = 56.6702041626\n",
      "epoch 790: loss = 49.6792182922\n",
      "epoch 800: loss = 44.6542930603\n",
      "epoch 810: loss = 47.4992599487\n",
      "epoch 820: loss = 49.2182884216\n",
      "epoch 830: loss = 44.9576644897\n",
      "epoch 840: loss = 45.4844589233\n",
      "epoch 850: loss = 46.0173377991\n",
      "epoch 860: loss = 47.6900558472\n",
      "epoch 870: loss = 52.9663619995\n",
      "epoch 880: loss = 47.1472358704\n",
      "epoch 890: loss = 46.6938514709\n",
      "epoch 900: loss = 47.8242416382\n",
      "epoch 910: loss = 44.9926719666\n",
      "epoch 920: loss = 49.4137268066\n",
      "epoch 930: loss = 47.6676254272\n",
      "epoch 940: loss = 46.5397338867\n",
      "epoch 950: loss = 42.7312202454\n",
      "epoch 960: loss = 50.7573547363\n",
      "epoch 970: loss = 49.9796218872\n",
      "epoch 980: loss = 48.0008735657\n",
      "epoch 990: loss = 44.5514602661\n"
     ]
    }
   ],
   "source": [
    "data = grayscale(data)\n",
    "\n",
    "x = np.matrix(data)\n",
    "y = np.array(labels)\n",
    "\n",
    "horse_indices = np.where(y == 7)[0]\n",
    "horse_x = x[horse_indices]\n",
    "\n",
    "input_dim = np.shape(horse_x)[1]\n",
    "hidden_dim = 100\n",
    "ae = Autoencoder(input_dim, hidden_dim, 1000)\n",
    "ae.train(horse_x)"
   ]
  },
  {
   "cell_type": "code",
   "execution_count": 26,
   "metadata": {
    "collapsed": false
   },
   "outputs": [
    {
     "name": "stdout",
     "output_type": "stream",
     "text": [
      "(1, 1024)\n"
     ]
    },
    {
     "data": {
      "image/png": "[encoded data removed]",
      "text/plain": [
       "<matplotlib.figure.Figure at 0x7f5751624750>"
      ]
     },
     "metadata": {},
     "output_type": "display_data"
    }
   ],
   "source": [
    "test_data = unpickle('./cifar-10-batches-py/test_batch')\n",
    "test_x = grayscale(test_data['data'])\n",
    "test_labels = np.array(test_data['labels'])\n",
    "test_1 = test_x[13].reshape(1, np.shape(test_x[13])[0])\n",
    "print(np.shape(test_1))\n",
    "data_show(test_1, 1)"
   ]
  },
  {
   "cell_type": "code",
   "execution_count": 27,
   "metadata": {
    "collapsed": false
   },
   "outputs": [
    {
     "name": "stdout",
     "output_type": "stream",
     "text": [
      "('input', array([[ 34.        ,  60.66666667,  36.33333333, ...,   5.        ,\n",
      "          3.66666667,   5.        ]]))\n",
      "('compressed', array([[ 1., -1.,  1.,  1.,  1.,  1.,  1., -1., -1., -1., -1., -1., -1.,\n",
      "         1.,  1.,  1.,  1.,  1., -1., -1.,  1.,  1., -1.,  1.,  1.,  1.,\n",
      "        -1.,  1., -1.,  1., -1.,  1., -1.,  1., -1., -1., -1., -1.,  1.,\n",
      "         1.,  1.,  1., -1.,  1.,  1.,  1., -1.,  1.,  1., -1., -1.,  1.,\n",
      "         1.,  1., -1.,  1., -1.,  1., -1.,  1., -1.,  1., -1.,  1., -1.,\n",
      "         1., -1., -1., -1.,  1., -1., -1., -1., -1., -1., -1.,  1.,  1.,\n",
      "        -1., -1.,  1., -1., -1., -1.,  1., -1., -1., -1.,  1., -1., -1.,\n",
      "         1., -1., -1., -1.,  1.,  1., -1.,  1., -1.]], dtype=float32))\n",
      "('reconstructed', array([[-12.63776112,  -8.10105038,  -6.64948606, ...,   0.62115502,\n",
      "          2.36373949,  10.83516312]], dtype=float32))\n",
      "(1, 1024)\n"
     ]
    },
    {
     "data": {
      "image/png": "[encoded data removed]",
      "text/plain": [
       "<matplotlib.figure.Figure at 0x7f574f9b3090>"
      ]
     },
     "metadata": {},
     "output_type": "display_data"
    }
   ],
   "source": [
    "reconst = ae.test(test_1)\n",
    "print(np.shape(reconst))\n",
    "data_show(reconst, 1)"
   ]
  },
  {
   "cell_type": "code",
   "execution_count": null,
   "metadata": {
    "collapsed": true
   },
   "outputs": [],
   "source": []
  }
 ],
 "metadata": {
  "kernelspec": {
   "display_name": "python2",
   "language": "python",
   "name": "python2"
  },
  "language_info": {
   "codemirror_mode": {
    "name": "ipython",
    "version": 2
   },
   "file_extension": ".py",
   "mimetype": "text/x-python",
   "name": "python",
   "nbconvert_exporter": "python",
   "pygments_lexer": "ipython2",
   "version": "2.7.6"
  }
 },
 "nbformat": 4,
 "nbformat_minor": 0
}
