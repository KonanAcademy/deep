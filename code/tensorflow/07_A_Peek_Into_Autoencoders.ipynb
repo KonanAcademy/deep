{
 "cells": [
  {
   "cell_type": "markdown",
   "metadata": {},
   "source": [
    "## 7.2 Autoencoder"
   ]
  },
  {
   "cell_type": "code",
   "execution_count": 5,
   "metadata": {
    "collapsed": false
   },
   "outputs": [
    {
     "name": "stdout",
     "output_type": "stream",
     "text": [
      "epoch 0: loss = 4.53341150284\n",
      "epoch 10: loss = 2.17578554153\n",
      "epoch 20: loss = 1.18200922012\n",
      "epoch 30: loss = 0.668567299843\n",
      "epoch 40: loss = 0.418907284737\n",
      "epoch 50: loss = 0.388832002878\n",
      "epoch 60: loss = 0.383747577667\n",
      "epoch 70: loss = 0.37843900919\n",
      "epoch 80: loss = 0.369272381067\n",
      "epoch 90: loss = 0.354299098253\n",
      "epoch 100: loss = 0.334111690521\n",
      "epoch 110: loss = 0.314820200205\n",
      "epoch 120: loss = 0.29385098815\n",
      "epoch 130: loss = 0.26940742135\n",
      "epoch 140: loss = 0.250785768032\n",
      "epoch 150: loss = 0.228750839829\n",
      "epoch 160: loss = 0.213939428329\n",
      "epoch 170: loss = 0.213330283761\n",
      "epoch 180: loss = 0.215298101306\n",
      "epoch 190: loss = 0.216015771031\n",
      "epoch 200: loss = 0.21477355063\n",
      "epoch 210: loss = 0.214092597365\n",
      "epoch 220: loss = 0.214185386896\n",
      "epoch 230: loss = 0.214667573571\n",
      "epoch 240: loss = 0.215232625604\n",
      "('input', [[8, 4, 6, 2]])\n",
      "('compressed', array([[-0.63872153]], dtype=float32))\n",
      "('reconstructed', array([[ 6.45275974,  2.85445881,  5.3974576 ,  1.90080643]], dtype=float32))\n"
     ]
    },
    {
     "data": {
      "text/plain": [
       "array([[ 6.45275974,  2.85445881,  5.3974576 ,  1.90080643]], dtype=float32)"
      ]
     },
     "execution_count": 5,
     "metadata": {},
     "output_type": "execute_result"
    }
   ],
   "source": [
    "import numpy as np\n",
    "import tensorflow as tf\n",
    "from sklearn import datasets\n",
    "\n",
    "class Autoencoder:\n",
    "    def __init__(self, input_dim, hidden_dim, epoch=250, learning_rate=0.001):\n",
    "        self.epoch = epoch\n",
    "        self.learning_rate = learning_rate\n",
    "        \n",
    "        x = tf.placeholder(dtype=tf.float32, shape=[None, input_dim])\n",
    "        \n",
    "        with tf.name_scope('encode'):\n",
    "            weights = tf.Variable(tf.random_normal([input_dim, hidden_dim], dtype=tf.float32), name='weights')\n",
    "            biases = tf.Variable(tf.zeros([hidden_dim]), name='biases')\n",
    "            encoded = tf.nn.tanh(tf.matmul(x, weights) + biases)\n",
    "        with tf.name_scope('decode'):\n",
    "            weights = tf.Variable(tf.random_normal([hidden_dim, input_dim], dtype=tf.float32), name='weights')\n",
    "            biases = tf.Variable(tf.zeros([input_dim]), name='biases')\n",
    "            decoded = tf.matmul(encoded, weights) + biases\n",
    "            \n",
    "        self.x = x\n",
    "        self.encoded = encoded\n",
    "        self.decoded = decoded\n",
    "        self.loss = tf.sqrt(tf.reduce_mean(tf.square(tf.subtract(self.x, self.decoded))))\n",
    "        \n",
    "        self.train_op = tf.train.RMSPropOptimizer(self.learning_rate).minimize(self.loss)\n",
    "        self.saver = tf.train.Saver()\n",
    "        \n",
    "    def train(self, data):\n",
    "        num_samples = len(data)\n",
    "        with tf.Session() as sess:\n",
    "            sess.run(tf.global_variables_initializer())\n",
    "            for i in range(self.epoch):\n",
    "                for j in range(num_samples):\n",
    "                    l, _ = sess.run([self.loss, self.train_op], feed_dict={self.x:[data[j]]})\n",
    "                if i % 10 == 0:\n",
    "                    print('epoch {0}: loss = {1}'.format(i, l))\n",
    "                    self.saver.save(sess, './model.ckpt')\n",
    "            self.saver.save(sess, './model.ckpt')\n",
    "    def test(self, data):\n",
    "        with tf.Session() as sess:\n",
    "            self.saver.restore(sess, \"./model.ckpt\")\n",
    "            hidden, reconstructed = sess.run([self.encoded, self.decoded], feed_dict={self.x:data})\n",
    "            print('input',data)\n",
    "            print('compressed', hidden)\n",
    "            print('reconstructed', reconstructed)\n",
    "            return reconstructed\n",
    "        \n",
    "hidden_dim = 1\n",
    "data = datasets.load_iris().data\n",
    "input_dim = len(data[0])\n",
    "ae = Autoencoder(input_dim, hidden_dim)\n",
    "ae.train(data)\n",
    "ae.test([[8, 4, 6, 2]])"
   ]
  },
  {
   "cell_type": "markdown",
   "metadata": {},
   "source": [
    "## 7.3 Batch training"
   ]
  },
  {
   "cell_type": "markdown",
   "metadata": {},
   "source": [
    "* 시간에 대한 압력이 없다면, 네트워크를 하나씩 훈련하는 것이 가장 안전한 방법이다.\n",
    "* 하지만 네트워크가 원하는 시간보다 오래 걸린다면, 입력으로 한번에 여러 데이터를 넣고 훈련하는 것이 좋은 해결책이며 이를 batch training이라고 부른다.\n",
    "* 일반적으로 batch size가 증가되면 알고리즘의 속도는 빨라지지만, 성공적인 수렴은 거의 보장되지 않는다.\n",
    "* 양날의 칼과도 같기 때문에 적절한 사용이 필요하다.\n"
   ]
  },
  {
   "cell_type": "code",
   "execution_count": 8,
   "metadata": {
    "collapsed": false
   },
   "outputs": [
    {
     "name": "stdout",
     "output_type": "stream",
     "text": [
      "epoch 0: loss = 3.52132701874\n",
      "epoch 10: loss = 3.4291934967\n",
      "epoch 20: loss = 4.0539894104\n",
      "epoch 30: loss = 3.65123748779\n",
      "epoch 40: loss = 3.64075255394\n",
      "epoch 50: loss = 3.66780972481\n",
      "epoch 60: loss = 3.89273262024\n",
      "epoch 70: loss = 3.72357821465\n",
      "epoch 80: loss = 3.45523881912\n",
      "epoch 90: loss = 3.41217517853\n",
      "epoch 100: loss = 3.88508605957\n",
      "epoch 110: loss = 3.63075590134\n",
      "epoch 120: loss = 3.20593881607\n",
      "epoch 130: loss = 3.90278840065\n",
      "epoch 140: loss = 3.59414052963\n",
      "epoch 150: loss = 3.6022670269\n",
      "epoch 160: loss = 3.67340016365\n",
      "epoch 170: loss = 3.19579434395\n",
      "epoch 180: loss = 3.24538803101\n",
      "epoch 190: loss = 3.38957095146\n",
      "epoch 200: loss = 3.44335532188\n",
      "epoch 210: loss = 3.75995755196\n",
      "epoch 220: loss = 3.2501282692\n",
      "epoch 230: loss = 3.95871853828\n",
      "epoch 240: loss = 3.28261899948\n",
      "epoch 250: loss = 3.25385737419\n",
      "epoch 260: loss = 3.38012862206\n",
      "epoch 270: loss = 3.1948621273\n",
      "epoch 280: loss = 3.22942376137\n",
      "epoch 290: loss = 3.02328872681\n",
      "epoch 300: loss = 3.59085869789\n",
      "epoch 310: loss = 2.9752175808\n",
      "epoch 320: loss = 3.13520932198\n",
      "epoch 330: loss = 3.15952086449\n",
      "epoch 340: loss = 3.14692831039\n",
      "epoch 350: loss = 3.40124559402\n",
      "epoch 360: loss = 3.26311206818\n",
      "epoch 370: loss = 3.38696980476\n",
      "epoch 380: loss = 3.08989548683\n",
      "epoch 390: loss = 2.95177054405\n",
      "epoch 400: loss = 3.59286642075\n",
      "epoch 410: loss = 3.16988778114\n",
      "epoch 420: loss = 2.97448134422\n",
      "epoch 430: loss = 3.00842618942\n",
      "epoch 440: loss = 3.05673956871\n",
      "epoch 450: loss = 3.17731523514\n",
      "epoch 460: loss = 2.93749213219\n",
      "epoch 470: loss = 3.10880279541\n",
      "epoch 480: loss = 2.88702368736\n",
      "epoch 490: loss = 3.14143872261\n",
      "('input', [[8, 4, 6, 2]])\n",
      "('compressed', array([[ 1.]], dtype=float32))\n",
      "('reconstructed', array([[ 1.27258229,  0.7419734 ,  1.94552088,  0.46711466]], dtype=float32))\n"
     ]
    },
    {
     "data": {
      "text/plain": [
       "array([[ 1.27258229,  0.7419734 ,  1.94552088,  0.46711466]], dtype=float32)"
      ]
     },
     "execution_count": 8,
     "metadata": {},
     "output_type": "execute_result"
    }
   ],
   "source": [
    "import numpy as np\n",
    "import tensorflow as tf\n",
    "from sklearn import datasets\n",
    "\n",
    "class Autoencoder:\n",
    "    def __init__(self, input_dim, hidden_dim, epoch=250, batch_size=10, learning_rate=0.001):\n",
    "        self.epoch = epoch\n",
    "        self.learning_rate = learning_rate\n",
    "        self.batch_size = batch_size\n",
    "        \n",
    "        x = tf.placeholder(dtype=tf.float32, shape=[None, input_dim])\n",
    "        \n",
    "        with tf.name_scope('encode'):\n",
    "            weights = tf.Variable(tf.random_normal([input_dim, hidden_dim], dtype=tf.float32), name='weights')\n",
    "            biases = tf.Variable(tf.zeros([hidden_dim]), name='biases')\n",
    "            encoded = tf.nn.tanh(tf.matmul(x, weights) + biases)\n",
    "        with tf.name_scope('decode'):\n",
    "            weights = tf.Variable(tf.random_normal([hidden_dim, input_dim], dtype=tf.float32), name='weights')\n",
    "            biases = tf.Variable(tf.zeros([input_dim]), name='biases')\n",
    "            decoded = tf.matmul(encoded, weights) + biases\n",
    "            \n",
    "        self.x = x\n",
    "        self.encoded = encoded\n",
    "        self.decoded = decoded\n",
    "        self.loss = tf.sqrt(tf.reduce_mean(tf.square(tf.subtract(self.x, self.decoded))))\n",
    "        \n",
    "        self.train_op = tf.train.RMSPropOptimizer(self.learning_rate).minimize(self.loss)\n",
    "        self.saver = tf.train.Saver()\n",
    "\n",
    "    def get_batch(X, size):\n",
    "        a = np.random.choice(len(X), size, replace=False)\n",
    "        return X[a]\n",
    "\n",
    "    def train(self, data):\n",
    "        with tf.Session() as sess:\n",
    "            sess.run(tf.global_variables_initializer())\n",
    "            for i in range(500):\n",
    "                batch_data = get_batch(data, self.batch_size)\n",
    "                l, _ = sess.run([self.loss, self.train_op], feed_dict={self.x:batch_data})\n",
    "                if i % 10 == 0:\n",
    "                    print('epoch {0}: loss = {1}'.format(i, l))\n",
    "                    self.saver.save(sess, './model.ckpt')\n",
    "            self.saver.save(sess, './model.ckpt')\n",
    "    def test(self, data):\n",
    "        with tf.Session() as sess:\n",
    "            self.saver.restore(sess, \"./model.ckpt\")\n",
    "            hidden, reconstructed = sess.run([self.encoded, self.decoded], feed_dict={self.x:data})\n",
    "            print('input',data)\n",
    "            print('compressed', hidden)\n",
    "            print('reconstructed', reconstructed)\n",
    "            return reconstructed\n",
    "        \n",
    "hidden_dim = 1\n",
    "data = datasets.load_iris().data\n",
    "input_dim = len(data[0])\n",
    "ae = Autoencoder(input_dim, hidden_dim)\n",
    "ae.train(data)\n",
    "ae.test([[8, 4, 6, 2]])"
   ]
  },
  {
   "cell_type": "code",
   "execution_count": null,
   "metadata": {
    "collapsed": true
   },
   "outputs": [],
   "source": []
  }
 ],
 "metadata": {
  "kernelspec": {
   "display_name": "python2",
   "language": "python",
   "name": "python2"
  },
  "language_info": {
   "codemirror_mode": {
    "name": "ipython",
    "version": 2
   },
   "file_extension": ".py",
   "mimetype": "text/x-python",
   "name": "python",
   "nbconvert_exporter": "python",
   "pygments_lexer": "ipython2",
   "version": "2.7.6"
  }
 },
 "nbformat": 4,
 "nbformat_minor": 0
}
