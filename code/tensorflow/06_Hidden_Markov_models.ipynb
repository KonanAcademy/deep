{
 "cells": [
  {
   "cell_type": "markdown",
   "metadata": {},
   "source": [
    "## Define the HMM class"
   ]
  },
  {
   "cell_type": "code",
   "execution_count": 53,
   "metadata": {
    "collapsed": false
   },
   "outputs": [
    {
     "name": "stdout",
     "output_type": "stream",
     "text": [
      "Probability of observing [0, 1, 1, 2, 1] is 0.0046421488\n",
      "(array([[ 0.084],\n",
      "       [ 0.027]]), array([0, 0]))\n",
      "(array([[ 0.02352],\n",
      "       [ 0.00756]]), array([0, 0]))\n",
      "(array([[ 0.0016464],\n",
      "       [ 0.0042336]]), array([0, 0]))\n",
      "(array([[ 0.00067738],\n",
      "       [ 0.00076205]]), array([1, 1]))\n",
      "[[-1  0  0  0  1]\n",
      " [-1  0  0  0  1]]\n",
      "[1]\n",
      "[1, 1, 0, 0, 0]\n",
      "Most likely hidden states are [0, 0, 0, 1, 1]\n"
     ]
    }
   ],
   "source": [
    "import numpy as np\n",
    "import tensorflow as tf\n",
    "\n",
    "class HMM(object):\n",
    "    def __init__(self, initial_prob, trans_prob, obs_prob):\n",
    "        self.N = np.size(initial_prob)\n",
    "        self.initial_prob = initial_prob\n",
    "        self.trans_prob = trans_prob\n",
    "        self.emission = tf.constant(obs_prob)\n",
    "        \n",
    "        assert self.initial_prob.shape == (self.N, 1)\n",
    "        assert self.trans_prob.shape == (self.N, self.N)\n",
    "        assert obs_prob.shape[0] == self.N\n",
    "        \n",
    "        self.viterbi = tf.placeholder(tf.float64)\n",
    "        self.obs_idx = tf.placeholder(tf.int32)\n",
    "        self.fwd = tf.placeholder(tf.float64)\n",
    "    \n",
    "    def get_emission(self, obs_idx):\n",
    "        slice_location = [0, obs_idx]\n",
    "        num_rows = tf.shape(self.emission)[0]\n",
    "        slice_shape = [num_rows, 1]\n",
    "        return tf.slice(self.emission, slice_location, slice_shape)\n",
    "    \n",
    "    def forward_init_op(self):\n",
    "        obs_prob = self.get_emission(self.obs_idx)\n",
    "        fwd = tf.mul(self.initial_prob, obs_prob)\n",
    "        return fwd\n",
    "    \n",
    "    def forward_op(self):\n",
    "        transitions = tf.matmul(self.fwd, tf.transpose(self.get_emission(self.obs_idx)))\n",
    "        weighted_transitions = transitions * self.trans_prob\n",
    "        fwd = tf.reduce_sum(weighted_transitions, 0)\n",
    "        return tf.reshape(fwd, tf.shape(self.fwd))\n",
    "    \n",
    "    def decode_op(self):\n",
    "        transitions = tf.matmul(self.viterbi, tf.transpose(self.get_emission(self.obs_idx)))\n",
    "        weighted_transitions = transitions * self.trans_prob\n",
    "        viterbi = tf.reduce_max(weighted_transitions, 0)   # y축에 대해서 가장 max 값을 찾음\n",
    "        return tf.reshape(viterbi, tf.shape(self.viterbi)) # reshape = 1*2 행렬을 2*1 행렬로 바꿔준다.\n",
    "    \n",
    "    def backpt_op(self):\n",
    "        back_transitions = tf.matmul(self.viterbi, np.ones((1, self.N)))  # 2x1 * 1x2 = 2x2\n",
    "        weighted_back_transitions = back_transitions * self.trans_prob\n",
    "        return tf.argmax(weighted_back_transitions, 0) # 가장 큰 값을 가진 index 행렬을 리턴한다.\n",
    "\n",
    "def viterbi_decode(sess, hmm, observations):\n",
    "    viterbi = sess.run(hmm.forward_init_op(), feed_dict={hmm.obs_idx: observations[0]}) # 0.6 * 0.5, 0.4 * 0.1 행렬\n",
    "    backpts = np.ones((hmm.N, len(observations)), 'int32') * -1 #2x5의 -1행렬\n",
    "\n",
    "    for t in range(1, len(observations)):\n",
    "        viterbi, backpt = sess.run([hmm.decode_op(), hmm.backpt_op()],\n",
    "                                   feed_dict={hmm.obs_idx: observations[t],\n",
    "                                             hmm.viterbi: viterbi})\n",
    "        print(viterbi, backpt)\n",
    "        backpts[:,t] = backpt\n",
    "    print(backpts)\n",
    "    tokens = [viterbi[:, -1].argmax()]\n",
    "    for i in range(len(observations) -1, 0, -1):\n",
    "        tokens.append(backpts[tokens[-1], i])\n",
    "        \n",
    "    print(tokens)\n",
    "    return tokens[::-1]\n",
    "\n",
    "def forward_algorithm(sess, hmm, observations):\n",
    "    fwd = sess.run(hmm.forward_init_op(), feed_dict={hmm.obs_idx: observations[0]})\n",
    "    \n",
    "    for t in range(1, len(observations)):\n",
    "        fwd = sess.run(hmm.forward_op(), feed_dict={hmm.obs_idx: observations[t], hmm.fwd:fwd})\n",
    "    prob = sess.run(tf.reduce_sum(fwd))\n",
    "    return prob\n",
    "    \n",
    "initial_prob = np.array([[0.6], [0.4]])\n",
    "trans_prob = np.array([[0.7, 0.3], [0.4, 0.6]])\n",
    "obs_prob = np.array([[0.5, 0.4, 0.1], [0.1, 0.3, 0.6]])\n",
    "\n",
    "hmm = HMM(initial_prob=initial_prob, trans_prob=trans_prob, obs_prob=obs_prob)\n",
    "\n",
    "observations = [0, 1, 1, 2, 1]\n",
    "#observations = [0, 0, 0, 1, 1]\n",
    "with tf.Session() as sess:\n",
    "    prob = forward_algorithm(sess, hmm, observations)\n",
    "    print('Probability of observing {} is {}'.format(observations, prob))\n",
    "    seq = viterbi_decode(sess, hmm, observations)\n",
    "    print('Most likely hidden states are {}'.format(seq))"
   ]
  },
  {
   "cell_type": "code",
   "execution_count": null,
   "metadata": {
    "collapsed": true
   },
   "outputs": [],
   "source": []
  }
 ],
 "metadata": {
  "kernelspec": {
   "display_name": "python2",
   "language": "python",
   "name": "python2"
  },
  "language_info": {
   "codemirror_mode": {
    "name": "ipython",
    "version": 2
   },
   "file_extension": ".py",
   "mimetype": "text/x-python",
   "name": "python",
   "nbconvert_exporter": "python",
   "pygments_lexer": "ipython2",
   "version": "2.7.6"
  }
 },
 "nbformat": 4,
 "nbformat_minor": 0
}
