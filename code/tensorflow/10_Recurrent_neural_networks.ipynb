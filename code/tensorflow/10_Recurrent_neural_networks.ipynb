{
 "cells": [
  {
   "cell_type": "markdown",
   "metadata": {},
   "source": [
    "## 10. Recurrent neural networks"
   ]
  },
  {
   "cell_type": "code",
<<<<<<< HEAD
   "execution_count": 7,
=======
   "execution_count": 1,
>>>>>>> d65e67c77082c74df4dec0e1164f5e84418efb2f
   "metadata": {
    "collapsed": false,
    "scrolled": false
   },
<<<<<<< HEAD
   "outputs": [
    {
     "ename": "TypeError",
     "evalue": "Fetch argument <bound method SeriesPredictor.model of <__main__.SeriesPredictor instance at 0x7f58af116c20>> has invalid type <type 'instancemethod'>, must be a string or Tensor. (Can not convert a instancemethod into a Tensor or Operation.)",
     "output_type": "error",
     "traceback": [
      "\u001b[0;31m\u001b[0m",
      "\u001b[0;31mTypeError\u001b[0mTraceback (most recent call last)",
      "\u001b[0;32m<ipython-input-7-9cab30245e16>\u001b[0m in \u001b[0;36m<module>\u001b[0;34m()\u001b[0m\n\u001b[1;32m    108\u001b[0m     \u001b[0mtest_y\u001b[0m\u001b[0;34m.\u001b[0m\u001b[0mappend\u001b[0m\u001b[0;34m(\u001b[0m\u001b[0mactual_vals\u001b[0m\u001b[0;34m[\u001b[0m\u001b[0mi\u001b[0m\u001b[0;34m+\u001b[0m\u001b[0;36m1\u001b[0m\u001b[0;34m:\u001b[0m\u001b[0mi\u001b[0m\u001b[0;34m+\u001b[0m\u001b[0mseq_size\u001b[0m\u001b[0;34m+\u001b[0m\u001b[0;36m1\u001b[0m\u001b[0;34m]\u001b[0m\u001b[0;34m)\u001b[0m\u001b[0;34m\u001b[0m\u001b[0m\n\u001b[1;32m    109\u001b[0m \u001b[0;34m\u001b[0m\u001b[0m\n\u001b[0;32m--> 110\u001b[0;31m \u001b[0mpredictor\u001b[0m\u001b[0;34m.\u001b[0m\u001b[0mtrain\u001b[0m\u001b[0;34m(\u001b[0m\u001b[0mtrain_x\u001b[0m\u001b[0;34m,\u001b[0m \u001b[0mtrain_y\u001b[0m\u001b[0;34m,\u001b[0m \u001b[0mtest_x\u001b[0m\u001b[0;34m,\u001b[0m \u001b[0mtest_y\u001b[0m\u001b[0;34m)\u001b[0m\u001b[0;34m\u001b[0m\u001b[0m\n\u001b[0m\u001b[1;32m    111\u001b[0m \u001b[0;34m\u001b[0m\u001b[0m\n\u001b[1;32m    112\u001b[0m \u001b[0;32mwith\u001b[0m \u001b[0mtf\u001b[0m\u001b[0;34m.\u001b[0m\u001b[0mSession\u001b[0m\u001b[0;34m(\u001b[0m\u001b[0;34m)\u001b[0m \u001b[0;32mas\u001b[0m \u001b[0msess\u001b[0m\u001b[0;34m:\u001b[0m\u001b[0;34m\u001b[0m\u001b[0m\n",
      "\u001b[0;32m<ipython-input-7-9cab30245e16>\u001b[0m in \u001b[0;36mtrain\u001b[0;34m(self, train_x, train_y, test_x, test_y)\u001b[0m\n\u001b[1;32m     73\u001b[0m             \u001b[0mstep\u001b[0m \u001b[0;34m=\u001b[0m \u001b[0;36m0\u001b[0m\u001b[0;34m\u001b[0m\u001b[0m\n\u001b[1;32m     74\u001b[0m             \u001b[0;32mwhile\u001b[0m \u001b[0mpatience\u001b[0m \u001b[0;34m>\u001b[0m \u001b[0;36m0\u001b[0m\u001b[0;34m:\u001b[0m\u001b[0;34m\u001b[0m\u001b[0m\n\u001b[0;32m---> 75\u001b[0;31m                 \u001b[0;32mprint\u001b[0m\u001b[0;34m(\u001b[0m\u001b[0msess\u001b[0m\u001b[0;34m.\u001b[0m\u001b[0mrun\u001b[0m\u001b[0;34m(\u001b[0m\u001b[0mself\u001b[0m\u001b[0;34m.\u001b[0m\u001b[0mmodel\u001b[0m\u001b[0;34m,\u001b[0m \u001b[0mfeed_dict\u001b[0m\u001b[0;34m=\u001b[0m\u001b[0;34m{\u001b[0m\u001b[0mself\u001b[0m\u001b[0;34m.\u001b[0m\u001b[0mx\u001b[0m\u001b[0;34m:\u001b[0m \u001b[0mtrain_x\u001b[0m\u001b[0;34m,\u001b[0m \u001b[0mself\u001b[0m\u001b[0;34m.\u001b[0m\u001b[0my\u001b[0m\u001b[0;34m:\u001b[0m \u001b[0mtrain_y\u001b[0m\u001b[0;34m}\u001b[0m\u001b[0;34m)\u001b[0m\u001b[0;34m)\u001b[0m\u001b[0;34m\u001b[0m\u001b[0m\n\u001b[0m\u001b[1;32m     76\u001b[0m                 \u001b[0m_\u001b[0m\u001b[0;34m,\u001b[0m \u001b[0mtrain_err\u001b[0m \u001b[0;34m=\u001b[0m \u001b[0msess\u001b[0m\u001b[0;34m.\u001b[0m\u001b[0mrun\u001b[0m\u001b[0;34m(\u001b[0m\u001b[0;34m[\u001b[0m\u001b[0mself\u001b[0m\u001b[0;34m.\u001b[0m\u001b[0mtrain_op\u001b[0m\u001b[0;34m,\u001b[0m \u001b[0mself\u001b[0m\u001b[0;34m.\u001b[0m\u001b[0mcost\u001b[0m\u001b[0;34m]\u001b[0m\u001b[0;34m,\u001b[0m \u001b[0mfeed_dict\u001b[0m\u001b[0;34m=\u001b[0m\u001b[0;34m{\u001b[0m\u001b[0mself\u001b[0m\u001b[0;34m.\u001b[0m\u001b[0mx\u001b[0m\u001b[0;34m:\u001b[0m \u001b[0mtrain_x\u001b[0m\u001b[0;34m,\u001b[0m \u001b[0mself\u001b[0m\u001b[0;34m.\u001b[0m\u001b[0my\u001b[0m\u001b[0;34m:\u001b[0m \u001b[0mtrain_y\u001b[0m\u001b[0;34m}\u001b[0m\u001b[0;34m)\u001b[0m\u001b[0;34m\u001b[0m\u001b[0m\n\u001b[1;32m     77\u001b[0m                 \u001b[0;32mif\u001b[0m \u001b[0mstep\u001b[0m \u001b[0;34m%\u001b[0m \u001b[0;36m100\u001b[0m \u001b[0;34m==\u001b[0m \u001b[0;36m0\u001b[0m\u001b[0;34m:\u001b[0m\u001b[0;34m\u001b[0m\u001b[0m\n",
      "\u001b[0;32m/usr/local/lib/python2.7/dist-packages/tensorflow/python/client/session.pyc\u001b[0m in \u001b[0;36mrun\u001b[0;34m(self, fetches, feed_dict, options, run_metadata)\u001b[0m\n\u001b[1;32m    764\u001b[0m     \u001b[0;32mtry\u001b[0m\u001b[0;34m:\u001b[0m\u001b[0;34m\u001b[0m\u001b[0m\n\u001b[1;32m    765\u001b[0m       result = self._run(None, fetches, feed_dict, options_ptr,\n\u001b[0;32m--> 766\u001b[0;31m                          run_metadata_ptr)\n\u001b[0m\u001b[1;32m    767\u001b[0m       \u001b[0;32mif\u001b[0m \u001b[0mrun_metadata\u001b[0m\u001b[0;34m:\u001b[0m\u001b[0;34m\u001b[0m\u001b[0m\n\u001b[1;32m    768\u001b[0m         \u001b[0mproto_data\u001b[0m \u001b[0;34m=\u001b[0m \u001b[0mtf_session\u001b[0m\u001b[0;34m.\u001b[0m\u001b[0mTF_GetBuffer\u001b[0m\u001b[0;34m(\u001b[0m\u001b[0mrun_metadata_ptr\u001b[0m\u001b[0;34m)\u001b[0m\u001b[0;34m\u001b[0m\u001b[0m\n",
      "\u001b[0;32m/usr/local/lib/python2.7/dist-packages/tensorflow/python/client/session.pyc\u001b[0m in \u001b[0;36m_run\u001b[0;34m(self, handle, fetches, feed_dict, options, run_metadata)\u001b[0m\n\u001b[1;32m    949\u001b[0m \u001b[0;34m\u001b[0m\u001b[0m\n\u001b[1;32m    950\u001b[0m     \u001b[0;31m# Create a fetch handler to take care of the structure of fetches.\u001b[0m\u001b[0;34m\u001b[0m\u001b[0;34m\u001b[0m\u001b[0m\n\u001b[0;32m--> 951\u001b[0;31m     \u001b[0mfetch_handler\u001b[0m \u001b[0;34m=\u001b[0m \u001b[0m_FetchHandler\u001b[0m\u001b[0;34m(\u001b[0m\u001b[0mself\u001b[0m\u001b[0;34m.\u001b[0m\u001b[0m_graph\u001b[0m\u001b[0;34m,\u001b[0m \u001b[0mfetches\u001b[0m\u001b[0;34m,\u001b[0m \u001b[0mfeed_dict_string\u001b[0m\u001b[0;34m)\u001b[0m\u001b[0;34m\u001b[0m\u001b[0m\n\u001b[0m\u001b[1;32m    952\u001b[0m \u001b[0;34m\u001b[0m\u001b[0m\n\u001b[1;32m    953\u001b[0m     \u001b[0;31m# Run request and get response.\u001b[0m\u001b[0;34m\u001b[0m\u001b[0;34m\u001b[0m\u001b[0m\n",
      "\u001b[0;32m/usr/local/lib/python2.7/dist-packages/tensorflow/python/client/session.pyc\u001b[0m in \u001b[0;36m__init__\u001b[0;34m(self, graph, fetches, feeds)\u001b[0m\n\u001b[1;32m    405\u001b[0m     \"\"\"\n\u001b[1;32m    406\u001b[0m     \u001b[0;32mwith\u001b[0m \u001b[0mgraph\u001b[0m\u001b[0;34m.\u001b[0m\u001b[0mas_default\u001b[0m\u001b[0;34m(\u001b[0m\u001b[0;34m)\u001b[0m\u001b[0;34m:\u001b[0m\u001b[0;34m\u001b[0m\u001b[0m\n\u001b[0;32m--> 407\u001b[0;31m       \u001b[0mself\u001b[0m\u001b[0;34m.\u001b[0m\u001b[0m_fetch_mapper\u001b[0m \u001b[0;34m=\u001b[0m \u001b[0m_FetchMapper\u001b[0m\u001b[0;34m.\u001b[0m\u001b[0mfor_fetch\u001b[0m\u001b[0;34m(\u001b[0m\u001b[0mfetches\u001b[0m\u001b[0;34m)\u001b[0m\u001b[0;34m\u001b[0m\u001b[0m\n\u001b[0m\u001b[1;32m    408\u001b[0m     \u001b[0mself\u001b[0m\u001b[0;34m.\u001b[0m\u001b[0m_fetches\u001b[0m \u001b[0;34m=\u001b[0m \u001b[0;34m[\u001b[0m\u001b[0;34m]\u001b[0m\u001b[0;34m\u001b[0m\u001b[0m\n\u001b[1;32m    409\u001b[0m     \u001b[0mself\u001b[0m\u001b[0;34m.\u001b[0m\u001b[0m_targets\u001b[0m \u001b[0;34m=\u001b[0m \u001b[0;34m[\u001b[0m\u001b[0;34m]\u001b[0m\u001b[0;34m\u001b[0m\u001b[0m\n",
      "\u001b[0;32m/usr/local/lib/python2.7/dist-packages/tensorflow/python/client/session.pyc\u001b[0m in \u001b[0;36mfor_fetch\u001b[0;34m(fetch)\u001b[0m\n\u001b[1;32m    236\u001b[0m         \u001b[0;32mif\u001b[0m \u001b[0misinstance\u001b[0m\u001b[0;34m(\u001b[0m\u001b[0mfetch\u001b[0m\u001b[0;34m,\u001b[0m \u001b[0mtensor_type\u001b[0m\u001b[0;34m)\u001b[0m\u001b[0;34m:\u001b[0m\u001b[0;34m\u001b[0m\u001b[0m\n\u001b[1;32m    237\u001b[0m           \u001b[0mfetches\u001b[0m\u001b[0;34m,\u001b[0m \u001b[0mcontraction_fn\u001b[0m \u001b[0;34m=\u001b[0m \u001b[0mfetch_fn\u001b[0m\u001b[0;34m(\u001b[0m\u001b[0mfetch\u001b[0m\u001b[0;34m)\u001b[0m\u001b[0;34m\u001b[0m\u001b[0m\n\u001b[0;32m--> 238\u001b[0;31m           \u001b[0;32mreturn\u001b[0m \u001b[0m_ElementFetchMapper\u001b[0m\u001b[0;34m(\u001b[0m\u001b[0mfetches\u001b[0m\u001b[0;34m,\u001b[0m \u001b[0mcontraction_fn\u001b[0m\u001b[0;34m)\u001b[0m\u001b[0;34m\u001b[0m\u001b[0m\n\u001b[0m\u001b[1;32m    239\u001b[0m     \u001b[0;31m# Did not find anything.\u001b[0m\u001b[0;34m\u001b[0m\u001b[0;34m\u001b[0m\u001b[0m\n\u001b[1;32m    240\u001b[0m     raise TypeError('Fetch argument %r has invalid type %r' %\n",
      "\u001b[0;32m/usr/local/lib/python2.7/dist-packages/tensorflow/python/client/session.pyc\u001b[0m in \u001b[0;36m__init__\u001b[0;34m(self, fetches, contraction_fn)\u001b[0m\n\u001b[1;32m    269\u001b[0m         raise TypeError('Fetch argument %r has invalid type %r, '\n\u001b[1;32m    270\u001b[0m                         \u001b[0;34m'must be a string or Tensor. (%s)'\u001b[0m\u001b[0;34m\u001b[0m\u001b[0m\n\u001b[0;32m--> 271\u001b[0;31m                         % (fetch, type(fetch), str(e)))\n\u001b[0m\u001b[1;32m    272\u001b[0m       \u001b[0;32mexcept\u001b[0m \u001b[0mValueError\u001b[0m \u001b[0;32mas\u001b[0m \u001b[0me\u001b[0m\u001b[0;34m:\u001b[0m\u001b[0;34m\u001b[0m\u001b[0m\n\u001b[1;32m    273\u001b[0m         raise ValueError('Fetch argument %r cannot be interpreted as a '\n",
      "\u001b[0;31mTypeError\u001b[0m: Fetch argument <bound method SeriesPredictor.model of <__main__.SeriesPredictor instance at 0x7f58af116c20>> has invalid type <type 'instancemethod'>, must be a string or Tensor. (Can not convert a instancemethod into a Tensor or Operation.)"
     ]
    }
   ],
=======
   "outputs": [],
>>>>>>> d65e67c77082c74df4dec0e1164f5e84418efb2f
   "source": [
    "import csv\n",
    "import numpy as np\n",
    "import tensorflow as tf\n",
    "from tensorflow.contrib import rnn\n",
    "import matplotlib.pyplot as plt\n",
    "%matplotlib inline\n",
    "\n",
    "def load_series(filename ,series_dix=1):\n",
    "    try:\n",
    "        with open(filename) as csvfile:\n",
    "            csvreader = csv.reader(csvfile)\n",
    "            data = [float(row[series_dix]) for row in csvreader if len(row) > 0]\n",
    "            normalized_data = (data - np.mean(data)) / np.std(data)\n",
    "        return normalized_data\n",
    "    except IOError:\n",
    "        return None\n",
    "\n",
    "def split_data(data, percent_train=0.80):\n",
    "    num_rows = len(data)\n",
    "    train_data, test_data = [], []\n",
    "    for idx, row in enumerate(data):\n",
    "        if idx < num_rows * percent_train:\n",
    "            train_data.append(row)\n",
    "        else:\n",
    "            test_data.append(row)\n",
    "    return train_data, test_data\n",
    "\n",
    "def plot_results(train_x, predictions, actual, filename):\n",
    "    plt.figure()\n",
    "    num_train = len(train_x)\n",
    "    plt.plot(list(range(num_train)), train_x, color='b', label='training data')\n",
    "    plt.plot(list(range(num_train, num_train + len(predictions))), predictions, color='r', label='predicted')\n",
    "    plt.plot(list(range(num_train, num_train + len(actual))), actual, color='g', label='test data')\n",
    "    plt.legend()\n",
    "    \n",
    "    if filename is not None:\n",
    "        plt.savefig(filename)\n",
    "    else:\n",
    "        plt.show()\n",
    "        \n",
    "class SeriesPredictor:\n",
    "    \n",
    "    def __init__(self, input_dim, seq_size, hidden_dim=10):\n",
    "        self.input_dim = input_dim\n",
    "        self.seq_size = seq_size\n",
    "        self.hidden_dim = hidden_dim\n",
    "        \n",
    "        self.W_out = tf.Variable(tf.random_normal([hidden_dim, 1]), name='W_out')\n",
    "        self.b_out = tf.Variable(tf.random_normal([1]), name='b_out')\n",
    "        self.x = tf.placeholder(tf.float32, [None, seq_size, input_dim])\n",
    "        self.y = tf.placeholder(tf.float32, [None, seq_size])\n",
    "        self.cost = tf.reduce_mean(tf.square(self.model() - self.y))\n",
    "        self.train_op = tf.train.AdamOptimizer().minimize(self.cost)\n",
    "        self.saver = tf.train.Saver()\n",
    "        \n",
    "    def model(self):\n",
<<<<<<< HEAD
    "        with tf.variable_scope(\"rnn\", reuse=None):\n",
    "            cell = tf.nn.rnn_cell.BasicLSTMCell(self.hidden_dim)\n",
    "            outputs, states = tf.nn.dynamic_rnn(cell, self.x, dtype=tf.float32)\n",
    "            \n",
=======
    "        cell = rnn.BasicLSTMCell(self.hidden_dim, reuse=tf.get_variable_scope().reuse)\n",
    "        outputs, states = tf.nn.dynamic_rnn(cell, self.x, dtype=tf.float32)\n",
    "        print(outputs)    \n",
>>>>>>> d65e67c77082c74df4dec0e1164f5e84418efb2f
    "        num_examples = tf.shape(self.x)[0]\n",
    "        W_repeated = tf.tile(tf.expand_dims(self.W_out, 0), [num_examples, 1, 1])\n",
    "        out = tf.matmul(outputs, W_repeated) + self.b_out\n",
    "        out = tf.squeeze(out)\n",
    "        print(out)\n",
    "        return out\n",
    "        \n",
    "    def train(self, train_x, train_y, test_x, test_y):\n",
    "        with tf.Session() as sess:\n",
    "            tf.get_variable_scope().reuse_variables()\n",
    "            sess.run(tf.global_variables_initializer())\n",
    "            max_patience = 3\n",
    "            patience = max_patience\n",
    "            min_test_err = float('inf')\n",
    "            step = 0\n",
    "            while patience > 0:\n",
    "                _, train_err = sess.run([self.train_op, self.cost], feed_dict={self.x: train_x, self.y: train_y})\n",
    "                if step % 100 == 0:\n",
    "                    test_err = sess.run(self.cost, feed_dict={self.x: test_x, self.y: test_y})\n",
    "                    print('step: {}\\t\\ttrain err: {}\\t\\ttest err: {}'.format(step, train_err, test_err))\n",
    "                    if test_err < min_test_err:\n",
    "                        min_test_err = test_err\n",
    "                        patience = max_patience\n",
    "                    else:\n",
    "                        patience -= 1\n",
    "                step += 1\n",
    "            save_path = self.saver.save(sess, \"model.ckpt\")\n",
    "            print(\"Model saved to {}\".format(save_path))\n",
    "        \n",
    "    def test(self, sess, test_x):\n",
    "        tf.get_variable_scope().reuse_variables()\n",
    "        self.saver.restore(sess, \"./model.ckpt\")\n",
    "        output = sess.run(self.model(), feed_dict={self.x: test_x})\n",
    "        return output"
   ]
  },
  {
   "cell_type": "code",
   "execution_count": 2,
   "metadata": {
    "collapsed": false
   },
   "outputs": [
    {
     "name": "stdout",
     "output_type": "stream",
     "text": [
      "Tensor(\"rnn/transpose:0\", shape=(?, 5, 100), dtype=float32)\n",
      "Tensor(\"Squeeze:0\", dtype=float32)\n",
      "step: 0\t\ttrain err: 0.534161627293\t\ttest err: 0.52531003952\n",
      "step: 100\t\ttrain err: 0.0496606528759\t\ttest err: 0.263860434294\n",
      "step: 200\t\ttrain err: 0.0441329628229\t\ttest err: 0.22687202692\n",
      "step: 300\t\ttrain err: 0.0426129028201\t\ttest err: 0.236736252904\n",
      "step: 400\t\ttrain err: 0.0412613227963\t\ttest err: 0.27310988307\n",
      "step: 500\t\ttrain err: 0.0405619032681\t\ttest err: 0.267945468426\n",
      "Model saved to model.ckpt\n",
      "INFO:tensorflow:Restoring parameters from ./model.ckpt\n",
      "Tensor(\"rnn_1/transpose:0\", shape=(?, 5, 100), dtype=float32)\n",
      "Tensor(\"Squeeze_1:0\", dtype=float32)\n",
      "INFO:tensorflow:Restoring parameters from ./model.ckpt\n",
      "Tensor(\"rnn_2/transpose:0\", shape=(?, 5, 100), dtype=float32)\n",
      "Tensor(\"Squeeze_2:0\", dtype=float32)\n",
      "INFO:tensorflow:Restoring parameters from ./model.ckpt\n",
      "Tensor(\"rnn_3/transpose:0\", shape=(?, 5, 100), dtype=float32)\n",
      "Tensor(\"Squeeze_3:0\", dtype=float32)\n",
      "INFO:tensorflow:Restoring parameters from ./model.ckpt\n",
      "Tensor(\"rnn_4/transpose:0\", shape=(?, 5, 100), dtype=float32)\n",
      "Tensor(\"Squeeze_4:0\", dtype=float32)\n",
      "INFO:tensorflow:Restoring parameters from ./model.ckpt\n",
      "Tensor(\"rnn_5/transpose:0\", shape=(?, 5, 100), dtype=float32)\n",
      "Tensor(\"Squeeze_5:0\", dtype=float32)\n",
      "INFO:tensorflow:Restoring parameters from ./model.ckpt\n",
      "Tensor(\"rnn_6/transpose:0\", shape=(?, 5, 100), dtype=float32)\n",
      "Tensor(\"Squeeze_6:0\", dtype=float32)\n",
      "INFO:tensorflow:Restoring parameters from ./model.ckpt\n",
      "Tensor(\"rnn_7/transpose:0\", shape=(?, 5, 100), dtype=float32)\n",
      "Tensor(\"Squeeze_7:0\", dtype=float32)\n",
      "INFO:tensorflow:Restoring parameters from ./model.ckpt\n",
      "Tensor(\"rnn_8/transpose:0\", shape=(?, 5, 100), dtype=float32)\n",
      "Tensor(\"Squeeze_8:0\", dtype=float32)\n",
      "INFO:tensorflow:Restoring parameters from ./model.ckpt\n",
      "Tensor(\"rnn_9/transpose:0\", shape=(?, 5, 100), dtype=float32)\n",
      "Tensor(\"Squeeze_9:0\", dtype=float32)\n",
      "INFO:tensorflow:Restoring parameters from ./model.ckpt\n",
      "Tensor(\"rnn_10/transpose:0\", shape=(?, 5, 100), dtype=float32)\n",
      "Tensor(\"Squeeze_10:0\", dtype=float32)\n",
      "INFO:tensorflow:Restoring parameters from ./model.ckpt\n",
      "Tensor(\"rnn_11/transpose:0\", shape=(?, 5, 100), dtype=float32)\n",
      "Tensor(\"Squeeze_11:0\", dtype=float32)\n",
      "INFO:tensorflow:Restoring parameters from ./model.ckpt\n",
      "Tensor(\"rnn_12/transpose:0\", shape=(?, 5, 100), dtype=float32)\n",
      "Tensor(\"Squeeze_12:0\", dtype=float32)\n",
      "INFO:tensorflow:Restoring parameters from ./model.ckpt\n",
      "Tensor(\"rnn_13/transpose:0\", shape=(?, 5, 100), dtype=float32)\n",
      "Tensor(\"Squeeze_13:0\", dtype=float32)\n",
      "INFO:tensorflow:Restoring parameters from ./model.ckpt\n",
      "Tensor(\"rnn_14/transpose:0\", shape=(?, 5, 100), dtype=float32)\n",
      "Tensor(\"Squeeze_14:0\", dtype=float32)\n",
      "INFO:tensorflow:Restoring parameters from ./model.ckpt\n",
      "Tensor(\"rnn_15/transpose:0\", shape=(?, 5, 100), dtype=float32)\n",
      "Tensor(\"Squeeze_15:0\", dtype=float32)\n",
      "INFO:tensorflow:Restoring parameters from ./model.ckpt\n",
      "Tensor(\"rnn_16/transpose:0\", shape=(?, 5, 100), dtype=float32)\n",
      "Tensor(\"Squeeze_16:0\", dtype=float32)\n",
      "INFO:tensorflow:Restoring parameters from ./model.ckpt\n",
      "Tensor(\"rnn_17/transpose:0\", shape=(?, 5, 100), dtype=float32)\n",
      "Tensor(\"Squeeze_17:0\", dtype=float32)\n",
      "INFO:tensorflow:Restoring parameters from ./model.ckpt\n",
      "Tensor(\"rnn_18/transpose:0\", shape=(?, 5, 100), dtype=float32)\n",
      "Tensor(\"Squeeze_18:0\", dtype=float32)\n",
      "INFO:tensorflow:Restoring parameters from ./model.ckpt\n",
      "Tensor(\"rnn_19/transpose:0\", shape=(?, 5, 100), dtype=float32)\n",
      "Tensor(\"Squeeze_19:0\", dtype=float32)\n",
      "INFO:tensorflow:Restoring parameters from ./model.ckpt\n",
      "Tensor(\"rnn_20/transpose:0\", shape=(?, 5, 100), dtype=float32)\n",
      "Tensor(\"Squeeze_20:0\", dtype=float32)\n"
     ]
    },
    {
     "data": {
      "image/png": "iVBORw0KGgoAAAANSUhEUgAAAYMAAAEACAYAAABRQBpkAAAABHNCSVQICAgIfAhkiAAAAAlwSFlz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\nAAAASUVORK5CYII=\n",
      "text/plain": [
       "<matplotlib.figure.Figure at 0x7f269a76ce50>"
      ]
     },
     "metadata": {},
     "output_type": "display_data"
    }
   ],
   "source": [
    "seq_size = 5\n",
    "predictor = SeriesPredictor(input_dim=1, seq_size=seq_size, hidden_dim = 100)\n",
    "\n",
    "data = load_series('international-airline-passengers.csv')\n",
    "train_data, actual_vals = split_data(data)\n",
    "train_x, train_y = [], []\n",
    "for i in range(len(train_data) - seq_size - 1):\n",
    "    train_x.append(np.expand_dims(train_data[i:i+seq_size], axis=1).tolist())\n",
    "    train_y.append(train_data[i+1:i+seq_size+1])\n",
    "    \n",
    "test_x, test_y = [], []\n",
    "for i in range(len(actual_vals) - seq_size - 1):\n",
    "    test_x.append(np.expand_dims(actual_vals[i:i+seq_size], axis=1).tolist())\n",
    "    test_y.append(actual_vals[i+1:i+seq_size+1])\n",
    "\n",
    "predictor.train(train_x, train_y, test_x, test_y)\n",
    "\n",
    "with tf.Session() as sess:\n",
    "  #  predicted_vals = predictor.test(sess, test_x)[:,0]\n",
    "  #  print('predicted_vals', np.shape(predicted_vals))\n",
    "  #  plot_results(train_data, predicted_vals, actual_vals, 'predictions.png')\n",
    "    prev_seq = train_x[-1]\n",
    "    predicted_vals = []\n",
    "    for i in range(20):\n",
    "        next_seq = predictor.test(sess, [prev_seq])\n",
    "        predicted_vals.append(next_seq[-1])\n",
    "        prev_seq = np.vstack((prev_seq[1:], next_seq[-1]))\n",
    "    plot_results(train_data, predicted_vals, actual_vals, 'hallucinations.png')"
   ]
  },
  {
   "cell_type": "code",
   "execution_count": null,
   "metadata": {
    "collapsed": true
   },
   "outputs": [],
   "source": []
  }
 ],
 "metadata": {
  "kernelspec": {
   "display_name": "Python 2",
   "language": "python",
   "name": "python2"
  },
  "language_info": {
   "codemirror_mode": {
    "name": "ipython",
    "version": 2
   },
   "file_extension": ".py",
   "mimetype": "text/x-python",
   "name": "python",
   "nbconvert_exporter": "python",
   "pygments_lexer": "ipython2",
   "version": "2.7.6"
  }
 },
 "nbformat": 4,
 "nbformat_minor": 0
}
