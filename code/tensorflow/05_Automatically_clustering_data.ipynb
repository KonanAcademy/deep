{
 "cells": [
  {
   "cell_type": "markdown",
   "metadata": {},
   "source": [
    "## Traversing a directory for data"
   ]
  },
  {
   "cell_type": "code",
   "execution_count": null,
   "metadata": {
    "collapsed": false
   },
   "outputs": [],
   "source": [
    "import tensorflow as tf\n",
    "\n",
    "filenames = tf.train.match_filenames_once('/usr/local/lib/python2.7/dist-packages/bregman/audio/*.wav')\n",
    "count_num_files = tf.size(filenames)\n",
    "filename_queue = tf.train.string_input_producer(filenames)\n",
    "reader = tf.WholeFileReader()\n",
    "filename, file_contents = reader.read(filename_queue)\n",
    "\n",
    "with tf.Session() as sess:\n",
    "    sess.run(tf.global_variables_initializer())\n",
    "    num_files = sess.run(count_num_files)\n",
    "    \n",
    "    coord = tf.train.Coordinator()\n",
    "    threads = tf.train.start_queue_runners(sess=sess, coord=coord)\n",
    "    \n",
    "    for i in range(num_files):\n",
    "        audio_file = sess.run(filename)\n",
    "        print(audio_file)\n",
    "    coord.request_stop()\n",
    "    coord.join(threads)"
   ]
  },
  {
   "cell_type": "markdown",
   "metadata": {},
   "source": [
    "## Representing audio in Python"
   ]
  },
  {
   "cell_type": "code",
   "execution_count": 1,
   "metadata": {
    "collapsed": false
   },
   "outputs": [
    {
     "data": {
      "text/plain": [
       "array([[ 0.00481223,  0.00400106,  0.00375707, ...,  0.00066583,\n",
       "         0.        ,  0.        ],\n",
       "       [ 0.00412802,  0.00448563,  0.00632198, ...,  0.00069418,\n",
       "         0.        ,  0.        ],\n",
       "       [ 0.00361466,  0.00637525,  0.00960479, ...,  0.00075464,\n",
       "         0.        ,  0.        ],\n",
       "       ..., \n",
       "       [ 0.0040263 ,  0.00391508,  0.00314862, ...,  0.0008951 ,\n",
       "         0.        ,  0.        ],\n",
       "       [ 0.00414494,  0.00316777,  0.00275692, ...,  0.00081087,\n",
       "         0.        ,  0.        ],\n",
       "       [ 0.00237285,  0.00151895,  0.00155102, ...,  0.00052872,\n",
       "         0.        ,  0.        ]])"
      ]
     },
     "execution_count": 1,
     "metadata": {},
     "output_type": "execute_result"
    }
   ],
   "source": [
    "from bregman.suite import *\n",
    "\n",
    "def get_chromogram(audio_file):\n",
    "    F = Chromagram(audio_file, nfft=16384, wfft=8192, nhop=2205)\n",
    "    return F.X\n",
    "\n",
    "get_chromogram('/usr/local/lib/python2.7/dist-packages/bregman/audio/amen.wav')"
   ]
  },
  {
   "cell_type": "markdown",
   "metadata": {},
   "source": [
    "## Obtaining a dataset for k-means"
   ]
  },
  {
   "cell_type": "code",
   "execution_count": 3,
   "metadata": {
    "collapsed": false
   },
   "outputs": [],
   "source": [
    "import tensorflow as tf\n",
    "from bregman.suite import *\n",
    "\n",
    "filenames = tf.train.match_filenames_once('/usr/local/lib/python2.7/dist-packages/bregman/audio/*.wav')\n",
    "count_num_files = tf.size(filenames)\n",
    "filename_queue = tf.train.string_input_producer(filenames)\n",
    "reader = tf.WholeFileReader()\n",
    "filename, file_contents = reader.read(filename_queue)\n",
    "\n",
    "chromo = tf.placeholder(tf.float32)\n",
    "max_freqs = tf.argmax(chromo, 0)\n",
    "\n",
    "def get_next_chromogram(sess):\n",
    "    audio_file = sess.run(filename)\n",
    "    F = Chromagram(audio_file, nfft=16384, wfft=8192, nhop=2205)\n",
    "    return F.X\n",
    "\n",
    "def extract_feature_vector(sess, chromo_data):\n",
    "    num_features, num_samples = np.shape(chromo_data)\n",
    "    freq_vals = sess.run(max_freqs, feed_dict={chromo: chromo_data})\n",
    "    hist, bins = np.histogram(freq_vals, bins=range(num_features + 1))\n",
    "    return hist.astype(float) /num_samples\n",
    "\n",
    "def get_dataset(sess):\n",
    "    num_files = sess.run(count_num_files)\n",
    "    coord = tf.train.Coordinator()\n",
    "    threads = tf.train.start_queue_runners(sess=sess, coord=coord)\n",
    "    xs = []\n",
    "    for i in range(num_files):\n",
    "        chromo_data = get_next_chromogram(sess)\n",
    "        x = [extract_feature_vector(sess, chromo_data)]\n",
    "        x = np.matrix(x)\n",
    "        if len(xs) == 0:\n",
    "            xs = x\n",
    "        else:\n",
    "            xs = np.vstack((xs, x))\n",
    "    coord.request_stop()\n",
    "    coord.join(threads)\n",
    "    return xs"
   ]
  },
  {
   "cell_type": "markdown",
   "metadata": {
    "collapsed": true
   },
   "source": [
    "## Implementing k-means"
   ]
  },
  {
   "cell_type": "code",
   "execution_count": 17,
   "metadata": {
    "collapsed": false
   },
   "outputs": [
    {
     "name": "stdout",
     "output_type": "stream",
     "text": [
      "[0 1 1 0 0]\n",
      "[0 1 1 0 0]\n",
      "[0 1 1 0 0]\n",
      "[0 1 1 0 0]\n",
      "[0 1 1 0 0]\n",
      "[0 1 1 0 0]\n",
      "[0 1 1 0 0]\n",
      "[0 1 1 0 0]\n",
      "[0 1 1 0 0]\n",
      "[0 1 1 0 0]\n",
      "[0 1 1 0 0]\n",
      "[0 1 1 0 0]\n",
      "[0 1 1 0 0]\n",
      "[0 1 1 0 0]\n",
      "[0 1 1 0 0]\n",
      "[0 1 1 0 0]\n",
      "[0 1 1 0 0]\n",
      "[0 1 1 0 0]\n",
      "[0 1 1 0 0]\n",
      "[0 1 1 0 0]\n",
      "[0 1 1 0 0]\n",
      "[0 1 1 0 0]\n",
      "[0 1 1 0 0]\n",
      "[0 1 1 0 0]\n",
      "[0 1 1 0 0]\n",
      "[0 1 1 0 0]\n",
      "[0 1 1 0 0]\n",
      "[0 1 1 0 0]\n",
      "[0 1 1 0 0]\n",
      "[0 1 1 0 0]\n",
      "[0 1 1 0 0]\n",
      "[0 1 1 0 0]\n",
      "[0 1 1 0 0]\n",
      "[0 1 1 0 0]\n",
      "[0 1 1 0 0]\n",
      "[0 1 1 0 0]\n",
      "[0 1 1 0 0]\n",
      "[0 1 1 0 0]\n",
      "[0 1 1 0 0]\n",
      "[0 1 1 0 0]\n",
      "[0 1 1 0 0]\n",
      "[0 1 1 0 0]\n",
      "[0 1 1 0 0]\n",
      "[0 1 1 0 0]\n",
      "[0 1 1 0 0]\n",
      "[0 1 1 0 0]\n",
      "[0 1 1 0 0]\n",
      "[0 1 1 0 0]\n",
      "[0 1 1 0 0]\n",
      "[0 1 1 0 0]\n",
      "[0 1 1 0 0]\n",
      "[0 1 1 0 0]\n",
      "[0 1 1 0 0]\n",
      "[0 1 1 0 0]\n",
      "[0 1 1 0 0]\n",
      "[0 1 1 0 0]\n",
      "[0 1 1 0 0]\n",
      "[0 1 1 0 0]\n",
      "[0 1 1 0 0]\n",
      "[0 1 1 0 0]\n",
      "[0 1 1 0 0]\n",
      "[0 1 1 0 0]\n",
      "[0 1 1 0 0]\n",
      "[0 1 1 0 0]\n",
      "[0 1 1 0 0]\n",
      "[0 1 1 0 0]\n",
      "[0 1 1 0 0]\n",
      "[0 1 1 0 0]\n",
      "[0 1 1 0 0]\n",
      "[0 1 1 0 0]\n",
      "[0 1 1 0 0]\n",
      "[0 1 1 0 0]\n",
      "[0 1 1 0 0]\n",
      "[0 1 1 0 0]\n",
      "[0 1 1 0 0]\n",
      "[0 1 1 0 0]\n",
      "[0 1 1 0 0]\n",
      "[0 1 1 0 0]\n",
      "[0 1 1 0 0]\n",
      "[0 1 1 0 0]\n",
      "[0 1 1 0 0]\n",
      "[0 1 1 0 0]\n",
      "[0 1 1 0 0]\n",
      "[0 1 1 0 0]\n",
      "[0 1 1 0 0]\n",
      "[0 1 1 0 0]\n",
      "[0 1 1 0 0]\n",
      "[0 1 1 0 0]\n",
      "[0 1 1 0 0]\n",
      "[0 1 1 0 0]\n",
      "[0 1 1 0 0]\n",
      "[0 1 1 0 0]\n",
      "[0 1 1 0 0]\n",
      "[0 1 1 0 0]\n",
      "[0 1 1 0 0]\n",
      "[0 1 1 0 0]\n",
      "[0 1 1 0 0]\n",
      "[0 1 1 0 0]\n",
      "[0 1 1 0 0]\n",
      "[0 1 1 0 0]\n",
      "[[ 0.08977582  0.02911966  0.03448276  0.1239824   0.04211028  0.0651085\n",
      "   0.02921997  0.25663169  0.16929682  0.01060826  0.09619049  0.05347335]\n",
      " [ 0.16007127  0.04976793  0.07495436  0.09422362  0.04749126  0.03667979\n",
      "   0.0556081   0.06573767  0.05154968  0.16371175  0.15931238  0.04089219]]\n"
     ]
    }
   ],
   "source": [
    "k = 2\n",
    "max_iterations = 100\n",
    "\n",
    "def initial_cluster_centroids(x, k): \n",
    "    return x[0:k, :] # x의 앞의 벡터 k개만 가져와서 임의의 centroid로 잡음.\n",
    "\n",
    "def assign_cluster(X, centroids):\n",
    "    expanded_vectors = tf.expand_dims(X, 0)\n",
    "    expanded_centroids = tf.expand_dims(centroids, 1)\n",
    "    distances = tf.reduce_sum(tf.square(tf.sub(expanded_vectors, expanded_centroids)), 2)\n",
    "    mins = tf.argmin(distances, 0)\n",
    "    return mins\n",
    "\n",
    "def recompute_centroids(X, Y):\n",
    "    sums = tf.unsorted_segment_sum(X, Y, k)\n",
    "    counts = tf.unsorted_segment_sum(tf.ones_like(X), Y, k)\n",
    "    return sums / counts\n",
    "\n",
    "with tf.Session() as sess:\n",
    "    sess.run(tf.global_variables_initializer())\n",
    "    X = get_dataset(sess)\n",
    "    centroids = initial_cluster_centroids(X, k)\n",
    "    i, converged = 0, False\n",
    "    while not converged and i < max_iterations:\n",
    "        i += 1\n",
    "        Y = assign_cluster(X, centroids)\n",
    "        print(sess.run(Y))\n",
    "        centroids = sess.run(recompute_centroids(X,Y))\n",
    "    print(centroids)"
   ]
  },
  {
   "cell_type": "code",
   "execution_count": null,
   "metadata": {
    "collapsed": true
   },
   "outputs": [],
   "source": []
  }
 ],
 "metadata": {
  "kernelspec": {
   "display_name": "python2",
   "language": "python",
   "name": "python2"
  },
  "language_info": {
   "codemirror_mode": {
    "name": "ipython",
    "version": 2
   },
   "file_extension": ".py",
   "mimetype": "text/x-python",
   "name": "python",
   "nbconvert_exporter": "python",
   "pygments_lexer": "ipython2",
   "version": "2.7.6"
  }
 },
 "nbformat": 4,
 "nbformat_minor": 0
}
