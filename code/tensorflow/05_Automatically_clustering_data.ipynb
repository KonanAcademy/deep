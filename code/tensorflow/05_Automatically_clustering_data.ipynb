{
 "cells": [
  {
   "cell_type": "markdown",
   "metadata": {},
   "source": [
    "## Traversing a directory for data"
   ]
  },
  {
   "cell_type": "code",
   "execution_count": 1,
   "metadata": {
    "collapsed": false
   },
   "outputs": [
    {
     "name": "stdout",
     "output_type": "stream",
     "text": [
      "/usr/local/lib/python2.7/dist-packages/bregman/audio/bigben.wav\n",
      "/usr/local/lib/python2.7/dist-packages/bregman/audio/ladokhope.wav\n",
      "/usr/local/lib/python2.7/dist-packages/bregman/audio/amen.wav\n",
      "/usr/local/lib/python2.7/dist-packages/bregman/audio/gmin.wav\n",
      "/usr/local/lib/python2.7/dist-packages/bregman/audio/fastcar.wav\n"
     ]
    }
   ],
   "source": [
    "import tensorflow as tf\n",
    "\n",
    "filenames = tf.train.match_filenames_once('/usr/local/lib/python2.7/dist-packages/bregman/audio/*.wav')\n",
    "count_num_files = tf.size(filenames)\n",
    "filename_queue = tf.train.string_input_producer(filenames)\n",
    "reader = tf.WholeFileReader()\n",
    "filename, file_contents = reader.read(filename_queue)\n",
    "\n",
    "with tf.Session() as sess:\n",
    "    sess.run(tf.global_variables_initializer())\n",
    "    num_files = sess.run(count_num_files)\n",
    "    \n",
    "    coord = tf.train.Coordinator()\n",
    "    threads = tf.train.start_queue_runners(sess=sess, coord=coord)\n",
    "    \n",
    "    for i in range(num_files):\n",
    "        audio_file = sess.run(filename)\n",
    "        print(audio_file)\n",
    "    coord.request_stop()\n",
    "    coord.join(threads)"
   ]
  },
  {
   "cell_type": "markdown",
   "metadata": {},
   "source": [
    "## Representing audio in Python"
   ]
  },
  {
   "cell_type": "code",
   "execution_count": 2,
   "metadata": {
    "collapsed": false
   },
   "outputs": [
    {
     "data": {
      "text/plain": [
       "array([[ 0.00481223,  0.00400106,  0.00375707, ...,  0.00066583,\n",
       "         0.        ,  0.        ],\n",
       "       [ 0.00412802,  0.00448563,  0.00632198, ...,  0.00069418,\n",
       "         0.        ,  0.        ],\n",
       "       [ 0.00361466,  0.00637525,  0.00960479, ...,  0.00075464,\n",
       "         0.        ,  0.        ],\n",
       "       ..., \n",
       "       [ 0.0040263 ,  0.00391508,  0.00314862, ...,  0.0008951 ,\n",
       "         0.        ,  0.        ],\n",
       "       [ 0.00414494,  0.00316777,  0.00275692, ...,  0.00081087,\n",
       "         0.        ,  0.        ],\n",
       "       [ 0.00237285,  0.00151895,  0.00155102, ...,  0.00052872,\n",
       "         0.        ,  0.        ]])"
      ]
     },
     "execution_count": 2,
     "metadata": {},
     "output_type": "execute_result"
    }
   ],
   "source": [
    "from bregman.suite import *\n",
    "\n",
    "def get_chromogram(audio_file):\n",
    "    F = Chromagram(audio_file, nfft=16384, wfft=8192, nhop=2205)\n",
    "    return F.X\n",
    "\n",
    "get_chromogram('/usr/local/lib/python2.7/dist-packages/bregman/audio/amen.wav')"
   ]
  },
  {
   "cell_type": "markdown",
   "metadata": {},
   "source": [
    "## Obtaining a dataset for k-means"
   ]
  },
  {
   "cell_type": "code",
   "execution_count": 23,
   "metadata": {
    "collapsed": false
   },
   "outputs": [],
   "source": [
    "import tensorflow as tf\n",
    "from bregman.suite import *\n",
    "\n",
    "filenames = tf.train.match_filenames_once('/usr/local/lib/python2.7/dist-packages/bregman/audio/*.wav')\n",
    "count_num_files = tf.size(filenames)\n",
    "filename_queue = tf.train.string_input_producer(filenames)\n",
    "reader = tf.WholeFileReader()\n",
    "filename, file_contents = reader.read(filename_queue)\n",
    "\n",
    "chromo = tf.placeholder(tf.float32)\n",
    "max_freqs = tf.argmax(chromo, 0)\n",
    "\n",
    "def get_next_chromogram(sess):\n",
    "    audio_file = sess.run(filename)\n",
    "    F = Chromagram(audio_file, nfft=16384, wfft=8192, nhop=2205)\n",
    "    return F.X\n",
    "\n",
    "def extract_feature_vector(sess, chromo_data):\n",
    "    num_features, num_samples = np.shape(chromo_data)\n",
    "    freq_vals = sess.run(max_freqs, feed_dict={chromo: chromo_data})\n",
    "    hist, bins = np.histogram(freq_vals, bins=range(num_features + 1))\n",
    "    return hist.astype(float) /num_samples\n",
    "\n",
    "def get_dataset(sess):\n",
    "    num_files = sess.run(count_num_files)\n",
    "    coord = tf.train.Coordinator()\n",
    "    threads = tf.train.start_queue_runners(sess=sess, coord=coord)\n",
    "    xs = []\n",
    "    for i in range(num_files):\n",
    "        chromo_data = get_next_chromogram(sess)\n",
    "        x = [extract_feature_vector(sess, chromo_data)]\n",
    "        x = np.matrix(x)\n",
    "        if len(xs) == 0:\n",
    "            xs = x\n",
    "        else:\n",
    "            xs = np.vstack((xs, x))\n",
    "    coord.request_stop()\n",
    "    coord.join(threads)\n",
    "    return xs"
   ]
  },
  {
   "cell_type": "markdown",
   "metadata": {
    "collapsed": true
   },
   "source": [
    "## Implementing k-means"
   ]
  },
  {
   "cell_type": "code",
   "execution_count": 24,
   "metadata": {
    "collapsed": false
   },
   "outputs": [
    {
     "name": "stdout",
     "output_type": "stream",
     "text": [
      "[[ 0.08977582  0.02911966  0.03448276  0.1239824   0.04211028  0.0651085\n",
      "   0.02921997  0.25663169  0.16929682  0.01060826  0.09619049  0.05347335]\n",
      " [ 0.16007127  0.04976793  0.07495436  0.09422362  0.04749126  0.03667979\n",
      "   0.0556081   0.06573767  0.05154968  0.16371175  0.15931238  0.04089219]]\n"
     ]
    }
   ],
   "source": [
    "k = 2\n",
    "max_iterations = 100\n",
    "\n",
    "def initial_cluster_centroids(x, k): \n",
    "    return x[0:k, :] # x의 앞의 벡터 k개만 가져와서 임의의 centroid로 잡음.\n",
    "\n",
    "def assign_cluster(X, centroids):\n",
    "    expanded_vectors = tf.expand_dims(X, 0)\n",
    "    expanded_centroids = tf.expand_dims(centroids, 1)\n",
    "    distances = tf.reduce_sum(tf.square(tf.sub(expanded_vectors, expanded_centroids)), 2)\n",
    "    mins = tf.argmin(distances, 0)\n",
    "    return mins\n",
    "\n",
    "def recompute_centroids(X, Y):\n",
    "    sums = tf.unsorted_segment_sum(X, Y, k)\n",
    "    counts = tf.unsorted_segment_sum(tf.ones_like(X), Y, k)\n",
    "    return sums / counts\n",
    "\n",
    "with tf.Session() as sess:\n",
    "    sess.run(tf.global_variables_initializer())\n",
    "    X = get_dataset(sess)\n",
    "    centroids = initial_cluster_centroids(X, k)\n",
    "    i, converged = 0, False\n",
    "    while not converged and i < max_iterations:\n",
    "        i += 1\n",
    "        Y = assign_cluster(X, centroids)\n",
    "        centroids = sess.run(recompute_centroids(X,Y))\n",
    "    print(centroids)"
   ]
  },
  {
   "cell_type": "markdown",
   "metadata": {
    "collapsed": true
   },
   "source": [
    "## Organizing data for segmentation"
   ]
  },
  {
   "cell_type": "code",
   "execution_count": 26,
   "metadata": {
    "collapsed": true
   },
   "outputs": [],
   "source": [
    "import tensorflow as tf\n",
    "import numpy as np\n",
    "from bregman.suite import *\n",
    "\n",
    "k = 4\n",
    "segment_size = 50\n",
    "max_iterations = 100\n",
    "\n",
    "chromo = tf.placeholder(tf.float32)\n",
    "max_freqs = tf.argmax(chromo, 0)\n",
    "\n",
    "def get_chromogram(audio_file):\n",
    "    F = Chromagram(audio_file, nfft=16384, wfft=8192, nhop=2205)\n",
    "    return F.X\n",
    "\n",
    "def get_dataset(sess, audio_file):\n",
    "    chromo_data = get_chromogram(audio_file)\n",
    "    print('chromo_data', np.shape(chromo_data))\n",
    "    chromo_length = np.shape(chromo_data)[1]\n",
    "    xs = []\n",
    "    for i in range(chromo_length / segment_size):\n",
    "        chromo_segment = chromo_data[:, i*segment_size:(i+1)*segment_size]\n",
    "        x = extract_feature_vector(sess, chromo_segment)\n",
    "        if len(xs) == 0:\n",
    "            xs = x\n",
    "        else:\n",
    "            xs = np.vstack((xs, x))\n",
    "    return xs"
   ]
  },
  {
   "cell_type": "markdown",
   "metadata": {},
   "source": [
    "## Segmenting an audio clip"
   ]
  },
  {
   "cell_type": "code",
   "execution_count": 27,
   "metadata": {
    "collapsed": false
   },
   "outputs": [
    {
     "name": "stdout",
     "output_type": "stream",
     "text": [
      "('chromo_data', (12, 278))\n",
      "(5, 12)\n",
      "('iteration', 50)\n",
      "('iteration', 100)\n",
      "[0 1 2 3 1]\n",
      "('0.0m 0.0s', 0)\n",
      "('0.0m 5.0s', 1)\n",
      "('0.0m 10.0s', 2)\n",
      "('0.0m 15.0s', 3)\n",
      "('0.0m 20.0s', 1)\n"
     ]
    }
   ],
   "source": [
    "with tf.Session() as sess:\n",
    "    X = get_dataset(sess, '/usr/local/lib/python2.7/dist-packages/bregman/audio/bigben.wav')\n",
    "    print(np.shape(X))\n",
    "    centroids = initial_cluster_centroids(X, k)\n",
    "    i, converged = 0, False\n",
    "    while not converged and i < max_iterations:\n",
    "        i += 1\n",
    "        Y = assign_cluster(X, centroids)\n",
    "        centroids = sess.run(recompute_centroids(X,Y))\n",
    "        if i % 50 == 0:\n",
    "            print('iteration', i)\n",
    "    segments = sess.run(Y)\n",
    "    print(segments)\n",
    "    for i in range(len(segments)):\n",
    "        seconds = (i * segment_size) / float(10)\n",
    "        min, sec = divmod(seconds, 60)\n",
    "        time_str = '{}m {}s'.format(min, sec)\n",
    "        print(time_str, segments[i])"
   ]
  },
  {
   "cell_type": "markdown",
   "metadata": {},
   "source": [
    "## Setting up the SOM algorithm"
   ]
  },
  {
   "cell_type": "code",
   "execution_count": 75,
   "metadata": {
    "collapsed": false
   },
   "outputs": [],
   "source": [
    "import tensorflow as tf\n",
    "import numpy as np\n",
    "\n",
    "class SOM:\n",
    "    def __init__(self, width, height, dim):\n",
    "        self.num_iters = 5\n",
    "        self.width = width\n",
    "        self.height = height\n",
    "        self.dim = dim\n",
    "        self.node_locs = self.get_locs()\n",
    "        \n",
    "        nodes = tf.Variable(tf.random_normal([width*height, dim]))\n",
    "        self.nodes = nodes\n",
    "        \n",
    "        x = tf.placeholder(tf.float32, [dim])\n",
    "        iter = tf.placeholder(tf.float32)\n",
    "        \n",
    "        self.x = x\n",
    "        self.iter = iter\n",
    "        \n",
    "        self.bmu_loc = self.get_bmu_loc(x)\n",
    "        \n",
    "        self.propagate_nodes = self.get_propagation(x, iter)\n",
    "    \n",
    "    def get_propagation(self, x, iter):\n",
    "        num_nodes = self.width * self.height\n",
    "        rate = 1.0 - tf.div(iter, self.num_iters)\n",
    "        alpha = rate * 0.5\n",
    "        sigma = rate * tf.to_float(tf.maximum(self.width, self.height)) / 2.\n",
    "        expanded_bmu_loc = tf.expand_dims(tf.to_float(self.bmu_loc), 0)\n",
    "        sqr_dists_from_bmu = tf.reduce_sum(tf.square(tf.sub(expanded_bmu_loc, self.node_locs)), 1)\n",
    "        neigh_factor = tf.exp(-tf.div(sqr_dists_from_bmu, 2 * tf.square(sigma)))\n",
    "        rate = tf.mul(alpha, neigh_factor)\n",
    "        rate_factor = tf.pack([tf.tile(tf.slice(rate, [i], [1]), [self.dim]) for i in range(num_nodes)])\n",
    "        nodes_diff = tf.mul(rate_factor, tf.sub(tf.pack([x for i in range(num_nodes)]), self.nodes))\n",
    "        update_nodes = tf.add(self.nodes, nodes_diff)\n",
    "        return tf.assign(self.nodes, update_nodes)\n",
    "    \n",
    "    def get_bmu_loc(self, x):\n",
    "        expanded_x = tf.expand_dims(x, 0)\n",
    "        sqr_diff = tf.square(tf.sub(expanded_x, self.nodes))\n",
    "        dists = tf.reduce_sum(sqr_diff, 1)\n",
    "        bmu_idx = tf.argmin(dists, 0)\n",
    "        bmu_loc = tf.pack([tf.mod(bmu_idx, self.width), tf.div(bmu_idx, self.width)])\n",
    "        return bmu_loc\n",
    "    \n",
    "    def get_locs(self):\n",
    "        locs = [[x, y] for y in range(self.height)\n",
    "            for x in range(self.width)]\n",
    "        return tf.to_float(locs)\n",
    "    \n",
    "    def train(self, data):\n",
    "        with tf.Session() as sess:\n",
    "            sess.run(tf.global_variables_initializer())\n",
    "            for i in range(self.num_iters):\n",
    "                for data_x in data:\n",
    "                    print(data_x)\n",
    "                    sess.run(self.bmu_loc, feed_dict={self.x: data_x})\n",
    "                    print(sess.run(self.propagate_nodes, feed_dict={self.x: data_x, self.iter: i}))\n",
    "     #       centroid_grid = [[] for i in range(self.width)]\n",
    "     #       self.nodes_val = list(sess.run(self.nodes))\n",
    "     #       self.locs_val = list(sess.run(self.node_locs))\n",
    "     #       for i, l in enumerate(self.locs_val):\n",
    "     #           centroid_grid[int(l[0])].append(self.nodes_val[i])\n",
    "     #       self.centroid_grid = centroid_grid"
   ]
  },
  {
   "cell_type": "markdown",
   "metadata": {},
   "source": [
    "## Test out and visualize results"
   ]
  },
  {
   "cell_type": "code",
   "execution_count": 76,
   "metadata": {
    "collapsed": false
   },
   "outputs": [
    {
     "name": "stdout",
     "output_type": "stream",
     "text": [
      "[ 0.  0.  1.]\n",
      "1.0\n",
      "[ 0.    0.    0.95]\n",
      "1.0\n",
      "[ 0.    0.05  1.  ]\n",
      "1.0\n",
      "[ 0.  1.  0.]\n",
      "1.0\n",
      "[ 0.    0.95  0.  ]\n",
      "1.0\n",
      "[ 0.    1.    0.05]\n",
      "1.0\n",
      "[ 1.  0.  0.]\n",
      "1.0\n",
      "[ 1.    0.05  0.  ]\n",
      "1.0\n",
      "[ 1.    0.    0.05]\n",
      "1.0\n",
      "[ 1.  1.  0.]\n",
      "1.0\n",
      "[ 0.  0.  1.]\n",
      "0.8\n",
      "[ 0.    0.    0.95]\n",
      "0.8\n",
      "[ 0.    0.05  1.  ]\n",
      "0.8\n",
      "[ 0.  1.  0.]\n",
      "0.8\n",
      "[ 0.    0.95  0.  ]\n",
      "0.8\n",
      "[ 0.    1.    0.05]\n",
      "0.8\n",
      "[ 1.  0.  0.]\n",
      "0.8\n",
      "[ 1.    0.05  0.  ]\n",
      "0.8\n",
      "[ 1.    0.    0.05]\n",
      "0.8\n",
      "[ 1.  1.  0.]\n",
      "0.8\n",
      "[ 0.  0.  1.]\n",
      "0.6\n",
      "[ 0.    0.    0.95]\n",
      "0.6\n",
      "[ 0.    0.05  1.  ]\n",
      "0.6\n",
      "[ 0.  1.  0.]\n",
      "0.6\n",
      "[ 0.    0.95  0.  ]\n",
      "0.6\n",
      "[ 0.    1.    0.05]\n",
      "0.6\n",
      "[ 1.  0.  0.]\n",
      "0.6\n",
      "[ 1.    0.05  0.  ]\n",
      "0.6\n",
      "[ 1.    0.    0.05]\n",
      "0.6\n",
      "[ 1.  1.  0.]\n",
      "0.6\n",
      "[ 0.  0.  1.]\n",
      "0.4\n",
      "[ 0.    0.    0.95]\n",
      "0.4\n",
      "[ 0.    0.05  1.  ]\n",
      "0.4\n",
      "[ 0.  1.  0.]\n",
      "0.4\n",
      "[ 0.    0.95  0.  ]\n",
      "0.4\n",
      "[ 0.    1.    0.05]\n",
      "0.4\n",
      "[ 1.  0.  0.]\n",
      "0.4\n",
      "[ 1.    0.05  0.  ]\n",
      "0.4\n",
      "[ 1.    0.    0.05]\n",
      "0.4\n",
      "[ 1.  1.  0.]\n",
      "0.4\n",
      "[ 0.  0.  1.]\n",
      "0.2\n",
      "[ 0.    0.    0.95]\n",
      "0.2\n",
      "[ 0.    0.05  1.  ]\n",
      "0.2\n",
      "[ 0.  1.  0.]\n",
      "0.2\n",
      "[ 0.    0.95  0.  ]\n",
      "0.2\n",
      "[ 0.    1.    0.05]\n",
      "0.2\n",
      "[ 1.  0.  0.]\n",
      "0.2\n",
      "[ 1.    0.05  0.  ]\n",
      "0.2\n",
      "[ 1.    0.    0.05]\n",
      "0.2\n",
      "[ 1.  1.  0.]\n",
      "0.2\n"
     ]
    }
   ],
   "source": [
    "from matplotlib import pyplot as plt\n",
    "import numpy as np\n",
    "%matplotlib inline \n",
    "\n",
    "colors = np.array([[0., 0., 1.],\n",
    "                  [0., 0., 0.95],\n",
    "                  [0., 0.05, 1.],\n",
    "                  [0., 1., 0.],\n",
    "                  [0., 0.95, 0.],\n",
    "                  [0., 1., 0.05],\n",
    "                  [1., 0., 0.],                \n",
    "                  [1., 0.05, 0.],\n",
    "                   [1., 0., 0.05],\n",
    "                   [1., 1., 0.]])\n",
    "\n",
    "som = SOM(4,4,3)\n",
    "som.train(colors)\n",
    "\n",
    "#plt.imshow(som.centroid_grid)\n",
    "#plt.show()"
   ]
  },
  {
   "cell_type": "code",
   "execution_count": 39,
   "metadata": {
    "collapsed": false
   },
   "outputs": [
    {
     "name": "stdout",
     "output_type": "stream",
     "text": [
      "[[ 6 15 24]\n",
      " [ 6 15 24]]\n"
     ]
    }
   ],
   "source": [
    "x = [[[1, 2, 3], [4,5,6] , [7,8,9]], [[1,2,3], [4,5,6], [7,8,9]]]\n",
    "\n",
    "with tf.Session() as sess:\n",
    "    sess.run(tf.global_variables_initializer())\n",
    "    print(sess.run(tf.reduce_sum(x,2)))"
   ]
  },
  {
   "cell_type": "code",
   "execution_count": null,
   "metadata": {
    "collapsed": true
   },
   "outputs": [],
   "source": [
    "\n"
   ]
  }
 ],
 "metadata": {
  "kernelspec": {
   "display_name": "python2",
   "language": "python",
   "name": "python2"
  },
  "language_info": {
   "codemirror_mode": {
    "name": "ipython",
    "version": 2
   },
   "file_extension": ".py",
   "mimetype": "text/x-python",
   "name": "python",
   "nbconvert_exporter": "python",
   "pygments_lexer": "ipython2",
   "version": "2.7.6"
  }
 },
 "nbformat": 4,
 "nbformat_minor": 0
}
