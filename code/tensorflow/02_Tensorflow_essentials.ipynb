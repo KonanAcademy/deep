{
 "cells": [
  {
   "cell_type": "markdown",
   "metadata": {},
   "source": [
    "## Different ways to represent tensors"
   ]
  },
  {
   "cell_type": "code",
   "execution_count": 2,
   "metadata": {
    "collapsed": false
   },
   "outputs": [
    {
     "name": "stdout",
     "output_type": "stream",
     "text": [
      "<type 'list'>\n",
      "<type 'numpy.ndarray'>\n",
      "<class 'tensorflow.python.framework.ops.Tensor'>\n"
     ]
    }
   ],
   "source": [
    "import tensorflow as tf\n",
    "import numpy as np\n",
    "\n",
    "m1 = [[1.0, 2.0],\n",
    "     [3.0, 4.0]]\n",
    "m2 = np.array([[1.0, 2.0],\n",
    "              [3.0, 4.0]], dtype=np.float32)\n",
    "m3 = tf.constant([[1.0, 2.0],\n",
    "                 [3.0, 4.0]])\n",
    "\n",
    "print(type(m1))\n",
    "print(type(m2))\n",
    "print(type(m3))"
   ]
  },
  {
   "cell_type": "code",
   "execution_count": 29,
   "metadata": {
    "collapsed": false
   },
   "outputs": [
    {
     "name": "stdout",
     "output_type": "stream",
     "text": [
      "<class 'tensorflow.python.framework.ops.Tensor'>\n",
      "<class 'tensorflow.python.framework.ops.Tensor'>\n",
      "<class 'tensorflow.python.framework.ops.Tensor'>\n"
     ]
    }
   ],
   "source": [
    "t1 = tf.convert_to_tensor(m1, dtype=tf.float32)\n",
    "t2 = tf.convert_to_tensor(m2, dtype=tf.float32)\n",
    "t3 = tf.convert_to_tensor(m3, dtype=tf.float32)\n",
    "\n",
    "print(type(t1))\n",
    "print(type(t2))\n",
    "print(type(t3))"
   ]
  },
  {
   "cell_type": "markdown",
   "metadata": {},
   "source": [
    "## Creating tensors"
   ]
  },
  {
   "cell_type": "code",
   "execution_count": 30,
   "metadata": {
    "collapsed": false
   },
   "outputs": [
    {
     "name": "stdout",
     "output_type": "stream",
     "text": [
      "Tensor(\"Const_5:0\", shape=(1, 2), dtype=float32)\n",
      "Tensor(\"Const_6:0\", shape=(2, 1), dtype=int32)\n",
      "Tensor(\"Const_7:0\", shape=(2, 3, 2), dtype=int32)\n"
     ]
    }
   ],
   "source": [
    "matrix1 = tf.constant([[1., 2.]])\n",
    "matrix2 = tf.constant([[1],[2]])\n",
    "myTensor = tf.constant([[[1,2],[3,4],[5,6]],\n",
    "                        [[7,8],[9,10],[11,12]]])\n",
    "print(matrix1)\n",
    "print(matrix2)\n",
    "print(myTensor)                        "
   ]
  },
  {
   "cell_type": "markdown",
   "metadata": {},
   "source": [
    "## Using the negation operator"
   ]
  },
  {
   "cell_type": "code",
   "execution_count": 6,
   "metadata": {
    "collapsed": false
   },
   "outputs": [
    {
     "name": "stdout",
     "output_type": "stream",
     "text": [
      "Tensor(\"Neg_1:0\", shape=TensorShape([Dimension(1), Dimension(2)]), dtype=int32)\n",
      "[[-1 -2]]\n"
     ]
    }
   ],
   "source": [
    "x = tf.constant([[1, 2]])\n",
    "neg_x = tf.neg(x)\n",
    "print(neg_x)\n",
    "\n",
    "with tf.Session() as sess:\n",
    "    result = sess.run(neg_x)\n",
    "print(result)"
   ]
  },
  {
   "cell_type": "markdown",
   "metadata": {},
   "source": [
    "## Using the interactive session mode"
   ]
  },
  {
   "cell_type": "code",
   "execution_count": 9,
   "metadata": {
    "collapsed": false
   },
   "outputs": [
    {
     "name": "stdout",
     "output_type": "stream",
     "text": [
      "[[-1 -2]]\n"
     ]
    }
   ],
   "source": [
    "sess = tf.InteractiveSession()\n",
    "result = neg_x.eval()\n",
    "print(result)\n",
    "sess.close()"
   ]
  },
  {
   "cell_type": "markdown",
   "metadata": {},
   "source": [
    "## Logging a session"
   ]
  },
  {
   "cell_type": "code",
   "execution_count": 10,
   "metadata": {
    "collapsed": false
   },
   "outputs": [
    {
     "name": "stdout",
     "output_type": "stream",
     "text": [
      "[[-1 -2]]\n"
     ]
    }
   ],
   "source": [
    "with tf.Session(config=tf.ConfigProto(log_device_placement=True)) as sess:\n",
    "    result = sess.run(neg_x)\n",
    "print(result)"
   ]
  },
  {
   "cell_type": "markdown",
   "metadata": {},
   "source": [
    "## Using a variable"
   ]
  },
  {
   "cell_type": "code",
   "execution_count": 11,
   "metadata": {
    "collapsed": false
   },
   "outputs": [
    {
     "name": "stdout",
     "output_type": "stream",
     "text": [
      "('Spike', False)\n",
      "('Spike', True)\n",
      "('Spike', False)\n",
      "('Spike', False)\n",
      "('Spike', True)\n",
      "('Spike', False)\n",
      "('Spike', True)\n"
     ]
    }
   ],
   "source": [
    "sess =tf.InteractiveSession()\n",
    "raw_data = [1., 2., 8., -1., 0., 5.5, 6., 13]\n",
    "spike = tf.Variable(False)\n",
    "spike.initializer.run()\n",
    "\n",
    "for i in range(1, len(raw_data)):\n",
    "    if raw_data[i] - raw_data[i-1] > 5:\n",
    "        updater = tf.assign(spike, True)\n",
    "        updater.eval()\n",
    "    else:\n",
    "        tf.assign(spike, False).eval()\n",
    "    print(\"Spike\", spike.eval())\n",
    "sess.close()"
   ]
  },
  {
   "cell_type": "markdown",
   "metadata": {},
   "source": [
    "## Saving variables"
   ]
  },
  {
   "cell_type": "code",
   "execution_count": 40,
   "metadata": {
    "collapsed": false
   },
   "outputs": [
    {
     "name": "stdout",
     "output_type": "stream",
     "text": [
      "spikes data saved in file: spikes.ckpt\n"
     ]
    }
   ],
   "source": [
    "sess =tf.InteractiveSession()\n",
    "raw_data = [1., 2., 8., -1., 0., 5.5, 6., 13]\n",
    "spikes = tf.Variable([False] * len(raw_data), name='spikes')\n",
    "spikes.initializer.run()\n",
    "\n",
    "saver = tf.train.Saver({'spikes': spikes})\n",
    "\n",
    "for i in range(1, len(raw_data)):\n",
    "    if raw_data[i] - raw_data[i-1] > 5:\n",
    "        spikes_val = spikes.eval()\n",
    "        spikes_val[i] = True\n",
    "        updater = tf.assign(spikes, spikes_val)\n",
    "        updater.eval()\n",
    "\n",
    "save_path = saver.save(sess, \"spikes.ckpt\")\n",
    "print(\"spikes data saved in file: %s\" % save_path)\n",
    "sess.close()"
   ]
  },
  {
   "cell_type": "markdown",
   "metadata": {
    "collapsed": true
   },
   "source": [
    "## Loading variables"
   ]
  },
  {
   "cell_type": "code",
   "execution_count": 43,
   "metadata": {
    "collapsed": false
   },
   "outputs": [
    {
     "name": "stdout",
     "output_type": "stream",
     "text": [
      "[False False  True False False  True False  True]\n"
     ]
    }
   ],
   "source": [
    "sess = tf.InteractiveSession()\n",
    "spikes = tf.Variable([False] * len(raw_data), name='spikes')\n",
    "saver = tf.train.Saver({'spikes':spikes})\n",
    "\n",
    "saver.restore(sess, \"./spikes.ckpt\")\n",
    "print(spikes.eval())\n",
    "sess.close()"
   ]
  },
  {
   "cell_type": "markdown",
   "metadata": {},
   "source": [
    "## Visualizing data using TensorBoard"
   ]
  },
  {
   "cell_type": "code",
   "execution_count": 3,
   "metadata": {
    "collapsed": false
   },
   "outputs": [
    {
     "name": "stdout",
     "output_type": "stream",
     "text": [
      "WARNING:tensorflow:From <ipython-input-3-4a75169bef34>:8 in <module>.: scalar_summary (from tensorflow.python.ops.logging_ops) is deprecated and will be removed after 2016-11-30.\n",
      "Instructions for updating:\n",
      "Please switch to tf.summary.scalar. Note that tf.summary.scalar uses the node name instead of the tag. This means that TensorFlow will automatically de-duplicate summary names based on the scope they are created in. Also, passing a tensor or list of tags to a scalar summary op is no longer supported.\n",
      "WARNING:tensorflow:From <ipython-input-3-4a75169bef34>:9 in <module>.: scalar_summary (from tensorflow.python.ops.logging_ops) is deprecated and will be removed after 2016-11-30.\n",
      "Instructions for updating:\n",
      "Please switch to tf.summary.scalar. Note that tf.summary.scalar uses the node name instead of the tag. This means that TensorFlow will automatically de-duplicate summary names based on the scope they are created in. Also, passing a tensor or list of tags to a scalar summary op is no longer supported.\n",
      "WARNING:tensorflow:From <ipython-input-3-4a75169bef34>:10 in <module>.: merge_all_summaries (from tensorflow.python.ops.logging_ops) is deprecated and will be removed after 2016-11-30.\n",
      "Instructions for updating:\n",
      "Please switch to tf.summary.merge_all.\n",
      "WARNING:tensorflow:From /usr/local/lib/python2.7/dist-packages/tensorflow/python/ops/logging_ops.py:264 in merge_all_summaries.: merge_summary (from tensorflow.python.ops.logging_ops) is deprecated and will be removed after 2016-11-30.\n",
      "Instructions for updating:\n",
      "Please switch to tf.summary.merge.\n",
      "WARNING:tensorflow:From <ipython-input-3-4a75169bef34>:11 in <module>.: __init__ (from tensorflow.python.training.summary_io) is deprecated and will be removed after 2016-11-30.\n",
      "Instructions for updating:\n",
      "Please switch to tf.summary.FileWriter. The interface and behavior is the same; this is just a rename.\n",
      "WARNING:tensorflow:From <ipython-input-3-4a75169bef34>:13 in <module>.: initialize_all_variables (from tensorflow.python.ops.variables) is deprecated and will be removed after 2017-03-02.\n",
      "Instructions for updating:\n",
      "Use `tf.global_variables_initializer` instead.\n",
      "(9.6625662427849672, 0.48312831)\n",
      "(9.5076513718441475, 0.93435442)\n",
      "(10.066462633065212, 1.3909599)\n",
      "(9.4344843233423603, 1.7931361)\n",
      "(10.627842842093617, 2.2348714)\n",
      "(9.7554289617384047, 2.6108992)\n",
      "(9.2172398431203408, 2.9412162)\n",
      "(9.4517826495208119, 3.2667444)\n",
      "(9.7673240140456343, 3.5917733)\n",
      "(9.4015097109891634, 3.8822598)\n",
      "(8.4105867124167677, 4.108676)\n",
      "(9.3280354494529849, 4.3696437)\n",
      "(11.10771301439422, 4.7065473)\n",
      "(9.7335266268582643, 4.9578962)\n",
      "(10.259714508498696, 5.2229872)\n",
      "(10.233841245262798, 5.4735298)\n",
      "(10.289148876062963, 5.7143106)\n",
      "(8.4277704878823201, 5.8499837)\n",
      "(10.835512103422852, 6.0992603)\n",
      "(8.2530235020307572, 6.2069483)\n",
      "(10.334541022115834, 6.4133277)\n",
      "(10.964411979613189, 6.640882)\n",
      "(10.930559682868669, 6.8553658)\n",
      "(10.940309330443435, 7.0596132)\n",
      "(12.337487726223955, 7.3235068)\n",
      "(8.3413309720437496, 7.3743978)\n",
      "(11.392549602189817, 7.575305)\n",
      "(11.153177460474147, 7.7541986)\n",
      "(9.5873278130127915, 7.8458548)\n",
      "(10.128154263950396, 7.9599695)\n",
      "(9.7574562975479928, 8.0498438)\n",
      "(8.4537493596876008, 8.0700388)\n",
      "(9.6770926701344795, 8.1503916)\n",
      "(10.503268340430903, 8.2680349)\n",
      "(10.233154643735224, 8.366291)\n",
      "(11.03125229321404, 8.4995394)\n",
      "(11.912699558431644, 8.6701975)\n",
      "(9.2861816325998436, 8.7009964)\n",
      "(10.365840029146385, 8.7842388)\n",
      "(9.2934430052930619, 8.8096991)\n",
      "(9.4007877413614889, 8.8392534)\n",
      "(9.8375580818681918, 8.8891678)\n",
      "(8.8682124778071234, 8.8881197)\n",
      "(11.199566976574269, 9.0036917)\n",
      "(9.7746155062984936, 9.0422373)\n",
      "(8.7001617126686401, 9.0251331)\n",
      "(9.703428421680659, 9.0590477)\n",
      "(8.0679644223916931, 9.0094938)\n",
      "(11.316012939331399, 9.1248198)\n",
      "(8.0204086140139506, 9.0695992)\n",
      "(10.257658515970848, 9.1290026)\n",
      "(11.436034908511164, 9.2443542)\n",
      "(8.7792269800146663, 9.221097)\n",
      "(10.169172346356202, 9.2685013)\n",
      "(9.7650892822092885, 9.2933302)\n",
      "(9.6521717213188758, 9.3112726)\n",
      "(10.582558801133883, 9.3748369)\n",
      "(8.323376563097268, 9.3222637)\n",
      "(10.743046627819187, 9.3933029)\n",
      "(8.6474250913897279, 9.3560085)\n",
      "(10.686593237204324, 9.4225378)\n",
      "(8.9826089852837292, 9.4005413)\n",
      "(7.8241886665866023, 9.3217239)\n",
      "(8.6585068443783211, 9.2885628)\n",
      "(10.860780032404826, 9.3671741)\n",
      "(12.581278903498877, 9.5278788)\n",
      "(8.8876754608814998, 9.4958687)\n",
      "(10.088576619388268, 9.5255041)\n",
      "(8.8466161380732533, 9.491559)\n",
      "(9.553204543997861, 9.4946413)\n",
      "(9.4282130230195218, 9.4913197)\n",
      "(9.6994858475190906, 9.5017271)\n",
      "(9.3458116004042555, 9.4939318)\n",
      "(9.0096115613116243, 9.4697151)\n",
      "(9.5120487471606783, 9.4718313)\n",
      "(9.7818273865307432, 9.4873304)\n",
      "(8.9708823869877783, 9.4615088)\n",
      "(8.4024184303490479, 9.4085541)\n",
      "(9.7892196585885429, 9.4275875)\n",
      "(10.334120082969941, 9.4729137)\n",
      "(9.435315456766908, 9.4710331)\n",
      "(9.7366216157707939, 9.4843121)\n",
      "(8.0847246846574361, 9.4143324)\n",
      "(8.4744668329520394, 9.3673391)\n",
      "(9.4947429297541888, 9.3737097)\n",
      "(10.248507803132945, 9.41745)\n",
      "(11.689515337557074, 9.5310526)\n",
      "(8.5064532318853487, 9.4798222)\n",
      "(7.7809607046227844, 9.3948784)\n",
      "(10.516364062101186, 9.4509525)\n",
      "(10.687450604516794, 9.5127773)\n",
      "(11.493018621065305, 9.6117887)\n",
      "(9.3393267307479224, 9.5981655)\n",
      "(10.695438539242707, 9.6530294)\n",
      "(8.6804690480019335, 9.6044016)\n",
      "(10.515701366373218, 9.6499672)\n",
      "(9.8964845604722917, 9.6622934)\n",
      "(10.678878845073116, 9.7131224)\n",
      "(10.263123568053967, 9.7406225)\n",
      "(9.5963425523630939, 9.7334089)\n"
     ]
    }
   ],
   "source": [
    "raw_data = np.random.normal(10, 1, 100)\n",
    "\n",
    "alpha = tf.constant(0.05)\n",
    "curr_value = tf.placeholder(tf.float32)\n",
    "prev_avg = tf.Variable(0.)\n",
    "update_avg = alpha * curr_value + (1 - alpha) * prev_avg\n",
    "\n",
    "avg_hist = tf.scalar_summary(\"running average\", update_avg)\n",
    "value_hist = tf.scalar_summary(\"incoming values\", curr_value)\n",
    "merged = tf.merge_all_summaries()\n",
    "writer = tf.train.SummaryWriter(\"./logs\")\n",
    "\n",
    "init = tf.initialize_all_variables()\n",
    "\n",
    "with tf.Session() as sess:\n",
    "    sess.run(init)\n",
    "    for i in range(len(raw_data)):\n",
    "        summary_str, curr_avg = sess.run([merged, update_avg], feed_dict={curr_value:raw_data[i]})\n",
    "        sess.run(tf.assign(prev_avg, curr_avg))\n",
    "        print(raw_data[i], curr_avg)\n",
    "        writer.add_summary(summary_str, i)"
   ]
  },
  {
   "cell_type": "code",
   "execution_count": null,
   "metadata": {
    "collapsed": true
   },
   "outputs": [],
   "source": []
  }
 ],
 "metadata": {
  "kernelspec": {
   "display_name": "python2",
   "language": "python",
   "name": "python2"
  },
  "language_info": {
   "codemirror_mode": {
    "name": "ipython",
    "version": 2
   },
   "file_extension": ".py",
   "mimetype": "text/x-python",
   "name": "python",
   "nbconvert_exporter": "python",
   "pygments_lexer": "ipython2",
   "version": "2.7.6"
  }
 },
 "nbformat": 4,
 "nbformat_minor": 0
}
