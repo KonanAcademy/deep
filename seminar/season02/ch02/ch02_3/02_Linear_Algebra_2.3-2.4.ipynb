{
 "cells": [
  {
   "cell_type": "markdown",
   "metadata": {},
   "source": [
    "# Chapter 2 Linear Algebra"
   ]
  },
  {
   "cell_type": "markdown",
   "metadata": {},
   "source": [
    "* 유주원"
   ]
  },
  {
   "cell_type": "markdown",
   "metadata": {},
   "source": [
    "# Chapter 2.3 Identity and Inverse Matrices"
   ]
  },
  {
   "cell_type": "markdown",
   "metadata": {},
   "source": [
    "* 단위 행렬\n",
    " - 오른쪽에서 왼쪽으로 향하는 대각선이 전부 1이고 나머지가 0인 nxn 정사각 행렬.\n",
    " - 교환법칙 성립! (정사각 행렬일 경우에만)\n",
    " - 곱셈에 대한 항등원."
   ]
  },
  {
   "cell_type": "markdown",
   "metadata": {},
   "source": [
    "<img src=\"figures/fig2.1.png\" width=400 />"
   ]
  },
  {
   "cell_type": "markdown",
   "metadata": {},
   "source": [
    "<img src=\"figures/fig2.2.png\" width=200 />"
   ]
  },
  {
   "cell_type": "markdown",
   "metadata": {},
   "source": [
    "* 역행렬\n",
    " - 어떤 행렬과 자기 자신을 곱했을 때 단위행렬이 나옴.\n",
    " - 곱셈에 대한 역원"
   ]
  },
  {
   "cell_type": "markdown",
   "metadata": {},
   "source": [
    "<img src=\"figures/fig2.3.png\" width=200 />"
   ]
  },
  {
   "cell_type": "markdown",
   "metadata": {},
   "source": [
    "* 역행렬이 존재한다는 가정하에서 ..."
   ]
  },
  {
   "cell_type": "markdown",
   "metadata": {},
   "source": [
    "<img src=\"figures/fig2.4.png\" width=200 />"
   ]
  },
  {
   "cell_type": "markdown",
   "metadata": {},
   "source": [
    "# Chapter 2.4 Linear Dependence and Span"
   ]
  },
  {
   "cell_type": "markdown",
   "metadata": {},
   "source": [
    "* A의 역행렬이 존재하기 위해서는 Ax = b 의 해가 반드시 하나이어야 한다. [ closed form]\n",
    "* 그러나 해가 없을 수도, 무수히 많은 해가 존재할 때도 있다.\n",
    "* 이 방정식이 해가 있는지 없는지 어떻게 찾아야 하나???\n",
    "* Linear combination\n",
    "  - n개의 벡터에 대해 임의의 스칼라를 곱하고 더함으로써 새로운 벡터 V를 만들어 냄.\n",
    "* span\n",
    "  - Linear combination에 의해 얻어진 모든 벡터들의 집합."
   ]
  },
  {
   "cell_type": "markdown",
   "metadata": {},
   "source": [
    "<img src=\"figures/fig2.5.png\" width=300 />"
   ]
  },
  {
   "cell_type": "markdown",
   "metadata": {},
   "source": [
    "<img src=\"figures/fig2.6.png\" width=600 />"
   ]
  },
  {
   "cell_type": "markdown",
   "metadata": {
    "collapsed": true
   },
   "source": [
    "* column space\n",
    "  - 행렬의 열벡터에 의해 생성된 span\n",
    "  - Ax = b 가 값을 가지기 위해서는 b 가 A의 column space 안에 존재해야 한다.\n",
    "  - column space의 요구사항.\n",
    "  - The requirement that the column space of A be all of Rm implies immediately that A must have at least m columns, i.e., n ≥ m.\n",
    "  - 같은 값을 가지는 2 x 2 행렬일 경우에는 무한한 값이 나타난다. (linear dependence)\n",
    "  - linear combination의 집합 안에 해당하는 벡터가 없는 경우 (linear independent)\n",
    "  \n",
    "* 행렬이 inverse 행렬을 가지기 위해서는\n",
    "  - 행렬은 반드시 square어야 하고, 모든 열들은 linear independent 해야 한다. ( 그래야 결합할 때 충돌 방지)\n",
    "  - linear dependent한 열을 singular라고 부른다.\n",
    "  - 행렬이 square가 아니거나 square이지만 singular 일 경우에도 방정식을 풀 수는 있음. 하지만 inverse matrix는 아님.\n"
   ]
  },
  {
   "cell_type": "code",
   "execution_count": null,
   "metadata": {
    "collapsed": true
   },
   "outputs": [],
   "source": []
  }
 ],
 "metadata": {
  "kernelspec": {
   "display_name": "python2",
   "language": "python",
   "name": "python2"
  },
  "language_info": {
   "codemirror_mode": {
    "name": "ipython",
    "version": 2
   },
   "file_extension": ".py",
   "mimetype": "text/x-python",
   "name": "python",
   "nbconvert_exporter": "python",
   "pygments_lexer": "ipython2",
   "version": "2.7.6"
  }
 },
 "nbformat": 4,
 "nbformat_minor": 0
}
