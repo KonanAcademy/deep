{
 "cells": [
  {
   "cell_type": "markdown",
   "metadata": {},
   "source": [
    "# Chapter 10 SEQUENCE MODELING: RECURRENT AND RECURSIVE NETS"
   ]
  },
  {
   "cell_type": "markdown",
   "metadata": {},
   "source": [
    "* 유주원"
   ]
  },
  {
   "cell_type": "markdown",
   "metadata": {},
   "source": [
    "# Chapter 10.5 Deep Recurrent Networks"
   ]
  },
  {
   "cell_type": "markdown",
   "metadata": {},
   "source": [
    "* 대부분의 RNN은 아래의 3 단계로 구성이 된다.\n",
    "    - input 에서 hidden state로\n",
    "    - 이전의 hidden state에서 다음의 hidden state로\n",
    "    - hidden state에서 output으로."
   ]
  },
  {
   "cell_type": "markdown",
   "metadata": {
    "collapsed": true
   },
   "source": [
    "<img src =\"./figures/fig1.png\" />\n",
    "<img src =\"./figures/fig2.png\" />"
   ]
  },
  {
   "cell_type": "markdown",
   "metadata": {
    "collapsed": true
   },
   "source": [
    "### 과연 이러한 모델이 유용한가?\n",
    "* Experimental evidence (Graves et al, 2013; Pascanu et al, 2014a) 를 통해 RNN이 유용함을 강력하게 입증됐다.\n",
    "* http://www.cs.toronto.edu/~graves/gen_seq_rnn.pdf (Graves et al)\n",
    "* http://www.cs.toronto.edu/~graves/handwriting.cgi?text=hello&style=..%2Fdata%2Ftrainset_diff_no_start_all_labels.nc%2C1082%2B554&bias=0.15&samples=3 (DEMO)\n",
    "* Pascanu et al.(2014a)는 한 발 더 나아가 별도의 MLP를 제안한다. (fig 10.13b)\n",
    "* 각각의 step에서의 충분한 capacity를 제공하기 위해 fig 10.13b 같은 방식이 제안되었지만, depth를 추가할수록 최적화는 점점 더 어려워진다.\n",
    "* Pascanu et al.(2014a) 에서는 hidden layer 사이에 skip connection을 도입함으로써 위의 문제를 완화시켰다. (fig 10.13c) \n"
   ]
  },
  {
   "cell_type": "code",
   "execution_count": null,
   "metadata": {
    "collapsed": true
   },
   "outputs": [],
   "source": []
  }
 ],
 "metadata": {
  "kernelspec": {
   "display_name": "python2",
   "language": "python",
   "name": "python2"
  },
  "language_info": {
   "codemirror_mode": {
    "name": "ipython",
    "version": 2
   },
   "file_extension": ".py",
   "mimetype": "text/x-python",
   "name": "python",
   "nbconvert_exporter": "python",
   "pygments_lexer": "ipython2",
   "version": "2.7.6"
  }
 },
 "nbformat": 4,
 "nbformat_minor": 0
}
