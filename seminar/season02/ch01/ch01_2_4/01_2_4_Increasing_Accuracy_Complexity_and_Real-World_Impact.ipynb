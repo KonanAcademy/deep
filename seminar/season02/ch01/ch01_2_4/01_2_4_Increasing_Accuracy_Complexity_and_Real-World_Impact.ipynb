{
 "cells": [
  {
   "cell_type": "markdown",
   "metadata": {},
   "source": [
    "# Chapter 1. Introduction"
   ]
  },
  {
   "cell_type": "markdown",
   "metadata": {},
   "source": [
    "* 딥러닝 세미나 : 이론 [1]\n",
    "* 김무성"
   ]
  },
  {
   "cell_type": "markdown",
   "metadata": {},
   "source": [
    "# Contents"
   ]
  },
  {
   "cell_type": "markdown",
   "metadata": {},
   "source": [
    "* 1.1 Who Should Read This Book?\n",
    "* 1.2 Historical Trends in Deep Learning\n",
    "    - 1.2.1 The Many Names and Changing Fortunes of Neural Networks\n",
    "    - 1.2.2 Increasing Dataset Sizes \n",
    "    - 1.2.3 Increasing Model Sizes\n",
    "    - <font color=\"red\">1.2.4 Increasing Accuracy, Complexity and Real-World Impact</font>"
   ]
  },
  {
   "cell_type": "markdown",
   "metadata": {},
   "source": [
    "# 1.2.4 Increasing Accuracy, Complexity and Real-World Impact"
   ]
  },
  {
   "cell_type": "markdown",
   "metadata": {},
   "source": [
    "#### Computer Vision (object recognition)\n",
    "\n",
    "##### 참고 \n",
    "* [2] ImageNet - http://image-net.org/\n",
    "* [3] ILSVRC 2015 - http://image-net.org/challenges/ilsvrc+mscoco2015\n",
    "* [4] ILSVRC 2014 - http://image-net.org/challenges/LSVRC/2014/eccv2014\n",
    "\n",
    "Since the 1980s, deep learning has consistently improved in its ability to provideaccurate recognition or prediction. Moreover, deep learning has consistently beenapplied with success to broader and broader sets of applications.\n",
    "* ImageNet : Large Scale Visual Recognition Challenge (ILSVRC)"
   ]
  },
  {
   "cell_type": "markdown",
   "metadata": {},
   "source": [
    "<img src=\"figures/fig1.12.png\" width=600 />"
   ]
  },
  {
   "cell_type": "markdown",
   "metadata": {},
   "source": [
    "#### Speech recognition\n",
    "\n",
    "Deep learning has also had a dramatic impact on speech recognition. Afterimproving throughout the 1990s, the error rates for speech recognition stagnatedstarting in about 2000. \n",
    "* The introduction of deep learning (Dahl et al., 2010; Denget al., 2010b; Seide et al., 2011; Hinton et al., 2012a) to speech recognition resultedin a sudden drop of error rates, with some error rates cut in half."
   ]
  },
  {
   "cell_type": "markdown",
   "metadata": {},
   "source": [
    "#### Natural Language Processing +\n",
    "\n",
    "At the same time that the scale and accuracy of deep networks has increased,so has the complexity of the tasks that they can solve.\n",
    "* Goodfellow et al. (2014d)showed that neural networks could learn to output an entire sequence of characterstranscribed from an image, rather than just identifying a single object.\n",
    "* RNN, LSTM, GRU\n",
    "* Sequence-to-Sequence learning"
   ]
  },
  {
   "cell_type": "markdown",
   "metadata": {},
   "source": [
    "#### Self-Programming Technology\n",
    "\n",
    "This trend of increasing complexity has been pushed to its logical conclusion with the introduction of neural Turing machines (Graves et al., 2014a) that learnto read from memory cells and write arbitrary content to memory cells."
   ]
  },
  {
   "cell_type": "markdown",
   "metadata": {},
   "source": [
    "#### Reinforcement learning\n",
    "\n",
    "Another crowning achievement of deep learning is its extension to the domain of reinforcement learning. \n",
    "* In the context of reinforcement learning, an autonomous agent must learn to perform a task by trial and error, without any guidance fromthe human operator. \n",
    "* DeepMind demonstrated that a reinforcement learning system based on deep learning is capable of learning to play Atari video games, reaching human-level performance on many tasks"
   ]
  },
  {
   "cell_type": "markdown",
   "metadata": {},
   "source": [
    "#### Companies\n",
    "\n",
    "Many of these applications of deep learning are highly proﬁtable.\n",
    "* Deep learningis now used by many top technology companies including\n",
    "    - Google, \n",
    "    - Microsoft,\n",
    "    - Facebook, \n",
    "    - IBM, \n",
    "    - Baidu, \n",
    "    - Apple, \n",
    "    - Adobe, \n",
    "    - Netﬂix, \n",
    "    - NVIDIA and \n",
    "    - NEC"
   ]
  },
  {
   "cell_type": "markdown",
   "metadata": {},
   "source": [
    "#### Software libraries\n",
    "\n",
    "Advances in deep learning have also depended heavily on advances in software infrastructure. \n",
    "* Software libraries such as \n",
    "    - Theano (Bergstra et al., 2010; Bastienet al., 2012), \n",
    "    - PyLearn2 (Goodfellow et al., 2013c), \n",
    "    - Torch (Collobert et al., 2011b),\n",
    "    - DistBelief (Dean et al., 2012), \n",
    "    - Caﬀe (Jia, 2013), \n",
    "    - MXNet (Chen et al., 2015), and\n",
    "    - TensorFlow (Abadi et al., 2015) \n",
    "* have all supported important research projects or commercial products."
   ]
  },
  {
   "cell_type": "markdown",
   "metadata": {},
   "source": [
    "#### Other sciences\n",
    "\n",
    "Deep learning has also made contributions back to other sciences. \n",
    "* Modern convolutional networks for object recognition provide a <font color=\"red\">model of visual processing that neuroscientists</font> can study (DiCarlo, 2013)\n",
    "* Deep learning also provides <font color=\"red\">useful tools for processing massive amounts of data</font> and <font color=\"red\">making useful predictions</font> in scientiﬁc ﬁelds.\n",
    "* It has been successfully used \n",
    "    * to <font color=\"red\">predict how molecules will interact</font> in order to help <font color=\"red\">pharmaceutical</font> companies design <font color=\"red\">new drugs</font> (Dahl et al., 2014),\n",
    "    * to <font color=\"red\">search for subatomic particles</font> (Baldi et al., 2014), and \n",
    "    * to <font color=\"red\">automatically parse microscope images</font> used to <font color=\"red\">construct a 3-D map</font> of the <font color=\"red\">human brain</font> (Knowles-Barley et al., 2014). \n",
    "    \n",
    "We expect deep learning to appear in more and <font color=\"red\">more scientiﬁc ﬁelds in the future</font>."
   ]
  },
  {
   "cell_type": "markdown",
   "metadata": {},
   "source": [
    "# 참고자료"
   ]
  },
  {
   "cell_type": "markdown",
   "metadata": {},
   "source": [
    "* [1] DEEP LEARNING (Yoshua Bengio)- http://www.deeplearningbook.org/\n",
    "* [2] ImageNet - http://image-net.org/\n",
    "* [3] ILSVRC 2015 - http://image-net.org/challenges/ilsvrc+mscoco2015\n",
    "* [4] ILSVRC 2014 - http://image-net.org/challenges/LSVRC/2014/eccv2014\n"
   ]
  },
  {
   "cell_type": "code",
   "execution_count": null,
   "metadata": {
    "collapsed": true
   },
   "outputs": [],
   "source": []
  }
 ],
 "metadata": {
  "kernelspec": {
   "display_name": "Python 2",
   "language": "python",
   "name": "python2"
  },
  "language_info": {
   "codemirror_mode": {
    "name": "ipython",
    "version": 2
   },
   "file_extension": ".py",
   "mimetype": "text/x-python",
   "name": "python",
   "nbconvert_exporter": "python",
   "pygments_lexer": "ipython2",
   "version": "2.7.6"
  }
 },
 "nbformat": 4,
 "nbformat_minor": 0
}
