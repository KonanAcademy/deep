{
 "cells": [
  {
   "cell_type": "markdown",
   "metadata": {},
   "source": [
    "# Chapter 1 Introduction"
   ]
  },
  {
   "cell_type": "markdown",
   "metadata": {},
   "source": [
    "* 유주원"
   ]
  },
  {
   "cell_type": "markdown",
   "metadata": {},
   "source": [
    "# Chapter 1.2.2 Increasing DataSet Sizes"
   ]
  },
  {
   "cell_type": "markdown",
   "metadata": {},
   "source": [
    "* Deep learning이 각광받기 시작하는 첫 번째 이유.\n",
    "    - 1950년대에 도입된 뉴럴 네트워트가 왜 이제서야 중요한 기술로써 자리잡게 되었을까?\n",
    "    - 1990년대에도 상업적 측면에서 사용되긴 했지만, 사람들은 종종 기술이라기 보다는 예술로써 인식하고 있었고, 오직 전문적인 사람들만 사용할 수 있는 분야라고 생각하고 있었다.\n",
    "    - 그런데 왜 갑자기??\n",
    "    -  1. 요구되는 딥러닝 스킬의 양이 학습하려는 데이터 증가율보다 현저히 작다.\n",
    "    -  2. 현대의 학습 알고리즘의 거의 사람의 수행능력 근사치까지 올라왔다.(1980년대부터 toy problem을 풀기 시작함)"
   ]
  },
  {
   "cell_type": "markdown",
   "metadata": {},
   "source": [
    "<img src=\"figures/fig1.8.png\" width=800 />"
   ]
  },
  {
   "cell_type": "markdown",
   "metadata": {},
   "source": [
    "<img src=\"figures/fig1.9.png\" width=800 />"
   ]
  },
  {
   "cell_type": "markdown",
   "metadata": {},
   "source": [
    "* http://yann.lecun.com/exdb/mnist/\n",
    "* http://www.image-net.org/\n",
    "* https://www.cs.toronto.edu/~kriz/cifar.html"
   ]
  },
  {
   "cell_type": "markdown",
   "metadata": {},
   "source": [
    "# Chapter 1.2.3 Increasing Model Sizes"
   ]
  },
  {
   "cell_type": "markdown",
   "metadata": {},
   "source": [
    "* Deep learning이 각광받기 시작하는 두 번째 이유.\n",
    "    - 1980년대 이후부터 거대한 크기의 모델을 실행시키기 위해서는 좋은 리소스를 가져야 했었다.\n",
    "    - 뉴런이 함께 일하느냐 아니냐에 따라 동물도 똑똑해 질 수 있다는 것을 알아냄. (connections를 의미)\n",
    "    - hidden unit이 소개된 이후로 매 2.4년당 두배의 크기로 인공 뉴런의 수가 늘어남.\n",
    "    - 이는 거대한 메모리를 가진 빠른 컴퓨터와 이용가능한 거대한 데이터셋을 발전시킴.\n",
    "    - 거대한 뉴런 네트워크는 보다 정확한 업무와 복잡한 업무가 가능해짐.\n",
    "    - Model size의 증가, 빠른 CPU, 일반적 사용을 위한 GPU 출현, 빠른 네트워크 연결성과 분산 계산을 위한 좀 더 나은 소프트웨어 구조 등은 deep learning에 있어서 가장 중요한 trend가 될 것이다."
   ]
  },
  {
   "cell_type": "markdown",
   "metadata": {},
   "source": [
    "<img src=\"figures/fig1.10.png\" width=800 />"
   ]
  },
  {
   "cell_type": "markdown",
   "metadata": {},
   "source": [
    "<img src=\"figures/fig1.11.png\" width=800 />"
   ]
  },
  {
   "cell_type": "code",
   "execution_count": null,
   "metadata": {
    "collapsed": true
   },
   "outputs": [],
   "source": []
  }
 ],
 "metadata": {
  "kernelspec": {
   "display_name": "Python 2",
   "language": "python",
   "name": "python2"
  },
  "language_info": {
   "codemirror_mode": {
    "name": "ipython",
    "version": 2
   },
   "file_extension": ".py",
   "mimetype": "text/x-python",
   "name": "python",
   "nbconvert_exporter": "python",
   "pygments_lexer": "ipython2",
   "version": "2.7.10"
  }
 },
 "nbformat": 4,
 "nbformat_minor": 0
}
