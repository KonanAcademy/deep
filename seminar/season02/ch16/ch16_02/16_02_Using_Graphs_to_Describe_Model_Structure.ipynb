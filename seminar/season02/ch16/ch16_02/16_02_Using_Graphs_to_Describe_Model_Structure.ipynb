{
 "cells": [
  {
   "cell_type": "markdown",
   "metadata": {},
   "source": [
    "# Chapter 16 Structured Probabilistic Models For Deep Learning"
   ]
  },
  {
   "cell_type": "markdown",
   "metadata": {},
   "source": [
    "* 유주원 \n",
    "<br><br>"
   ]
  },
  {
   "cell_type": "markdown",
   "metadata": {},
   "source": [
    "# Chapter 16.2 Using Graphs to Describe Model Structure"
   ]
  },
  {
   "cell_type": "markdown",
   "metadata": {},
   "source": [
    "* 구조적 확률 모델은 랜덤 변수 간의 상관 관계를 나타내기 위해 그래프를 사용한다.\n",
    "* 그래프를 사용해서 확률 분포 내의 여러 상관관계를 설명할 수 있다.\n",
    "* 다음 섹션에서 가장 인기 있고 유용한 접근법들을 설명할 것이다."
   ]
  },
  {
   "cell_type": "markdown",
   "metadata": {},
   "source": [
    "### 16.2.1 Directed Models<br>\n",
    "\n",
    "* 구조화된 확률 모델의 한 종류로 directed graphical model이 있으며, belief network 또는 Bayesian network2로도 알려져 있다.\n",
    "* directed graphical model은 \"directed\"라고 불리는데, edge가 한 정점에서 다른 정점으로의 방향을 가리키기 때문이다. \n",
    "* 이런 방향은 어떤 변수의 확률 분포가 다른 변수로부터 정의되었음을 나타낸다.\n",
    "* a에서 b로 화살그래프가 그려진다는 것은 (b|a)를 의미한다. 즉 b의 분포는 a의 값에 의존한다."
   ]
  },
  {
   "cell_type": "markdown",
   "metadata": {},
   "source": [
    "<img src=\"figures/fig1.png\" />"
   ]
  },
  {
   "cell_type": "markdown",
   "metadata": {
    "collapsed": true
   },
   "source": [
    "* Alice의 경주 완료 시간이 t0, Bob의 완주 시간이 t1, Carol의 완주 시간을 t2라고 가정하자.\n",
    "* t1의 추정 시간은 t0에 달려 있으며, t2는 t1에 직접적으로 의존하며 t0에는 간접적으로 의존한다."
   ]
  },
  {
   "cell_type": "markdown",
   "metadata": {},
   "source": [
    "<img src=\"./figures/fig2.png\" />"
   ]
  },
  {
   "cell_type": "markdown",
   "metadata": {
    "collapsed": true
   },
   "source": [
    "* 계산 비용을 확인해 봄으로써, 구조화된 모델이 구조화되지 않은 모델보다 더 많은 이점을 가진다는 것을 확인할 수 있다.\n",
    "* 0 ~ 10분 사이를 6초 단위로 자른다고 가정하면 총 100개의 값으로 나타낼 수가 있다.\n",
    "* 테이블로 p(t0, t1, t2)를 표현하려고 한다면 100 * 100 * 99로 총 999,999 개의 값을 저장할 필요가 있다. \n",
    "* 하지만 조건부 확률로 각각의 테이블을 만든다면, t0은 99개의 값을 필요로 하고 t0에 의해 주어진 t1은 9900 개의 값을 필요로 한다. 그리고 t1에 의해 주어진 t2의 값도 필요하며 결과적으로 총 19,899 개의 값이 필요하게 된다.\n",
    "* 즉, directed graphical model을 사용함으로써 50개 이상의 파라미터 수를 줄일 수 있다는 것을 확인할 수 있다."
   ]
  },
  {
   "cell_type": "markdown",
   "metadata": {},
   "source": [
    "* 각각이 k값을 가지는 n개의 이산 변수를 모델링하기 위해서는 $O(k^{n})$의 복잡도가 필요하다.\n",
    "* 만약에 m이 단일 조건부 확률 분호에서 나타낼 수 있는 변수의 수의 최대값일 경우에는 $O(k^{m})$의 복잡도가 소요되며, m << n 과 같은 모델을 설계할 수 있다면 매우 획기적인 절감 효과를 얻을 수 있다.\n",
    "* 즉, 그래프에서 각 변수들이 적은 부모를 가지고 있다면 매우 적은 파라미터로 분포가 나타날 수 있음을 나타낸다."
   ]
  },
  {
   "cell_type": "markdown",
   "metadata": {},
   "source": [
    "### 16.2.2 Undirected Models<br>\n",
    "* undirected model은 Markov random fields(MRFs) 또는 Markov networks로도 잘 알려져 있다.\n",
    "* directed model의 대표적인 예로 릴레이 경주를 들 수 있다. 처음 주자는 후발 주자의 마지막 랩 타임에 영향을 주지만 후발 주자는 처음 주자의 랩 타임에 영향을 주지 않는다.\n",
    "* 하지만 우리가 모델링하고자 하는 모든 상황이 이렇게 명확한 방향을 가지고 있는 것은 아니다.\n",
    "* 상호 작용이 방향을 가지고 있지 않거나 양방향으로 작동하는 것처럼 보인다면 undirected model을 사용하는 것이 적합하다.\n",
    "* 한 예로 내가 아픈지 아닌지, 직장동료가 아픈지 아닌지 그리고 룸메이트가 아픈지 아닌지에 대한 3가지 이진 변수에 대한 분포를 모델링한다고 생각해 보자.\n",
    "* 동료와 룸메이트가 서로 모른다고 가정하면, 그들중 하나가 다른 사람에게 감기와 같은 질병을 직접 줄 가능성은 거의 없다.\n",
    "* 하지만 나는 그들에게 감기를 옮길 수 있으며, 또한 그들이 나에게 감기를 옮게 할 수도 있다.\n",
    "* 그러므로 동료가 나에게 감기를 전달하는 것과 내가 룸메이트에게 감기를 전달하는 것을 모델링함으로써 동료가 룸메이트에게 감기를 전달하는 것을 모델링할 수가 있다.\n",
    "* 나와 룸메이트 사이에 아프게 할 수 있는 원인을 명확히 하기 힘들며, 이러한 경우에 undirected model을 사용한다.\n",
    "* directed model과 달리 undirected model은 화살표가 없으며, 조건부 확률 분포와 관련도 없다."
   ]
  },
  {
   "cell_type": "markdown",
   "metadata": {},
   "source": [
    "<img src=\"./figures/fig3.png\" /><br>\n",
    "* 나의 건강을 나타내는 랜덤 변수를 hy로, 룸메이트의 건강을 나타내는 랜덤 변수를 hr, 동료의 건강을 나타내는 랜덤 변수를 hc로 정의하자.\n",
    "* undirected graphical model은 undirected graph G 상에서 정의된 구조적 확률 모델이다.\n",
    "* graph 내에 있는 각각의 clique C를 위해, φ(C)(clique potential)는 clique 내에 있는 변수의 연관성을 측정한다."
   ]
  },
  {
   "cell_type": "markdown",
   "metadata": {
    "collapsed": true
   },
   "source": [
    "### 16.2.4 Energy-Based Models<br>"
   ]
  },
  {
   "cell_type": "markdown",
   "metadata": {
    "collapsed": true
   },
   "source": [
    "#### Energy-based Model이란\n",
    "* E(x)는 x의 함수이고 x에 따라 크기가 결정되는 값이다.\n",
    "* 즉 x값을 잘 조절하면 E의 크기를 줄일 수 있다. E(x)는 x의 구성 또는 배치에 따라 크기가 결정되며, x라는 상태에 대해 값을 부여하는 하나의 방법이다.\n",
    "* 이러한 표현 방식을 EBM(Energy Based Model)이라 부른다.\n",
    "* 확률 값으로 살펴보면 아래 그림과 같으며, E가 0이 될 때 확률 값이 최대가 된다.\n",
    "* $p(x) = e^{-E(x)} / Z, Z = ∑e^{-E(x)}$\n",
    "* 만일 x가 입력 벡터이고 E가 어떤 x와 함께 결합된 파라미터 θ의 조합으로 구성되었다면( $E(x) = E(x;θ)$) 다양한 여러 입력 x에 대해 E가 최소화 되도록 θ를 조절할 수가 있다. 이는 data에 따라 파라미터 θ를 결정하는 학습 과정이 되고, 위의 확률 분포를 폴츠만 분포라고 부른다.\n"
   ]
  },
  {
   "cell_type": "markdown",
   "metadata": {},
   "source": [
    "#### 책 내용\n",
    "* undirected model의 대부분 흥미로운 이론적 결과는 ∀x, p˜(x) 가 0보다 크다는 것이다.\n",
    "* 이러한 조건을 적용하기 위한 방법으로 p˜(x) = exp(-E(x)) 이고 E(x)는 energe function으로 잘 알려진 energy-based model을 사용하는 것이다.\n",
    "* exp(z)은 모든 z에 대해 양수이기 때문에 어떤 에너지 함수도 x에 대해 0의 확률을 가지지 않을 것임을 보장한다.\n",
    "\n",
    "#### 볼츠만 머신\n",
    "* p˜(x) = exp(-E(x)) 분포는 볼츠만 분포의 한 예이며, 이 때문에 많은 에너지 기반 모델을 볼츠만 머신이라고 부른다.\n",
    "* 볼츠만 머신은 원래 잠재 변수가 있는 모델과 없는 모델 모두를 포함해서 정의되었다.\n",
    "* 하지만 오늘날에는 볼츠만 머신은 주로 잠재 변수가 있는 모델을 지정하는데 많이 사용되며, 잠재 변수가 없는 볼츠만 머신은 주로 markov random field나 log-linear model이라고 불린다.\n",
    "\n",
    "#### Clique in an undirected graph\n",
    "* undirected graph에서의 Clique는 비정규화된 확률 함수의 요소들과 일치한다.\n",
    "* 즉, exp(a)exp(b) = exp(a+b)와 같기 때문에 undirected graph에서의 서로 다른 clique들은 energy function의 다른 항들과 일치한다.\n",
    "\n",
    "<img src=\"./figures/fig4.png\" />"
   ]
  },
  {
   "cell_type": "markdown",
   "metadata": {},
   "source": [
    "#### term in the energy function\n",
    "* 에너지 함수에서 다항을 사용하는 것은 product of experts로도 볼수 있다.(Hinton, 1999)\n",
    "* 에너지 함수의 각각의 항은 확률 분포 내의 또다른 요소들과 일치한다.\n",
    "* 에너지 함수의 각각의 항들은 특정 제약 조건이 만족하는지를 결정하는 \"expert\"로 생각할 수가 있으며, 각각의 전문가는 단 한 가지의 제약 조건만을 적용할 수 있지만, 확률 곱셈을 통해 결합하면 고차원의 복잡한 제약 조건을 적용할 수가 있다.\n",
    "\n",
    "#### - sign in the difinition of an energy-based model\n",
    "* p˜(x) = exp(-E(x)) 에서 - 부호는 기계 학습 관점에서 어떠한 기능도 제공하지 않는다.\n",
    "* 이 - 부호는 E의 정의에 통합되거나 반대 부호를 가진 파라미터들을 학습할 수 있게 한다.\n",
    "* - 부호는 기계 학습 문학과 물리학 문학 사이의 호환성을 유지하기 위해 주로 사용된다.\n",
    "* 실제로 E는 물리적 에너지를 나타내며, 임의의 기호를 가지지는 않는다.\n",
    "\n",
    "#### free energy\n",
    "* 확률 모델에서 동작하는 많은 알고리즘은 logp˜model(x)를 계산해야 하며, 잠재 변수 h를 가지고 잇는 energy 기반 모델에서는 이러한 알고리즘은 때때로 free energy라 불리는 다량의 negative로 표현된다.\n",
    "* $F(x) = -log ∑exp(-E(x,h))$\n",
    "* 이 책에서 우리는 보다 일반적인 logp˜model(x) 공식을 더 선호한다."
   ]
  },
  {
   "cell_type": "markdown",
   "metadata": {},
   "source": [
    "### 16.2.5 Separation and D-Separation<br>"
   ]
  },
  {
   "cell_type": "markdown",
   "metadata": {},
   "source": [
    "#### separation\n",
    "* graph model에서 edge는 어떤 변수가 직접적으로 상호작용을 하는지를 말해준다.\n",
    "* 하지만 우리는 종종 간접적으로 영향을 주는 변수를 알아야 할 필요가 있다.\n",
    "* 이러한 간접적인 상호 작용 중의 일부는 다른 변수들을 관찰함으로써 활성화 또는 비활성화 할 수가 있다.\n",
    "* 좀 더 공식적으로, 변수의 다른 부분 집합의 값이 주어졌을 때, 어떤 변수의 부분집합이 조건부 독립인지를 알아야 한다.\n",
    "* graph에서 의미하는 조건부 독립을 \"separation\"이라고 부른다.\n",
    "* 만약 그래프 구조가 주어진 S에 대해 A와 B가 독립이라면, 변수 S의 집합이 주어졌을 때, 우리는 변수 A의 집합이 변수 B의 집합으로부터 separate 되었다고 말한다.\n",
    "* 만약에 a와 b 변수가 오직 관찰되지 않은 변수가 포함되어 있는 경로로만 연결이 되었다면, 해당 변수는 separate되지 않는다.\n",
    "* 만약 이들 사이에 경로가 없거나 모든 경로에 관찰된 변수가 있다면 해당 변수는 separate 된다.\n",
    "\n",
    "#### active and inactive\n",
    "* 관찰되지 않은 변수들만을 포함하고 있는 경로를 \"active\"라고 하고, 관찰된 변수들을 포함하고 있는 경로를 \"inactive\"라고 한다.\n",
    "* 그래프를 그릴 때, 관찰된 변수는 음영으로 표시하며, 아래 그림처럼 표현이 가능하다.\n",
    "<img src=\"./figures/fig5.png\" />\n",
    "<img src=\"./figures/fig6.png\" />"
   ]
  },
  {
   "cell_type": "markdown",
   "metadata": {},
   "source": [
    "#### d-separation \n",
    "* directed model의 context에서 이러한 개념을 d-separation이라고 부르는 점을 제외하면 상당히 유사한 개념이 directed model에 적용이 된다.\n",
    "* 여기서 \"d\"는 dependence의 약자를 뜻한다.\n",
    "* directed graph의 d-separation은 undirected graph의 separation과 동일하게 정의가 된다.\n",
    "<img src=\"./figures/fig7.png\" />\n",
    "<img src=\"./figures/fig8.png\" />\n"
   ]
  },
  {
   "cell_type": "markdown",
   "metadata": {},
   "source": [
    "#### Context-specific independences\n",
    "* 그래프가 존재하는 모든 독립을 나타낼 필요는 없다.\n",
    "* 예를 들어 3개의 이진 변수 a,b,c가 있다고 생각해보자.\n",
    "* a가 0일때 b와 c가 독립이지만, a가 1일때 b는 c와 같다고 가정하자\n",
    "* 인코딩은 a = 1일 때, b와 c의 edge 연결을 요청한다.\n",
    "* 그런 다음 그래프는 a = 0일 때, b와 c가 독립임을 표시하기 위해 실패한다.\n",
    "* 일반적으로 그래프는 독립이 존재한다는 것을 절대 암시하지 않을 것이다.\n",
    "* 그러나 그래프는 독립을 인코딩하기 위해 실패 할 수도 있다."
   ]
  },
  {
   "cell_type": "markdown",
   "metadata": {
    "collapsed": true
   },
   "source": [
    "### 16.2.6 Converting between Undirected and Directed Graphs<br>"
   ]
  },
  {
   "cell_type": "markdown",
   "metadata": {},
   "source": [
    "#### model decision factors\n",
    "* 두 가지 모델 모두 장단점을 가지고 있으며, 보편적으로 어떤 접근법이 더 우월하거나 더 선호되는 것은 없다.\n",
    "* 모델의 선택은 우리가 나타내고자 하는 확률 분포에 따라 결정된다.\n",
    "* 어떤 접근법이 확률 분포에서 가장 독립성을 띨 수 있는지 또는 분포를 설명하기 위해 가장 적은 edge가 사용될 것인지 등에 따라 directed model 또는 undirected model을 사용할 수 있다.\n",
    "* 단일 확률 분포를 사용하는 경우에도 때때로 다른 모델로 전환해야 하는 경우도 있다.\n",
    "* 때때로 변수의 하위 집합을 관찰하거나 다른 계산 잡업을 수행해야 하는 경우에 다른 모델을 선택하는게 더 적합할 수가 있다.\n",
    "\n",
    "#### directed model and undirected model\n",
    "* directed model은 샘플을 효율적으로 그리기 위해 직접적인 접근법을 제공하지만, undirected model은 대략적인 추론을 유도하고자 할 때 유용하다.\n",
    "* 모든 확률 분포는 directed model 또는 undirected model로 표현할 수가 있다.\n",
    "* directed model의 경우, 완전 그래프는 랜덤 변수에 임의의 순서를 부과하는 directed acyclic graph이며, 각 변수는 그래프 내에서 선행하는 모든 다른 변수들을 가지고 있다.\n",
    "* undirected model의 경우, 완전 그래프는 모든 변수를 포함하는 하나의 clique를 포함하는 단순한 하나의 그래프이다.\n",
    "<img src=\"./figures/fig9.png\" />"
   ]
  },
  {
   "cell_type": "markdown",
   "metadata": {},
   "source": [
    "* 우리가 그래프로 확률 분포를 표현할 때, 우리는 실제로 존재하는 가능한 많은 독립성을 나타내는 그래프를 선택하려고 할 것이다.\n",
    "* directed model은 undirected model이 인코딩할 수 없는 몇몇의 독립성을 인코딩 할 수 있으며, 반대의 경우도 마찬가지이다.\n",
    "\n",
    "#### immorality\n",
    "* directed model은 undirected model이 완벽하기 표현할 수 없는 특정 종류의 하위 구조를 사용할 수 있으며, 이러한 하위 구조를 \"immorality\"라고 부른다.\n",
    "* 이 구조는 두개의 랜덤 변수 a,b가 c의 부모이고, a와 b를 연결하는 edge가 없는 경우에 발생한다.\n",
    "\n",
    "#### convert directed model into an undirected model\n",
    "* 그래프 D를 가지는 directed model을 undirected model로 바꾸기 위해, 우리는 새로운 그래프 U를 생성할 필요가 있다.\n",
    "* 만약 x와 y가 연결되어 있는 directed edge가 있거나 x와 y가 제 3의 변수 z의 부모인 경우, 변수 x와 y의 모든 쌍에 대해 x와 y를 연결하는 undirected edge를 추가한다.\n",
    "* 결과 그래프 U는 \"moralized graph\"로 알려져 있다.\n",
    "* moralization을 통해 directed model을 undirected model로 변환하는 예는 아래의 그림을 살펴보자.\n",
    "<img src=\"./figures/fig10.png\" />"
   ]
  },
  {
   "cell_type": "markdown",
   "metadata": {},
   "source": [
    "#### loop and chord\n",
    "* 마찬가지로 undirected model은 directed model이 완벽하게 표현할 수 없는 하위 구조를 포함할 수 있다.\n",
    "* 특히 U가 3보다 큰 길이의 루프를 포함하고 있는 경우, 해당 루프에 chord가 포함되지 않는 한 undirected graph U에 의해 표현된 모든 조건부 독립을 포착할 수 없다.\n",
    "* 루프는 undirected edge에 의해 연결된 변수의 sequence이며, sequence의 마지막 변수는 다시 sequence의 첫번째 변수로 연결된다.\n",
    "* chord는 루프에 정의된 sequence 내에서 비연속적인 두개의 변수 사이의 연결을 말한다.\n",
    "* 만약 U가 길이가 4 이상인 루프를 가지고 있고 이 루프에서 chord를 가지고 있지 않다면 우리는 반드시 directed model로 변환하기 전에 chord를 추가해야 한다.\n",
    "* chord를 추가하면 U에서 인코딩 된 몇몇의 독립성 정보는 삭제된다.\n",
    "* U에 chord를 추가함으로써 형성된 그래프는 \"chordal\" 또는 \"triangulated graph\"로 잘 알려져 있는데, 왜냐하면 모든 루프를 더 작은 삼각형 루프로써 설명할 수 있기 때문이다.\n",
    "\n",
    "#### edge direction\n",
    "* chordal graph에서 directed graph D를 만들기 위해서는 edge에 방향을 지정해 주어야 한다.\n",
    "* D에서 edge에 방향을 지정해주는 한가지 방법으로, 랜덤 변수에 순서를 지정하고 순서의 앞부분에 오는 노드의 각 모서리가 나중에 오는 노드를 가리키도록 하는 것이다.\n",
    "<img src=\"./figures/fig11.png\" />"
   ]
  },
  {
   "cell_type": "markdown",
   "metadata": {},
   "source": [
    "### 16.2.7 Factor Graphs<br>"
   ]
  },
  {
   "cell_type": "markdown",
   "metadata": {},
   "source": [
    "* Factor 그래프는 undirected model의 그래픽 표현에서 모호성을 해결하기 위한 undirected model을 그리는 또 다른 방법이다.\n",
    "* undirected model에서 모든 φ함수는 그래프 내의 몇몇 clique의 부분집합이어야 한다.\n",
    "* 그러나 모든 clique가 포함된 φ가 존재할 필요는 없다.\n",
    "* Factor 그래프는 각각의 φ함수의 범위를 명시적으로 나타낸다.\n",
    "* 특히 factor 그래프는 이분 undirected graph로 구성된 undirected model의 그래픽 표현이다.\n",
    "* 이분 그래프란? 꼭지점의 집합을 두 개의 부분집합 X,Y로 분할할 수 있어서, 각 변의 한 끝점은 X에 다른 한 끝점은 Y에 속하도록 할 수 있는 그래프.\n",
    "<img src=\"./figures/fig12.png\" />\n",
    "* 노드 일부는 원으로 표현이 되는데 이는 랜덤 변수에 해당하며, 나머지 노드는 정사각형으로 표현한다. 정사각형 노드는 정규화되지 않은 확률 분포의 factor φ에 해당한다.\n",
    "* 변수가 정규화되지 않은 확률 분포내에 있는 factor의 argument중 하나일 경우에만 변수와 factor는 undirected edge로 연결이 될 수 있다.\n",
    "* 어떠한 factor도 그래프의 다른 factor에 연결될 수 없으며, 변수 역시 변수에 연결될 수 없다.\n",
    "<img src=\"./figures/fig13.png\" />"
   ]
  },
  {
   "cell_type": "code",
   "execution_count": null,
   "metadata": {
    "collapsed": true
   },
   "outputs": [],
   "source": []
  }
 ],
 "metadata": {
  "kernelspec": {
   "display_name": "python2",
   "language": "python",
   "name": "python2"
  },
  "language_info": {
   "codemirror_mode": {
    "name": "ipython",
    "version": 2
   },
   "file_extension": ".py",
   "mimetype": "text/x-python",
   "name": "python",
   "nbconvert_exporter": "python",
   "pygments_lexer": "ipython2",
   "version": "2.7.6"
  }
 },
 "nbformat": 4,
 "nbformat_minor": 0
}
