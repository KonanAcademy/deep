{
 "cells": [
  {
   "cell_type": "markdown",
   "metadata": {},
   "source": [
    "# Chapter 4 Numerical Computation"
   ]
  },
  {
   "cell_type": "markdown",
   "metadata": {},
   "source": [
    "* 유주원"
   ]
  },
  {
   "cell_type": "markdown",
   "metadata": {},
   "source": [
    "# Chapter 4.2 Poor Conditioning"
   ]
  },
  {
   "cell_type": "markdown",
   "metadata": {},
   "source": [
    "* Conditioning은 입력 값의 작은 변화에 대해 얼마나 함수가 변하는가를 나타낸다.\n",
    "* 입력이 약간 변화했을 때, 함수가 순식간에 변화한다는 것은 문제가 있을 수 있다.\n",
    "* 왜냐하면 입력에서의 rounding error가 출력에서는 큰 변화로 나타날 있기 때문이다."
   ]
  },
  {
   "cell_type": "markdown",
   "metadata": {},
   "source": [
    "<img src=\"figures/fig4.1.png\" width=700 />"
   ]
  },
  {
   "cell_type": "markdown",
   "metadata": {},
   "source": [
    "* 위 식은 가장 큰 eigenvalue와 가장 작은 eigenvalue의 강도(magnitude) 비율을 나타낸다.\n",
    "* 숫자가 커지면, 역행렬은 특히 입력의 에러에 민감해진다.\n",
    "* 이 민감도는 행렬의 고유한 속성을 나타내는 것이며, 역행렬 계산 과정에서의 rounding error 결과를 나타내는 것은 아니다.\n",
    "* 우리가 역행렬을 곱할 때, Poorly condition 된 행렬들은 미리 존재해 있는 error들을 증폭시킨다.\n",
    "* 실제로, error는 역환 과정에서의 수치 에러에 의해 더 심해질 것이다."
   ]
  },
  {
   "cell_type": "markdown",
   "metadata": {
    "collapsed": true
   },
   "source": [
    "참고 : http://engidic.blogspot.kr/2013/11/condition-number.html <br>\n",
    "&nbsp;&nbsp;&nbsp;&nbsp;&nbsp;&nbsp;&nbsp;&nbsp;&nbsp;&nbsp;https://en.wikipedia.org/wiki/Condition_number <br>\n",
    "&nbsp;&nbsp;&nbsp;&nbsp;&nbsp;&nbsp;&nbsp;&nbsp;&nbsp;&nbsp;http://qt3b1s62da6s.tistory.com/336"
   ]
  },
  {
   "cell_type": "code",
   "execution_count": null,
   "metadata": {
    "collapsed": true
   },
   "outputs": [],
   "source": []
  }
 ],
 "metadata": {
  "kernelspec": {
   "display_name": "python2",
   "language": "python",
   "name": "python2"
  },
  "language_info": {
   "codemirror_mode": {
    "name": "ipython",
    "version": 2
   },
   "file_extension": ".py",
   "mimetype": "text/x-python",
   "name": "python",
   "nbconvert_exporter": "python",
   "pygments_lexer": "ipython2",
   "version": "2.7.6"
  }
 },
 "nbformat": 4,
 "nbformat_minor": 0
}
