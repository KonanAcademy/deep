{
 "cells": [
  {
   "cell_type": "markdown",
   "metadata": {},
   "source": [
    "# Chapter 18 CONFRONTING THE PARTITION FUNCTION"
   ]
  },
  {
   "cell_type": "markdown",
   "metadata": {},
   "source": [
    "* 유주원 \n",
    "<br><br>"
   ]
  },
  {
   "cell_type": "markdown",
   "metadata": {},
   "source": [
    "# Chapter 18.7 Estimating the Partition Function"
   ]
  },
  {
   "cell_type": "markdown",
   "metadata": {},
   "source": [
    "* 지금까지는 무향 그래프 모델에서 다루기 힘든 partition 함수 z(θ)를 계산하지 않는 방법에 대해 설명했다면, 이번 절에서는 partition 함수를 직접 계산하는 몇 가지 방법에 대해 설명한다.\n",
    "* partition 함수를 추정하는 것은 데이터의 정규화 가능성을 계산하기 위해 중요하다.\n",
    "* 또한 모델 평가, training 성능 측정, 모델 비교 등에서도 중요하다.\n",
    "\n",
    "##### compare models\n",
    "* 예를 들어, 두 개의 모델이 있다고 가정하자. $p_A(x;θ_A) = 1/Z_A\\dot(p_A)(x;θ_A), p_B(x: θ_B) = 1/Z_B\\dot(p_B)(x;θ_B)$\n",
    "* 두 개의 모델을 비교하는 일반적인 방법은 두 모델의 likelihood를 비교하는 방법이다.\n",
    "* test set이 {$x^{(1)}, ..., x^{(m)}$} 이라고 가정한다면, 아래의 식이 만족할 때, 모델 A가 모델 B보다 좋다고 말할 수가 있다.\n",
    "<img src=\"./figures/fig1.png\" />"
   ]
  },
  {
   "cell_type": "markdown",
   "metadata": {},
   "source": [
    "* 불행히도 이 조건이 성립하는지 테스트하기 위해서는 partition function에 대한 지식이 필요하며, 위의 식은 partition function을 평가함으로써 각 점에서 할당된 모델의 log 확률을 평가해야 한다.\n",
    "* 위의 식은 아래처럼 다시 쓸 수가 있다.\n",
    "<img src=\"./figures/fig2.png\" />\n",
    "* 위의 식을 이용해서 우리는 partition 함수를 알지 못해도 비율만으로 모델 A가 더 나은 모델인지를 결정할 수가 있다.\n",
    "* 또한 우리는 중요도 샘플링을 사용함으로써 이 비율을 추정할 수가 있다.\n",
    "\n",
    "##### estimate partition function\n",
    "* 그러나 모델A 또는 모델B의 test data의 실제 확률을 계산하기 위해서는 partition 함수의 실제 값을 계산해야 한다.\n",
    "* 즉, 우리가 두 개의 partition function의 비율 r = $Z(θ_B) / Z(θ_A)$ 을 알고, 두 개 중의 하나의 실제 값을 안다면, 우리는 다른 하나를 구할 수가 있다.\n",
    "<img src=\"./figures/fig3.png\" />"
   ]
  },
  {
   "cell_type": "markdown",
   "metadata": {},
   "source": [
    "* partition function을 추청하는 가장 단순한 방법은 중요도 샘플링과 같은 Monte Carlo method를 이용한 방법이다.\n",
    "* 우리는 $p_0(x) = 1/Z_0\\dot(p_0)(x)$ 분포를 사용할 것인데, 이유는 샘플링하기가 쉽고 partion function Z0과 비정규화 분포 p0(X)에 대한 평가가 쉽기 때문이다.\n",
    "<img src=\"./figures/fig4.png\" />"
   ]
  },
  {
   "cell_type": "markdown",
   "metadata": {
    "collapsed": true
   },
   "source": [
    "* 마지막 줄에서 우리는 P0에서 추출한 샘플을 사용해서 Monte Carlo 추정량 Z^1을 만들고 p0과 p~1의 비율을 각각의 샘플에 가중한다.\n",
    "* 이 접근법은 partition function의 비율을 아래와 같이 추청함을 알 수 있다.\n",
    "<img src=\"./figures/fig5.png\" />"
   ]
  },
  {
   "cell_type": "markdown",
   "metadata": {},
   "source": [
    "* 이 값을 이용해서 두 모델을 직접 비교할 수도 있다.\n",
    "* 분포 p0이 p1에 가깝다면 Z^1을 구하는 식은 partition function을 추정하는 효과적인 방법이 될 수 있다.(Minka, 2005).\n",
    "* 하지만, 대부분의 경우 p1은 복잡하고 고차원적인 공간에서 정의된다.\n",
    "* p0과 p1이 가깝지 않으면, p0의 대부분의 샘플은 p1에서 낮은 확률을 가질 것이고, p1의 합계는 상대적으로 무시될 것이다.\n",
    "* 합계에 중요한 가중치를 가진 sample이 거의 없다면, 높은 분산을 가지게 되고 품질은 낮아질 것이다.\n",
    "* 이는 Z^1의 분산 값을 추정함으로써 정량적으로 이해할 수 있다.\n",
    "<img src=\"./figures/fig6.png\" />"
   ]
  },
  {
   "cell_type": "markdown",
   "metadata": {
    "collapsed": true
   },
   "source": [
    "* 이 양은 중요가 가중치 p~1($x^{(k)}$) / p~0($x^{(k)}$) 의 값에 상당한 편차가 있을 때 가장 크다.\n",
    "* 고차원 공간에 대한 복잡한 분포에 대한 partition function을 예측하기 위해 annealed importance sampling 과 bridge sampling에 대해 살펴볼 것이다.\n",
    "* 두 가지 모두 중요도 샘플링 전략으로 시작을 하고, p0이 p1로부터 너무 멀리 떨어져 있는 문제를 극복하기 위해, p0과 p1 사이의 간격을 연결하는 중간 분포를 도입한다.  "
   ]
  },
  {
   "cell_type": "markdown",
   "metadata": {},
   "source": [
    "### 18.7.1 Annealed Importance Sampling\n",
    "* D_KL(p_0 || p_1)이 큰 경우, 즉 p0과 p1 사이의 겹침이 거의 없는 경우 annealed importance sampling(AIS)는 중간 분포를 도입해서 차이를 메우려고 시도한다. (Jarzynski, 1997; Neal, 2001).\n",
    "* $p_η0,...,p_ηn, with 0 = η_0 < η_1 < ... < η_n-1 < η_n = 1$ 인 분포 순서의 경우 처음과 마지막 분포는 각각 $p_0$과 $p_1$이 된다.\n",
    "* 이 접근법은 고차원 공간에 대해 정의된 multimodal 분포의 partition function을 추정할 수 있게 해준다.\n",
    "* 우리는 알려진 partition function(예 : 가중치가 0인 RBM)을 가진 더 단순한 모델로 시작을 하고, 두 모델의 partition function의 비율을 추정한다.\n",
    "* 이 비율의 추정치는 0과 학습된 가중치 사이에서 보간되는 가중치를 가진 RBM 시퀀스와 같은 많은 유사한 분포의 시퀀스의 비율 추정에 기초한다.\n",
    "* $Z_1/Z_0$의 비율을 아래와 같이 쓸 수 있다.\n",
    "<img src=\"./figures/fig7.png\"/>"
   ]
  },
  {
   "cell_type": "markdown",
   "metadata": {},
   "source": [
    "* 0 <= j <= n-1 일 때, $p_ηj$ 와 $p_ηj+1$의 분포가 충분히 가깝다면, 우리는 간단한 중요도 샘플링을 사용해서 각각의 인자 $Z_ηj+1 / Z_ηj$을 추정할 수가 있고, 이를 이용해서 $Z_1/ Z_0$의 추정값을 얻을 수가 있다.\n"
   ]
  },
  {
   "cell_type": "markdown",
   "metadata": {},
   "source": [
    "* 이러한 중간 분포는 어디서 생성된 것일까?\n",
    "* 처음 제안된 분포 p0이 설계대로 선택된 것처럼 $p_η1 ... p_ηn-1$ 분포 시퀀스 역시 마찬가지이다.\n",
    "* 즉, 문제 도메인에 맞게 구체적으로 구성할 수가 있다.\n",
    "* 중간 분포에 대한 범용적이고 대중적인 선택은 대상 분포 p1과 시작 제안 분포 p0 (partition function이 알려져 있는) 의 가중 기하 평균을 사용하는 것이다.\n",
    "<img src=\"./figures/fig8.png\" />"
   ]
  },
  {
   "cell_type": "markdown",
   "metadata": {},
   "source": [
    "* 이러한 중간 분포로부터 샘플을 추출하기 위해 우리는 현재 x에서 x1로 전이되는 조건부 확률 분포를 정의하는 일련의 Markov chain transition function $T_ηj(x1 | x)$를 정의한다. \n",
    "* 전이 연산자 $T_ηj(x1 | x)$는 $p_ηj(x)$를 불변으로 남겨 두도록 정의한다.\n",
    "<img src=\"./figures/fig9.png\" />"
   ]
  },
  {
   "cell_type": "markdown",
   "metadata": {},
   "source": [
    "* 그런 다음 AIS 샘플링 전략은 p0으로부터 샘플을 생성한 다음 대상 분포 p1에 도달할때까지 중간 분포에서 샘플을 순차적으로 생성하기 위해 전이 연산자를 사용한다.\n",
    "<img src=\"./figures/fig10.png\" />"
   ]
  },
  {
   "cell_type": "markdown",
   "metadata": {},
   "source": [
    "* 샘플 k에 대해 우리는 Z1/Z0 식을 통해 중요도 가중치를 도출할 수도 있다.\n",
    "<img src=\"./figures/fig11.png\" />"
   ]
  },
  {
   "cell_type": "markdown",
   "metadata": {},
   "source": [
    "* 이와 같이 정의된 샘플링 절차와 중요도 가중치를 사용해서 파티션 함수의 비율을 추정할 수가 있다.\n",
    "<img src=\"./figures/fig12.png\" />"
   ]
  },
  {
   "cell_type": "markdown",
   "metadata": {},
   "source": [
    "* 유효한 중요도 샘플링인지를 검증하기 위해, AIS procedure가 확장된 상태 공간[$x_η1,...,x_ηn-1,x_1$]에서 단순한 중요도 샘플링과 일치하는지를 보여줄 수 있으며, 이를 위해 확장 공간에 대한 분포를 다음과 같이 정의한다. \n",
    "<img src=\"./figures/fig13.png\" />\n",
    "* 여기서 ~$T_a$는 $T_a$에 의해 정의된(Bayers' rule의 적용을 통해) 전이 연산자의 역이다.\n",
    "<img src=\"./figures/fig14.png\" />\n",
    "<img src=\"./figures/fig15.png\" />"
   ]
  },
  {
   "cell_type": "markdown",
   "metadata": {},
   "source": [
    "* 우리는 이제 제안된 분포 q로부터 샘플을 생성할 수 있는 방법을 제공한다.\n",
    "<img src=\"./figures/fig16.png\" />\n",
    "* 샘플을 그릴 확장 상태 공간 상에서의 제안된 분포로서 q($x_η1,...,x_ηn-1,x_1$)를 취하면, 이젠 중요도 가중치를 결정하는 것이 남아있다.\n",
    "<img src=\"./figures/fig17.png\" />"
   ]
  },
  {
   "cell_type": "markdown",
   "metadata": {},
   "source": [
    "* AIS를 확장된 상태에서 적용된 간단한 중요도 샘플링으로 해석할 수 있다.\n",
    "* AIS는 현재 무방향 확률 모델에 대한 partition function을 추정하는 가장 일반적인 방법이다."
   ]
  },
  {
   "cell_type": "markdown",
   "metadata": {},
   "source": [
    "### 18.7.2 Bridge Sampling\n",
    "* Bridge sampling은 AIS와 마찬가지로 중요도 샘플링의 단점을 해결하는 또 다른 방법이다.\n",
    "* Bridge sampling은 일련의 중간 분포를 연결하는 대신 bridge로 알려진 단일 분포 p*를 사용해서 p0과 p1 사이를 보간한다.\n",
    "* Bridge sampling은 ~p0과 ~p*, ~p1과 ~p* 간의 예상되는 중요도 가중치의 비율 Z1/ Z0을 추정한다.\n",
    "<img src=\"./figures/fig18.png\"/>"
   ]
  },
  {
   "cell_type": "markdown",
   "metadata": {},
   "source": [
    "* 만약 bridge 분포 p*가 p0과 p1 모두에 크게 overlap 되도록 선택이 된다면, bridge sampling은 두 분포 사이의 거리가 표준 중요도 샘플링보다 훨씬 클 수 있다.\n",
    "* 최적의 bridge 분포는 r = Z1/Z0일 때 아래와 같이 주어진다.\n",
    "<img src=\"./figures/fig19.png\" />"
   ]
  },
  {
   "cell_type": "markdown",
   "metadata": {},
   "source": [
    "* 반복적으로 비율을 재평가하고 각각의 반복을 통해 r의 값을 업데이트 한다.\n",
    "\n",
    "##### Linked importance sampling\n",
    "* AIS와 bridge sampling 모두 장점을 가지고 있다.\n",
    "* 만약 $D_KL(p0 || p1)$이 크지 않다면 (p0과 p1이 충분히 가깝다면) bridge sampling은 AIS보다 더 효율적인 방법이 될 수 있다. 그러나 만약에 두 분포가 너무 멀리 떨어져 있다면, 그 갭을 메우기 위해 p0과 p1 사이의 거리를 확장할 수 있는 잠재적인 많은 중간 분포를 가진 AIS를 사용해야 한다.\n",
    "\n",
    "##### Estimating the partition function while training\n",
    "* AIS는 수많은 무향 모델에 대한 partition function을 추정하기 위한 표준 방법으로 받아들여지고 있지만, 충분히 계산집약적이기 때문에 훈련 중에는 사용할 수가 없다.\n",
    "* 하지만 bridge samping의 조합을 통해 훈련 과정에서 partition function의 추정을 유지할 수 있는 방법을 고안했다. (Desjardins et al. (2011))\n",
    "* 이웃의 partition function의 비율에 대한 bridge sampling 추정치를 시간에 따는 AIS 추정치와 결합하여 학습을 반복할 때마다 partition function의 낮은 분산 추정치를 산출했다."
   ]
  },
  {
   "cell_type": "code",
   "execution_count": null,
   "metadata": {
    "collapsed": true
   },
   "outputs": [],
   "source": []
  }
 ],
 "metadata": {
  "kernelspec": {
   "display_name": "python2",
   "language": "python",
   "name": "python2"
  },
  "language_info": {
   "codemirror_mode": {
    "name": "ipython",
    "version": 2
   },
   "file_extension": ".py",
   "mimetype": "text/x-python",
   "name": "python",
   "nbconvert_exporter": "python",
   "pygments_lexer": "ipython2",
   "version": "2.7.6"
  }
 },
 "nbformat": 4,
 "nbformat_minor": 0
}
