{
 "cells": [
  {
   "cell_type": "markdown",
   "metadata": {},
   "source": [
    "# Chapter 5 Machine Learning Basics"
   ]
  },
  {
   "cell_type": "markdown",
   "metadata": {},
   "source": [
    "* 유주원"
   ]
  },
  {
   "cell_type": "markdown",
   "metadata": {},
   "source": [
    "# Chapter 5.3 Hyperparameters and Validation Sets"
   ]
  },
  {
   "cell_type": "markdown",
   "metadata": {},
   "source": [
    "* 대부분의 기계 학습 알고리즘들은 학습 알고리즘을 제어하는데 사용하는 몇몇의 설정 값들을 가지고 있다.\n",
    "* 이러한 설정 값들을 hyperparameters라고 부른다.\n",
    "* hyperparameters의 값들은 학습 알고리즘 스스로가 맞출수는 없다.\n",
    "* 그래서 하나의 학습 알고리즘이 다른 학습 알고리즘의 최적의 hyperparameter들을 학습하는 방법으로 학습 절차를 설계할 수 있다."
   ]
  },
  {
   "cell_type": "markdown",
   "metadata": {},
   "source": [
    "<img src=\"figures/fig5.1.png\" width=500 />"
   ]
  },
  {
   "cell_type": "markdown",
   "metadata": {},
   "source": [
    "* 위의 그림은 다항식의 차수라는 하나의 hyperparameter를 가진다.\n",
    "* weight decay를 제어하는데 사용되는 λ값 역시 hyperparameter의 또 다른 예이다.\n",
    "* hyperparameter를 학습하지 않는 이유는 training set 상에서의 hyperparameter를 학습하는 것은 적합하지 않기 때문이다.\n",
    "* 만약 training set 상에서 학습되었다면, 해당 hyperparameter는 항상 최대 가능한 model capacity를 선택할 것이고, 결국에는 overfitting에 빠질 것이다."
   ]
  },
  {
   "cell_type": "markdown",
   "metadata": {},
   "source": [
    "<img src=\"figures/fig5.2.png\" width=600 />"
   ]
  },
  {
   "cell_type": "markdown",
   "metadata": {
    "collapsed": true
   },
   "source": [
    "* 이 문제를 풀기 위해서 우리는 training algorithm과는 별개로 validation set이 필요하다.\n",
    "* test set은 모델(hyperparameter를 포함한)을 선택하기 위한 방법으로 사용되지 않는다.\n",
    "* 그래서 test set은 validation set으로 사용될 수 없다. 항상 training data로부터 validation set을 생성해야 한다.\n",
    "* 결국 training data로부터 2개의 subset을 만드는데, 하나는 parameter 학습용이고 나머지 하나는 generalization error등을 측정하기 위한 validation set이다.\n",
    "* 대부분 80%의 데이터는 훈련용, 나머지 20%를 validation set으로 잡는다.\n",
    "* validation set 역시 hyperparameter를 훈련하는데 사용하기 때문에, valadation set error는 generalization error를 낮게 측정할 것이다.\n",
    "* 모든 hyperparameter 최적화가 완료되면, generalization error는 test set에서 측정된다."
   ]
  },
  {
   "cell_type": "markdown",
   "metadata": {
    "collapsed": true
   },
   "source": [
    "## 5.3.1 Cross-Validation"
   ]
  },
  {
   "cell_type": "markdown",
   "metadata": {},
   "source": [
    "* 만약 작은 양의 데이터라면, dataset을 고정된 크기의 training set과 test set으로 나누는 것은 문제가 발생할 수 있다.\n",
    "* 데이터의 양이 너무 작은 경우라면, k-fold corss-validation procedure 기법을 통해 test를 진행 할 수 있다."
   ]
  },
  {
   "cell_type": "markdown",
   "metadata": {},
   "source": [
    "<img src=\"figures/fig5.3.png\" width=800 />"
   ]
  },
  {
   "cell_type": "markdown",
   "metadata": {},
   "source": [
    "* One problem is that there exist no unbiased estimators of the variance of such average error estimators"
   ]
  },
  {
   "cell_type": "code",
   "execution_count": null,
   "metadata": {
    "collapsed": true
   },
   "outputs": [],
   "source": []
  }
 ],
 "metadata": {
  "kernelspec": {
   "display_name": "python2",
   "language": "python",
   "name": "python2"
  },
  "language_info": {
   "codemirror_mode": {
    "name": "ipython",
    "version": 2
   },
   "file_extension": ".py",
   "mimetype": "text/x-python",
   "name": "python",
   "nbconvert_exporter": "python",
   "pygments_lexer": "ipython2",
   "version": "2.7.6"
  }
 },
 "nbformat": 4,
 "nbformat_minor": 0
}
