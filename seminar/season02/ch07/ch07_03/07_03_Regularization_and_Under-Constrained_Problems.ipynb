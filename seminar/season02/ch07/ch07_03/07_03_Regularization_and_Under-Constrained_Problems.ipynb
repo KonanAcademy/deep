{
 "cells": [
  {
   "cell_type": "markdown",
   "metadata": {},
   "source": [
    "# Chapter 7 REGULARIZATION FOR DEEP LEARNING"
   ]
  },
  {
   "cell_type": "markdown",
   "metadata": {},
   "source": [
    "* 유주원"
   ]
  },
  {
   "cell_type": "markdown",
   "metadata": {},
   "source": [
    "# Chapter 7.3 Regularization and Under-Constrained Problems"
   ]
  },
  {
   "cell_type": "markdown",
   "metadata": {},
   "source": [
    "* machine learning에서의 많은 선형 모델들은 matrix XTX 의 역에 의존한다.\n",
    "* 하지만 XTX가 singular일 경우에는 불가능하며, 몇몇 방향에서는 분산이 없는 행렬 또는 column보다 row가 적은 행렬 같은 경우에는 singular 가 될 수 있다.\n",
    "* 이러한 경우에는 regularization의 많은 형태들은 XTX + aI 의 역으로 대신한다.\n",
    "* 이러한 regularized matrix는 역이 되는 것을 보장한다.\n",
    "* (In this case, many forms of regularization correspond to inverting XTX + aI instead. This regularized matrix is guaranteed to be invertible)\n",
    "* 대부분 역이 존재하는 행렬을 가진 선형 모델들은 closed form solution을 가지며, no closed form일 경우에는 underdetermined 하다.\n"
   ]
  },
  {
   "cell_type": "markdown",
   "metadata": {
    "collapsed": true
   },
   "source": [
    "* class들이 선형적으로 분리되어 있는 logistic regression이 있다고 치자.\n",
    "* 만약 weight vector w가 완벽하게 분류를 할 수 있다면, 2w는 완벽한 분류와 더 높은 likelihood를 가지게 될 것이다.\n",
    "* stochastic gradient descent 같은 반복적인 최적화 절차는 계속적으로 w의 크기를 증가시킬 것이고, 이론 상으로는 절대 중단되지 않을 것이다.\n",
    "\n",
    "* 대부분의 regularization은 underdetermined 문제를 해결하기 위해 반복에 대한 수렴을 보장한다.\n",
    "* 예를 들어 likelihood의 모양이 weight decay의 계수랑 같아지는 지점에서 gradient decent를 중지 시킨다든지..\n"
   ]
  },
  {
   "cell_type": "markdown",
   "metadata": {},
   "source": [
    "<img src=\"./figures/fig1.png\" width=\"100\" />\n",
    "<img src=\"./figures/fig2.png\" width=\"200\" />"
   ]
  },
  {
   "cell_type": "markdown",
   "metadata": {
    "collapsed": true
   },
   "source": [
    "* Moore-Penrose pseudoinverse를 통해 underdetermined linear equation을 풀 수 있다."
   ]
  },
  {
   "cell_type": "markdown",
   "metadata": {},
   "source": [
    "<img src=\"./figures/fig3.png\" width=\"300\" />"
   ]
  },
  {
   "cell_type": "code",
   "execution_count": null,
   "metadata": {
    "collapsed": true
   },
   "outputs": [],
   "source": []
  }
 ],
 "metadata": {
  "kernelspec": {
   "display_name": "python2",
   "language": "python",
   "name": "python2"
  },
  "language_info": {
   "codemirror_mode": {
    "name": "ipython",
    "version": 2
   },
   "file_extension": ".py",
   "mimetype": "text/x-python",
   "name": "python",
   "nbconvert_exporter": "python",
   "pygments_lexer": "ipython2",
   "version": "2.7.6"
  }
 },
 "nbformat": 4,
 "nbformat_minor": 0
}
