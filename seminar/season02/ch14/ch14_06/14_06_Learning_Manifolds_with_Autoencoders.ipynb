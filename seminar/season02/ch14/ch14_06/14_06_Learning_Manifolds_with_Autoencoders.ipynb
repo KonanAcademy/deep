{
 "cells": [
  {
   "cell_type": "markdown",
   "metadata": {},
   "source": [
    "# Chapter 14 Autoencoders"
   ]
  },
  {
   "cell_type": "markdown",
   "metadata": {},
   "source": [
    "* 유주원 \n",
    "<br><br>"
   ]
  },
  {
   "cell_type": "markdown",
   "metadata": {},
   "source": [
    "# Chapter 14.6 Learning Manifolds with Autoencoders"
   ]
  },
  {
   "cell_type": "markdown",
   "metadata": {},
   "source": [
    "* autoencoder는 sec5.11.3에서 설명한 바와 같이 저차원의 manifold 또는 이러한 manifold의 작은 집합 주변에 데이터를 집중시키는 개념을 이용한다.\n",
    "* manifold : 국소적으로 유클리드 공간과 닮은 위상 공간. 국소적으로 유클리드 공간과 구별할 수 없으나, 대역적으로 독특한 위상수학적 구조를 가지고 있다.\n",
    "* manifold 차원 : 국소적으로 유클리드 공간에 대응할 수 있는 차원. ex) 2차원 원 : 1차원 manifold, 3차원 구 : 2차원 평면.\n",
    "* manifold learning(sec5.11.3) : 여러 차원에 있는 점들의 유사도를 구하기 위해 새로운 평면에 점을 찍고, 이 평면에서의 euclidean distance와 실제 차이가 같도록 만들어나가는 것.\n",
    "* autoencoder는 이 아이디어를 이용해서 manifold의 구조를 학습하는 것을 목표로 한다.<br/>\n",
    "<img src=\"./figures/fig3.png\" />"
   ]
  },
  {
   "cell_type": "markdown",
   "metadata": {},
   "source": [
    "##### characteristics of manifolds\n",
    "* 어떻게 autoencoder가 동작하는지를 이해하기 위해서는 manifolds의 몇가지 중요한 특성을 알아야한다."
   ]
  },
  {
   "cell_type": "markdown",
   "metadata": {},
   "source": [
    "<img src=\"figures/fig1.png\" />"
   ]
  },
  {
   "cell_type": "markdown",
   "metadata": {
    "collapsed": true
   },
   "source": [
    "* 접평면 : 곡면 위의 점 P가 주어졌을 때, 점 P의 근방에서 곡면을 평면으로 근사시킨 것.\n",
    "* d 차원의 manifold 상에서의 점 x에 대해, 접평면은 d basis vector에 의해 주어지게 되고, d basis vector는 manifold 상에서의 local directions of variation들로 이루어진다.\n",
    "* 아래 그림을 보면, 이러한 local direction은 manifold 상에 있는 동안의 x가 어떻게 무한히 변화할 수 있는지를 명시한다."
   ]
  },
  {
   "cell_type": "markdown",
   "metadata": {},
   "source": [
    "<img src=\"./figures/fig2.png\" />"
   ]
  },
  {
   "cell_type": "markdown",
   "metadata": {
    "collapsed": true
   },
   "source": [
    "##### autoencoder training procedure\n",
    "* training 예제 x로부터 나타낼 수 있는 h를 학습하며, decoder를 통해 h로부터 대략적인 x를 복원할 수 있어야 한다. x를 training data로부터 가져온다는 것이 중요한데, 이 의미는 autoencoder가 완벽하게 재생성된 input을 필요로하지 않는다는 것을 의미한다.\n",
    "* 제약 조건 또는 정규화 패널티를 만족해야 한다. 이는 autoencoder의 capacity를 제한하는 구조적인 제약이 될 수 있거나, reconstruction cost에 추가되는 regularization term일 수 있다. \n",
    "* 이러한 기술들은 일반적으로 input에 덜 민감한 솔루션들을 선호한다.\n",
    "* 이 두 가지 원리는 data generating distribution의 구조에 대한 정보를 포착할 수 있기 때문에 상당히 유용하다."
   ]
  },
  {
   "cell_type": "markdown",
   "metadata": {},
   "source": [
    "* encoder는 input space X로부터 representation space로 매핑하는 것을 학습하는데, 이 매핑은 오직 manifold의 방향에 따른 변화에 대해서만 민감하고 manifold에 orthogonal한 변화에는 민감하지 않다.\n",
    "* 1차원 예가 아래 그림으로 나타나며, 데이터 포인트 주변의 input에 대한 작은 변화에 덜 민감하게 reconstruction function을 만듬으로써, manifold 구조를 복구할 수 있음을 보여준다.\n",
    "<img src=\"./figures/fig4.png\" />"
   ]
  },
  {
   "cell_type": "markdown",
   "metadata": {},
   "source": [
    "##### why autoencoders are useful for manifold learning\n",
    "* manifold의 특징을 학습하기 위한 가장 일반적인 방법으로 manifold 상의 data point를 표현하는 방법이 있었다.\n",
    "* 몇몇 알고리즘은 각각의 training 예제를 직접 학습하는 반면에, 다른 알고리즘들은 encoder 혹은 representation function 등을 이용해서 input 공간의 임의의 점을 매핑하는 것을 학습한다.\n",
    "* manifold learning은 주로 이러한 unsupervisord learning에 집중되어져 있다.\n",
    "\n",
    "##### nearest-neighbor graph\n",
    "* 비선형 manifold 학습에 대한 초기 연구는 대부분 가장 가까운 이웃 그래프를 기반으로 한 non-parametric 방법이었다.\n",
    "* 이 그래프는 training 예제마다 하나의 node를 가지며 주변과 연결되는 edge를 가진다.\n",
    "* 이 방법은 각각의 노드를 접평면과 연관시키는데, 이 접평면은 아래 그림에서처럼 이웃과 예제 사이의 차이 벡터와 관련된 directions of variation으로 구성되어 있다."
   ]
  },
  {
   "cell_type": "markdown",
   "metadata": {},
   "source": [
    "<img src=\"./figures/fig5.png\" />"
   ]
  },
  {
   "cell_type": "markdown",
   "metadata": {
    "collapsed": true
   },
   "source": [
    "##### global cooriunate system\n",
    "* global 좌표 시스템은 최적화 또는 선형시스템을 품으로써 얻을 수가 있다.\n",
    "* 아래 그림은 어떻게 manifold가 많은 수의 locally 선형 가우시안을 연결할 수 있는지를 보여준다.\n",
    "<img src=\"./figures/fig6.png\" />"
   ]
  },
  {
   "cell_type": "markdown",
   "metadata": {
    "collapsed": true
   },
   "source": [
    "##### difficulty with local non-parametric approaches\n",
    "* local non-parametric manifold learning은 근본적인 어려움이 있다.\n",
    "* manifold가 매끄럽지 않은 경우(peak와 twist가 많은 경우), 이러한 변형을 다루기 위해 많은 수의 training 예제가 필요할 수 있다.\n",
    "* 사실, 이 방법은 오직 이웃 예제 간의 interpolating에 의해서만 manifold의 모양을 일반화 할 수가 있다.\n",
    "* 불행하게도 AI 문제를 포함하고 있는 manifold의 경우 local interpolation으로는 포착하기 힘든 아주 복잡한 구조를 가질 수가 있다."
   ]
  },
  {
   "cell_type": "code",
   "execution_count": null,
   "metadata": {
    "collapsed": true
   },
   "outputs": [],
   "source": []
  }
 ],
 "metadata": {
  "kernelspec": {
   "display_name": "python2",
   "language": "python",
   "name": "python2"
  },
  "language_info": {
   "codemirror_mode": {
    "name": "ipython",
    "version": 2
   },
   "file_extension": ".py",
   "mimetype": "text/x-python",
   "name": "python",
   "nbconvert_exporter": "python",
   "pygments_lexer": "ipython2",
   "version": "2.7.6"
  }
 },
 "nbformat": 4,
 "nbformat_minor": 0
}
