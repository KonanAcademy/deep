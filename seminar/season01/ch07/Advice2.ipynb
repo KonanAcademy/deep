{
 "cells": [
  {
   "cell_type": "markdown",
   "metadata": {},
   "source": [
    "# Bias vs. Variance"
   ]
  },
  {
   "cell_type": "markdown",
   "metadata": {},
   "source": [
    "<img src=imgs/bv1.png />\n",
    "<img src=imgs/bv2.png />\n",
    "<img src=imgs/bv3.png />\n",
    "<img src=imgs/bv4.png />"
   ]
  },
  {
   "cell_type": "markdown",
   "metadata": {},
   "source": [
    "<img src=imgs/rglr1.png />\n",
    "<img src=imgs/rglr2.png />\n",
    "\n",
    "## 가장 작은 cv 에러를 리턴하는 lambda를 취한다.\n",
    "<img src=imgs/rglr3.png />\n",
    "<img src=imgs/rglr4.png />"
   ]
  },
  {
   "cell_type": "markdown",
   "metadata": {},
   "source": [
    "<img src=imgs/lcrv1.png />\n",
    "<img src=imgs/lcrv2.png />\n",
    "<img src=imgs/lcrv3.png />"
   ]
  },
  {
   "cell_type": "code",
   "execution_count": null,
   "metadata": {
    "collapsed": true
   },
   "outputs": [],
   "source": []
  }
 ],
 "metadata": {
  "kernelspec": {
   "display_name": "Python 3",
   "language": "python",
   "name": "python3"
  },
  "language_info": {
   "codemirror_mode": {
    "name": "ipython",
    "version": 3
   },
   "file_extension": ".py",
   "mimetype": "text/x-python",
   "name": "python",
   "nbconvert_exporter": "python",
   "pygments_lexer": "ipython3",
   "version": "3.5.1"
  }
 },
 "nbformat": 4,
 "nbformat_minor": 0
}
