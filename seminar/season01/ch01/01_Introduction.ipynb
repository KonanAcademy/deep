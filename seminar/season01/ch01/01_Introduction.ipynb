{
 "cells": [
  {
   "cell_type": "markdown",
   "metadata": {},
   "source": [
    "# Chapter 1. Introduction"
   ]
  },
  {
   "cell_type": "markdown",
   "metadata": {},
   "source": [
    "* 딥러닝 세미나 : 이론 [1]\n",
    "* 김무성"
   ]
  },
  {
   "cell_type": "markdown",
   "metadata": {},
   "source": [
    "### 참고\n",
    "#### 강좌\n",
    "* [1] DEEP LEARNING (Yoshua Bengio)- http://www.deeplearningbook.org/\n",
    "* [2] Neural Networks for Machine Learning (Geoffrey Hinton) -  https://class.coursera.org/neuralnets-2012-001\n",
    "* [3] Udacity's Deep Learning (Google) https://www.udacity.com/course/deep-learning--ud730\n",
    "* [4] CS231n: Convolutional Neural Networks for Visual Recognition (Fei-Fei Li) - http://cs231n.stanford.edu/\n",
    "* [5] CS224d: Deep Learning for Natural Language Processing (Richard Socher) - http://cs224d.stanford.edu/\n",
    "* [6] Coursera's Machine Learning (Andrew Ng) https://www.coursera.org/learn/machine-learning\n",
    "* [7] NYU's Deep Learning, Spring 2015 (Yann LeCun) http://cilvr.cs.nyu.edu/doku.php?id=courses:deeplearning2015:start\n",
    "\n",
    "#### 오픈소스\n",
    "* [8] 딥러닝 발전과 공유 정신 - https://brunch.co.kr/@justinleeanac/1\n",
    "* [9] Caffe - http://caffe.berkeleyvision.org/\n",
    "* [10] Theano (Yoshua Bengio) \n",
    "    - http://deeplearning.net/software/theano/\n",
    "    - http://deeplearning.net/tutorial/\n",
    "* [11] Torch (Yann LeCun, Facebook)- http://torch.ch/\n",
    "* [12] Tensorflow (Google) - https://www.tensorflow.org/\n",
    "* [13] CNTK (MS) - http://www.cntk.ai/"
   ]
  },
  {
   "cell_type": "markdown",
   "metadata": {},
   "source": [
    "# DEEP LEARNING"
   ]
  },
  {
   "cell_type": "markdown",
   "metadata": {},
   "source": [
    "## Table of Contents\n",
    "\n",
    "* 1 Introduction \n",
    "* PART I Applied math and machine learning basics \n",
    "    - 2 Linear Algebra \n",
    "    - 3 Probability and Information Theory\n",
    "    - 4 Numerical Computation\n",
    "    - 5 Machine Learning Basics\n",
    "* PART II Modern practical deep networks\n",
    "    - 6 Feedforward Deep Networks\n",
    "    - 7 Regularization\n",
    "    - 8 Optimization for Training Deep Models\n",
    "    - 9 Convolutional Networks\n",
    "    - 10 Sequence Modeling: Recurrent and Recursive Nets\n",
    "    - 11 Practical methodology\n",
    "    - 12 Applications\n",
    "* PART III Deep learning research\n",
    "    - 13 Linear Factor Models\n",
    "    - 14 Autoencoders\n",
    "    - 15 Representation Learning\n",
    "    - 16 Structured Probabilistic Models for Deep Learning\n",
    "    - 17 Monte Carlo Methods\n",
    "    - 18 Confronting the Partition Function\n",
    "    - 19 Approximate Inference\n",
    "    - 20 Deep Generative Models"
   ]
  },
  {
   "cell_type": "markdown",
   "metadata": {},
   "source": [
    "# Chapter 1. Introduction [1]"
   ]
  },
  {
   "cell_type": "markdown",
   "metadata": {},
   "source": [
    "# Contents"
   ]
  },
  {
   "cell_type": "markdown",
   "metadata": {},
   "source": [
    "* 1.1 Who Should Read This Book?\n",
    "* 1.2 Historical Trends in Deep Learning"
   ]
  },
  {
   "cell_type": "markdown",
   "metadata": {},
   "source": [
    "## Keywords"
   ]
  },
  {
   "cell_type": "markdown",
   "metadata": {},
   "source": [
    "* artificial intelligence (AI)\n",
    "* knowledge base approach\n",
    "* machine learning\n",
    "* feature\n",
    "* hand-designed representations\n",
    "* representation learning\n",
    "* factors of variation\n",
    "* Deep learning"
   ]
  },
  {
   "cell_type": "markdown",
   "metadata": {},
   "source": [
    "<img src=\"figures/fig1.1.png\" width=600 />"
   ]
  },
  {
   "cell_type": "markdown",
   "metadata": {},
   "source": [
    "<img src=\"figures/fig1.2.png\" width=600 />"
   ]
  },
  {
   "cell_type": "markdown",
   "metadata": {},
   "source": [
    "<img src=\"figures/fig1.3.png\" width=600 />"
   ]
  },
  {
   "cell_type": "markdown",
   "metadata": {},
   "source": [
    "<img src=\"figures/fig1.4.png\" width=600 />"
   ]
  },
  {
   "cell_type": "markdown",
   "metadata": {},
   "source": [
    "# 1.1 Who Should Read This Book?"
   ]
  },
  {
   "cell_type": "markdown",
   "metadata": {},
   "source": [
    "* One of these target audiences is <font color=\"red\">university students (undergraduate or graduate) learning about machine learning</font>, including those who are beginning a career in deep learning and artificial intelligence research. \n",
    "* The other target audience is <font color=\"red\">software engineers who do not have a machine learning or statistics background</font>, but want to rapidly acquire one and begin using deep learning in their product or platform."
   ]
  },
  {
   "cell_type": "markdown",
   "metadata": {},
   "source": [
    "* This book has been organized into three parts in order to best accommodate a variety of readers. \n",
    "    - Part 1 introduces basic mathematical tools and machine learning concepts. \n",
    "    - Part 2 describes the most established deep learning algorithms that are essentially solved technologies. \n",
    "    - Part 3 describes more speculative ideas that are widely believed to be important for future research in deep learning."
   ]
  },
  {
   "cell_type": "markdown",
   "metadata": {},
   "source": [
    "# 1.2 Historical Trends in Deep Learning"
   ]
  },
  {
   "cell_type": "markdown",
   "metadata": {},
   "source": [
    "* artificial neural networks, parallel distributed processing, connectionism\n",
    "* inspiration from the brain\n",
    "    -  Beyond that, it is difficult to say how similar the two are, and unlikely that they have many similarities, and our knowledge of the brain does not give very specific guidance for improving deep learning.\n",
    "* Deep learning has now drawn considerably useful insights from many fields other than neuroscience, including\n",
    "    - structured probabilistic models\n",
    "    - manifold learning\n",
    "    - and the modern terminology aims to avoid implying that only one field has inspired the current algorithms.\n",
    "* the age of “Big Data”\n",
    "* GPUs\n",
    "* Sart! Perceptron and ADALINE etc.. -> back-propagation algorithm \n",
    "* Winter! VS hand-designing domain-specific features became the typical approach to practical applications : Kernel machines + graphical models\n",
    "* Boom! Research groups led by Geoffrey Hinton at University of Toronto, Yoshua Bengio at University of Montreal, and Yann LeCun at New York University re-popularized neural networks re-branded as “deep learning” beginning in 2006."
   ]
  },
  {
   "cell_type": "markdown",
   "metadata": {},
   "source": [
    "<img src=\"figures/fig1.5.png\" width=600 />"
   ]
  },
  {
   "cell_type": "markdown",
   "metadata": {},
   "source": [
    "<img src=\"figures/fig1.6.png\" width=600 />"
   ]
  },
  {
   "cell_type": "markdown",
   "metadata": {},
   "source": [
    "<img src=\"figures/fig1.7.png\" width=600 />"
   ]
  },
  {
   "cell_type": "markdown",
   "metadata": {},
   "source": [
    "<img src=\"figures/fig1.8.png\" width=600 />\n",
    "<img src=\"figures/fig1.9.png\" width=600 />"
   ]
  },
  {
   "cell_type": "markdown",
   "metadata": {},
   "source": [
    "# 참고자료"
   ]
  },
  {
   "cell_type": "markdown",
   "metadata": {},
   "source": [
    "#### 강좌\n",
    "* [1] DEEP LEARNING (Yoshua Bengio)- http://www.deeplearningbook.org/\n",
    "* [2] Neural Networks for Machine Learning (Geoffrey Hinton) -  https://class.coursera.org/neuralnets-2012-001\n",
    "* [3] Udacity's Deep Learning (Google) https://www.udacity.com/course/deep-learning--ud730\n",
    "* [4] CS231n: Convolutional Neural Networks for Visual Recognition (Fei-Fei Li) - http://cs231n.stanford.edu/\n",
    "* [5] CS224d: Deep Learning for Natural Language Processing (Richard Socher) - http://cs224d.stanford.edu/\n",
    "* [6] Coursera's Machine Learning (Andrew Ng) https://www.coursera.org/learn/machine-learning\n",
    "* [7] NYU's Deep Learning, Spring 2015 (Yann LeCun) http://cilvr.cs.nyu.edu/doku.php?id=courses:deeplearning2015:start\n",
    "\n",
    "#### 오픈소스\n",
    "* [8] 딥러닝 발전과 공유 정신 - https://brunch.co.kr/@justinleeanac/1\n",
    "* [9] Caffe - http://caffe.berkeleyvision.org/\n",
    "* [10] Theano (Yoshua Bengio) \n",
    "    - http://deeplearning.net/software/theano/\n",
    "    - http://deeplearning.net/tutorial/\n",
    "* [11] Torch (Yann LeCun, Facebook)- http://torch.ch/\n",
    "* [12] Tensorflow (Google) - https://www.tensorflow.org/\n",
    "* [13] CNTK (MS) - http://www.cntk.ai/"
   ]
  }
 ],
 "metadata": {
  "kernelspec": {
   "display_name": "Python 2",
   "language": "python",
   "name": "python2"
  },
  "language_info": {
   "codemirror_mode": {
    "name": "ipython",
    "version": 2
   },
   "file_extension": ".py",
   "mimetype": "text/x-python",
   "name": "python",
   "nbconvert_exporter": "python",
   "pygments_lexer": "ipython2",
   "version": "2.7.10"
  }
 },
 "nbformat": 4,
 "nbformat_minor": 0
}
