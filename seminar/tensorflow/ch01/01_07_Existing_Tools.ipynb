{
 "cells": [
  {
   "cell_type": "markdown",
   "metadata": {},
   "source": [
    "# Chapter 1 A machine-learning odyssey"
   ]
  },
  {
   "cell_type": "markdown",
   "metadata": {},
   "source": [
    "* 유주원"
   ]
  },
  {
   "cell_type": "markdown",
   "metadata": {},
   "source": [
    "# Chapter 1.7 Existing Tools"
   ]
  },
  {
   "cell_type": "markdown",
   "metadata": {},
   "source": [
    "* 가장 쉽게 machine learning과 data 분석을 할 수 있는 방법으로 python library인 scikit-learn(http://scikit-learn.org)을 이용하는 방법이 있다.\n",
    "* scikit-learn에서는 주로 numpy, scipy, matplotlib 등의 python library 들을 사용하고 있으며, 간단하고 쉽게 사용할 수 있도록 만들어져 있다.\n",
    "* 하지만 상대적으로 low-level의 language이기 때문에 정교한 알고리즘을 작성할 때에 쉽게 버그를 만들 수가 있다.\n",
    "* 직접 interacting 하는 scikit-learn 대신에 보다 high-level library인 tensorflow, theano, caffe 등을 사용하는 것이 더 좋다.\n",
    " <img src=\"./figures/fig1.png\" /><br>\n",
    "\n",
    "* Tensorflow가 2015년 11월에 release 되었는데, 아래의 라이브러리들은 그 이전에 사용된 machine learning library들에 대한 설명을 나타낸다.\n",
    "\n",
    "#### <font color=\"0000FF\">Theano</font>\n",
    "* 수년에 거쳐, machine learning 종사자들은 잘 알려진 neural networks를 Theano 상에서 구현을 해 왔다.\n",
    "* 설계과 구현을 구분하기 위해 symbolic graph를 사용했고, 개발 환경은 python으로 되어 있어서, 쉽게 접근할 수가 있다.\n",
    "* 하지만 customizing을 위한 지원이 거의 없으며, 매 시간마다 compile code를 생성해야 하기 때문에 빠른 prototype을 만드는데 제약이 있다.\n",
    "\n",
    "#### <font color=\"0000FF\">Caffe</font>\n",
    "* 간단한 python interface를 사용하기 때문에 사용자 interface가 쉬우며, 그보다 복잡한 알고리즘 같은 경우에는 C++로 개발이 되어 있다.\n",
    "* 대부분의 platform이 C++을 지원하기 때문에 배포에 용이하다.\n",
    "* 하지만 caffe의 주 목적은 image 처리에 있으며, text나 time-series data 같은 경우에는 caffe로 처리하기에는 부자연스럽다.\n",
    "\n",
    "#### <font color=\"0000FF\">Torch</font>\n",
    "* Lua programming language를 사용한다.\n",
    "* 대부분의 개발자에게 Lua는 생소한 언어이기 때문에 사용에 risk가 있다.\n",
    "* 하지만 touch는 강력한 optimization solver를 지원하기 때문에 일부러 바퀴를 재발명할 필요가 없다.\n",
    " \n",
    "#### <font color=\"0000FF\">Computational Graph Toolkit</font>\n",
    "* Berkeley California 대학에 있는 lab에서 machine learning에서 종종 사용되는 graph operation을 일반화한 형태로 제공하여 출시.\n",
    "* Theano와 비슷한 특징을 가지지만, 병렬에 중점을 두고 있다.\n",
    "* document가 극히 희박하고, community도 Theano와 Caffe만큼 활성화되어 있지 않다."
   ]
  },
  {
   "cell_type": "markdown",
   "metadata": {
    "collapsed": true
   },
   "source": [
    "# Chapter 1.8 TensorFlow"
   ]
  },
  {
   "cell_type": "markdown",
   "metadata": {
    "collapsed": true
   },
   "source": [
    "* Google이 2015 년 말에 Apache 2.0 license에 기반한 TensorFlow를 open-source로 공개했다.\n",
    "* 기존에 Google에서 만든 DistBelief라는 것이 있었는데, DistBelief는 Google의 internal resource에 밀접한 영향을 받고 있어서 코드 공개가 어려웠고, 그래서 2세대 machine learning인 tensorflow를 만들었다.\n",
    "* Tensorflow는 C++로 구현이 되어 있고, 편리한 python API를 제공한다. 결과적으로 의존성이 단순해지기 때문에 다양한 시스템에 빠르게 배포될 수가 있다.\n",
    "* Theano와 유사하게, 계산 과정이 flowcharts로 묘사가 되는데, 이는 구현과 설계를 구분 짓기 위함이다.\n",
    "* Tensorflow의 중요한 특징 중 하나는 automatic differentiation(자동 미분) 이다. \n",
    "* automatic differentiation을 통해 좀 더 쉽게 backpropagation을 구현할 수가 있다. Tensorflow에서는 backpropagation의 상세적인 내용을 숨김으로써 사용자가 보다 큰 그림을 그릴 수 있게 해준다. \n",
    "* Tensorflow의 또 다른 특징으로 TensorBoard라고 불리는 interactive visualization environment이다.\n",
    "* TensorBoard를 통해 어떻게 데이터가 변형되는지, 시간 축에서의 log data, 성능 trace 등을 해 볼 수가 있다.\n",
    "<img src=\"./figures/fig2.png\" />"
   ]
  },
  {
   "cell_type": "markdown",
   "metadata": {},
   "source": [
    "* Tensorflow는 대부분의 operation들이 사전에 컴파일이 되어 있기 때문에 Theano와 달리 prototype을 빠르게 만들 수가 있다.\n",
    "* 또한 subgraph의 실행만으로 쉽게 debugging이 가능하다. 이 의미는 재계산 없이 전체의 segment 계산이 재사용될 수 있다는 것을 말한다.\n",
    "* Tensorflow에 오직 neural network만이 있는 것은 아니며, matrix 연산 및 manipulation 도구로도 사용할 수가 있다. \n",
    "* Torch나 Caffe 같이 오직 deep neural network 용으로만 설계된 게 아니라 더 유연하다.\n",
    "* library는 문서화가 잘 되어 있고, 공식적으로 google에 의해 지원된다."
   ]
  },
  {
   "cell_type": "markdown",
   "metadata": {},
   "source": [
    "# Chapter 1.9 Overview of future chapters"
   ]
  },
  {
   "cell_type": "markdown",
   "metadata": {},
   "source": [
    "* chapter 3-6은 Tensorflow 내에서 어떻게 machine learning 알고리즘이 구현되었는지를 보여주며, 7-11은 neural network 기반의 알고리즘에 대해 설명한다.\n",
    "* 이러한 알고리즘을 통해 예측, 분류, clustering, 차원 축소 등의 다양한 문제를 해결할 수 있다.\n",
    "<img src =\"./figures/fig3.png\" />\n",
    "<img src =\"./figures/fig4.png\" />"
   ]
  },
  {
   "cell_type": "markdown",
   "metadata": {
    "collapsed": true
   },
   "source": [
    "# Chapter 1.10 Summary"
   ]
  },
  {
   "cell_type": "markdown",
   "metadata": {},
   "source": [
    "* machine learning은 새로운 input에 대해 올바른 결과를 도출하기 위해 example을 사용하는 것을 말한다.\n",
    "* ML의 핵심은 더 많은 training data로 성능을 향상시키는 것이다.\n",
    "* 수년 동안 학자들은 대부분의 문제에 부합되는 3가지 유형을 만들었다. : supervised learning, unsupervised learning, reinforcement learning.\n",
    "* machine learning 상에서 실세계의 문제가 반영이 되면, 수많은 알고리즘을 통해 이를 풀 수 있다. 구현을 위해 우리는 많은 software library와 framework 중에서 TensorFlow를 선택했다. google에 의해 개발되었고, 거대한 커뮤니티의 지원을 받는 Tensorflow는 우리에게 쉽게 구현할 수 있도록 도움을 줄 것이다.\n",
    "\n",
    "* 다음 장에서는 Tensorflow를 이용해서 library를 사용해 볼 것이다."
   ]
  },
  {
   "cell_type": "code",
   "execution_count": null,
   "metadata": {
    "collapsed": true
   },
   "outputs": [],
   "source": []
  }
 ],
 "metadata": {
  "kernelspec": {
   "display_name": "python2",
   "language": "python",
   "name": "python2"
  },
  "language_info": {
   "codemirror_mode": {
    "name": "ipython",
    "version": 2
   },
   "file_extension": ".py",
   "mimetype": "text/x-python",
   "name": "python",
   "nbconvert_exporter": "python",
   "pygments_lexer": "ipython2",
   "version": "2.7.6"
  }
 },
 "nbformat": 4,
 "nbformat_minor": 0
}
